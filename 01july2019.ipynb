{
 "cells": [
  {
   "cell_type": "code",
   "execution_count": 26,
   "metadata": {},
   "outputs": [
    {
     "data": {
      "text/html": [
       "<div>\n",
       "<style scoped>\n",
       "    .dataframe tbody tr th:only-of-type {\n",
       "        vertical-align: middle;\n",
       "    }\n",
       "\n",
       "    .dataframe tbody tr th {\n",
       "        vertical-align: top;\n",
       "    }\n",
       "\n",
       "    .dataframe thead th {\n",
       "        text-align: right;\n",
       "    }\n",
       "</style>\n",
       "<table border=\"1\" class=\"dataframe\">\n",
       "  <thead>\n",
       "    <tr style=\"text-align: right;\">\n",
       "      <th></th>\n",
       "      <th>GEOID</th>\n",
       "      <th>State</th>\n",
       "      <th>2005</th>\n",
       "      <th>2006</th>\n",
       "      <th>2007</th>\n",
       "      <th>2008</th>\n",
       "      <th>2009</th>\n",
       "      <th>2010</th>\n",
       "      <th>2011</th>\n",
       "      <th>2012</th>\n",
       "      <th>2013</th>\n",
       "    </tr>\n",
       "  </thead>\n",
       "  <tbody>\n",
       "    <tr>\n",
       "      <th>0</th>\n",
       "      <td>04000US01</td>\n",
       "      <td>Alabama</td>\n",
       "      <td>37150</td>\n",
       "      <td>37952</td>\n",
       "      <td>42212</td>\n",
       "      <td>44476</td>\n",
       "      <td>39980</td>\n",
       "      <td>40933</td>\n",
       "      <td>42590</td>\n",
       "      <td>43464</td>\n",
       "      <td>41381</td>\n",
       "    </tr>\n",
       "    <tr>\n",
       "      <th>1</th>\n",
       "      <td>04000US02</td>\n",
       "      <td>Alaska</td>\n",
       "      <td>55891</td>\n",
       "      <td>56418</td>\n",
       "      <td>62993</td>\n",
       "      <td>63989</td>\n",
       "      <td>61604</td>\n",
       "      <td>57848</td>\n",
       "      <td>57431</td>\n",
       "      <td>63648</td>\n",
       "      <td>61137</td>\n",
       "    </tr>\n",
       "    <tr>\n",
       "      <th>2</th>\n",
       "      <td>04000US04</td>\n",
       "      <td>Arizona</td>\n",
       "      <td>45245</td>\n",
       "      <td>46657</td>\n",
       "      <td>47215</td>\n",
       "      <td>46914</td>\n",
       "      <td>45739</td>\n",
       "      <td>46896</td>\n",
       "      <td>48621</td>\n",
       "      <td>47044</td>\n",
       "      <td>50602</td>\n",
       "    </tr>\n",
       "    <tr>\n",
       "      <th>3</th>\n",
       "      <td>04000US05</td>\n",
       "      <td>Arkansas</td>\n",
       "      <td>36658</td>\n",
       "      <td>37057</td>\n",
       "      <td>40795</td>\n",
       "      <td>39586</td>\n",
       "      <td>36538</td>\n",
       "      <td>38587</td>\n",
       "      <td>41302</td>\n",
       "      <td>39018</td>\n",
       "      <td>39919</td>\n",
       "    </tr>\n",
       "    <tr>\n",
       "      <th>4</th>\n",
       "      <td>04000US06</td>\n",
       "      <td>California</td>\n",
       "      <td>51755</td>\n",
       "      <td>55319</td>\n",
       "      <td>55734</td>\n",
       "      <td>57014</td>\n",
       "      <td>56134</td>\n",
       "      <td>54283</td>\n",
       "      <td>53367</td>\n",
       "      <td>57020</td>\n",
       "      <td>57528</td>\n",
       "    </tr>\n",
       "  </tbody>\n",
       "</table>\n",
       "</div>"
      ],
      "text/plain": [
       "       GEOID       State   2005   2006   2007   2008   2009   2010   2011  \\\n",
       "0  04000US01     Alabama  37150  37952  42212  44476  39980  40933  42590   \n",
       "1  04000US02      Alaska  55891  56418  62993  63989  61604  57848  57431   \n",
       "2  04000US04     Arizona  45245  46657  47215  46914  45739  46896  48621   \n",
       "3  04000US05    Arkansas  36658  37057  40795  39586  36538  38587  41302   \n",
       "4  04000US06  California  51755  55319  55734  57014  56134  54283  53367   \n",
       "\n",
       "    2012   2013  \n",
       "0  43464  41381  \n",
       "1  63648  61137  \n",
       "2  47044  50602  \n",
       "3  39018  39919  \n",
       "4  57020  57528  "
      ]
     },
     "execution_count": 26,
     "metadata": {},
     "output_type": "execute_result"
    }
   ],
   "source": [
    "filepath='DataFiles/income.csv'\n",
    "import pandas as pd\n",
    "def readcsvdata(filepath):\n",
    "    return pd.read_csv(filepath)\n",
    "incomedf=readcsvdata(filepath)\n",
    "incomedf"
   ]
  },
  {
   "cell_type": "code",
   "execution_count": 28,
   "metadata": {},
   "outputs": [
    {
     "name": "stdout",
     "output_type": "stream",
     "text": [
      "average income of California: 48525\n"
     ]
    }
   ],
   "source": [
    "#Function to print average income of all states from 2005 to 2013\n",
    "def avgofallstatesincome(df):\n",
    "    sum=0\n",
    "    count=0\n",
    "    for i in range(len(df.values)):\n",
    "        \n",
    "        for j in range(2,len(df.columns)):\n",
    "            sum+=df.values[i][j]\n",
    "            count+=1\n",
    "    avg=sum//count\n",
    "    print(\"average income of \"+df.values[i][1]+\":\",avg)\n",
    "    return\n",
    "avgofallstatesincome(incomedf)\n",
    "        "
   ]
  },
  {
   "cell_type": "code",
   "execution_count": 29,
   "metadata": {},
   "outputs": [
    {
     "name": "stdout",
     "output_type": "stream",
     "text": [
      "42478\n",
      "60738\n",
      "48755\n",
      "40079\n",
      "55971\n",
      "Alaska\n"
     ]
    }
   ],
   "source": [
    "# State with highest average income in the last three years\n",
    "def highestavgincomestate(df):\n",
    "    \n",
    "    average=0\n",
    "    for i in range(len(df.values)):\n",
    "        sum=0\n",
    "        for j in range(8,11):\n",
    "            sum+=df.values[i][j]\n",
    "        avg=sum//3\n",
    "        print(avg)\n",
    "        if avg>average:\n",
    "            average=avg\n",
    "            row=i\n",
    "    print(df.values[row][1])\n",
    "    return\n",
    "highestavgincomestate(incomedf)"
   ]
  },
  {
   "cell_type": "code",
   "execution_count": 9,
   "metadata": {},
   "outputs": [],
   "source": [
    "\n",
    "def getColumnIndex(df,columnkey):\n",
    "    for i in range(len(df.columns)):\n",
    "        if df.columns[i]==columnkey:\n",
    "            columnindex=i\n",
    "    return columnindex"
   ]
  },
  {
   "cell_type": "code",
   "execution_count": 30,
   "metadata": {},
   "outputs": [
    {
     "name": "stdout",
     "output_type": "stream",
     "text": [
      "{'Alabama': 41900, 'Alaska': 61608, 'Arizona': 46691, 'Arkansas': 38876, 'California': 55791}\n",
      "state with lowest average income from 2007 to 2010 : Arkansas\n"
     ]
    }
   ],
   "source": [
    "# Function to print state with lowest average income from 2007 to 2010(inclusive)\n",
    "def lowestavgincomerangestate(df,sy,ey):\n",
    "    si=getColumnIndex(df,sy)\n",
    "    ei=getColumnIndex(df,ey)\n",
    "    li={}\n",
    "    for row in df.values:\n",
    "        sum=0\n",
    "        count=0\n",
    "        for i in range(si,ei+1):\n",
    "            sum+=row[i]\n",
    "            count+=1\n",
    "        li[row[1]]=sum//count\n",
    "    print(li)\n",
    "    low=min(li.values())\n",
    "    for i in li.items():\n",
    "        if i[1]==low:\n",
    "            print(\"state with lowest average income from\", sy,\"to\",ey,\":\",i[0])\n",
    "    return\n",
    "lowestavgincomerangestate(incomedf,'2007','2010')\n",
    "        \n",
    "        \n",
    "        "
   ]
  },
  {
   "cell_type": "code",
   "execution_count": 31,
   "metadata": {},
   "outputs": [
    {
     "name": "stdout",
     "output_type": "stream",
     "text": [
      "Alabama Arizona Arkansas "
     ]
    }
   ],
   "source": [
    "# Print the list of all states in the same line with average income less than California\n",
    "def StatesWithAvgIncomeLessthanCalfornia(df):\n",
    "    li={}\n",
    "    for i in range(len(df.values)):\n",
    "        sum=0\n",
    "        count=0\n",
    "        for j in range(2,len(df.columns)):\n",
    "            sum+=df.values[i][j]\n",
    "            count+=1\n",
    "        avg=sum/count\n",
    "        li[df.values[i][1]]=avg\n",
    "    calfornia_avg=li[\"California\"]\n",
    "    for item in li.items():\n",
    "        if item[1]<calfornia_avg:\n",
    "            print(item[0],end=\" \")\n",
    "    return\n",
    "StatesWithAvgIncomeLessthanCalfornia(incomedf)"
   ]
  },
  {
   "cell_type": "code",
   "execution_count": null,
   "metadata": {},
   "outputs": [],
   "source": []
  },
  {
   "cell_type": "code",
   "execution_count": 32,
   "metadata": {},
   "outputs": [
    {
     "name": "stdout",
     "output_type": "stream",
     "text": [
      "Alaska\n",
      "California\n",
      "Arizona\n",
      "Alabama\n",
      "Arkansas\n"
     ]
    }
   ],
   "source": [
    "# Function to Print the names of states based on descending order of income in the year 2009\n",
    "def descendingStates2009(df):\n",
    "    key=getColumnIndex(df,\"2009\")\n",
    "    li={}\n",
    "    for i in df.values:\n",
    "        li[i[1]]=i[key]\n",
    "    val=sorted(li.values(),reverse=True)\n",
    "    for i in val:\n",
    "        for item in li.items():\n",
    "            if item[1]==i:\n",
    "                print(item[0])\n",
    "    return\n",
    "descendingStates2009(incomedf)      "
   ]
  },
  {
   "cell_type": "code",
   "execution_count": 18,
   "metadata": {},
   "outputs": [],
   "source": [
    "def getRowIndex(df,rowkey):\n",
    "    for i in range(len(df.values)):\n",
    "        if df.values[i][0]==rowkey or df.values[i][1]==rowkey:\n",
    "            rowindex=i\n",
    "    return rowindex\n"
   ]
  },
  {
   "cell_type": "code",
   "execution_count": 22,
   "metadata": {},
   "outputs": [
    {
     "name": "stdout",
     "output_type": "stream",
     "text": [
      "Arkansas\n"
     ]
    }
   ],
   "source": [
    "# Function to print the State with the lowest recorded income from 2005 to 2013\n",
    "def LowIncomeStateInRange(df):\n",
    "    li=[]\n",
    "    for row in df.values:\n",
    "        for j in range(2,11):\n",
    "            li.append(row[j])\n",
    "    \n",
    "    minincome=min(li)\n",
    "    for row in df.values:\n",
    "        for j in range(2,11):\n",
    "            if minincome==row[j]:\n",
    "                print(row[1])\n",
    "    return\n",
    "\n",
    "LowIncomeStateInRange(incomedf)"
   ]
  },
  {
   "cell_type": "code",
   "execution_count": null,
   "metadata": {},
   "outputs": [],
   "source": []
  },
  {
   "cell_type": "code",
   "execution_count": null,
   "metadata": {},
   "outputs": [],
   "source": []
  }
 ],
 "metadata": {
  "kernelspec": {
   "display_name": "Python 3",
   "language": "python",
   "name": "python3"
  },
  "language_info": {
   "codemirror_mode": {
    "name": "ipython",
    "version": 3
   },
   "file_extension": ".py",
   "mimetype": "text/x-python",
   "name": "python",
   "nbconvert_exporter": "python",
   "pygments_lexer": "ipython3",
   "version": "3.7.3"
  }
 },
 "nbformat": 4,
 "nbformat_minor": 2
}
