{
 "cells": [
  {
   "cell_type": "markdown",
   "metadata": {},
   "source": [
    "# problem solving and programming in python\n",
    "#### Date 12 june 2019\n",
    "#### Day Objectives\n",
    "- String Slicing\n",
    "- Functions in python\n",
    "- Basic problems related to conditional statements using functions\n",
    "- Iteration in python\n",
    "- Python Data structures -Lists,Tuples and Dictionaries\n",
    "- operations on data structures\n",
    "   - Applying Data structures to solve problems\n"
   ]
  },
  {
   "cell_type": "code",
   "execution_count": null,
   "metadata": {},
   "outputs": [],
   "source": []
  },
  {
   "cell_type": "markdown",
   "metadata": {},
   "source": [
    "### String Slicing"
   ]
  },
  {
   "cell_type": "code",
   "execution_count": 1,
   "metadata": {},
   "outputs": [
    {
     "data": {
      "text/plain": [
       "'ytho'"
      ]
     },
     "execution_count": 1,
     "metadata": {},
     "output_type": "execute_result"
    }
   ],
   "source": [
    "s1='python'\n",
    "s1[0] #Accessing the first character in a string\n",
    "s1[1] #Accessing the second character in a string\n",
    "s1[len(s1)-1]  #Accessing the last character in a string\n",
    "s1[-1]  #Another way of accessing the last character in a string\n",
    "s1[-2]  #Accessing the penultimate character of a string\n",
    "s1[0:2] #Accessing the first two characters of a string\n",
    "s1[-2:] #Accessing the last two characters of a string\n",
    "s1[4:]   #Accessing all characters 5th character to end of string\n",
    "s1[1:-1]  #Accessing all characters except first and last characters\n",
    "s1[len(s1)//2]  #Accessing middle character of odd length stirng, // is for integer division\n",
    "s1[-1::-1]     #Reverse of a string\n",
    "s1[-1:-3:-1]#Accessing last two characters in reverse order\n",
    "s1[len(s1)//2:(len(s1)//2)-2:-1] #Reverse the middle two characters in an even length string\n",
    "s1[::2]#Accessing alternate characters in a string\n",
    "s1[::-2]#Accessing alternate characters in reverse order\n"
   ]
  },
  {
   "cell_type": "markdown",
   "metadata": {},
   "source": [
    "## Functions in python"
   ]
  },
  {
   "cell_type": "code",
   "execution_count": 34,
   "metadata": {},
   "outputs": [
    {
     "data": {
      "text/plain": [
       "'nohtyp'"
      ]
     },
     "execution_count": 34,
     "metadata": {},
     "output_type": "execute_result"
    }
   ],
   "source": [
    "#Function to reverse a string\n",
    "def reverseString(s):\n",
    "    return s[::-1]\n",
    "reverseString(\"python\")"
   ]
  },
  {
   "cell_type": "code",
   "execution_count": 37,
   "metadata": {},
   "outputs": [
    {
     "data": {
      "text/plain": [
       "True"
      ]
     },
     "execution_count": 37,
     "metadata": {},
     "output_type": "execute_result"
    }
   ],
   "source": [
    "#Function to check if a string is a palindrome\n",
    "def palindrome(s):\n",
    "    if s==s[::-1]:\n",
    "        return True\n",
    "    else:\n",
    "        return False\n",
    "palindrome(\"amma\")"
   ]
  },
  {
   "cell_type": "code",
   "execution_count": 38,
   "metadata": {},
   "outputs": [
    {
     "data": {
      "text/plain": [
       "True"
      ]
     },
     "execution_count": 38,
     "metadata": {},
     "output_type": "execute_result"
    }
   ],
   "source": [
    "#function to check if a given year is a leap year\n",
    "def isleapyear(year):\n",
    "    if year%400==0 or(year%100!=0 and year%4==0):\n",
    "        return True\n",
    "    else:\n",
    "        return False\n",
    "isleapyear(2008)\n",
    "    "
   ]
  },
  {
   "cell_type": "code",
   "execution_count": 39,
   "metadata": {},
   "outputs": [
    {
     "data": {
      "text/plain": [
       "5"
      ]
     },
     "execution_count": 39,
     "metadata": {},
     "output_type": "execute_result"
    }
   ],
   "source": [
    "#Function to count the number of digits in a given number\n",
    "def countdigit(n):\n",
    "    count=len(str(n))\n",
    "    return count\n",
    "countdigit(12345)"
   ]
  },
  {
   "cell_type": "code",
   "execution_count": 41,
   "metadata": {},
   "outputs": [
    {
     "data": {
      "text/plain": [
       "234"
      ]
     },
     "execution_count": 41,
     "metadata": {},
     "output_type": "execute_result"
    }
   ],
   "source": [
    "#Function to identify the greatest of 4 numbers\n",
    "def greatest(a,b,c,d):\n",
    "    if a>b and a>c and a>d:\n",
    "        return a\n",
    "    elif b>c and b>d:\n",
    "        return b\n",
    "    elif c>d:\n",
    "        return c\n",
    "    else:\n",
    "        return d\n",
    "greatest(23,43,234,56)"
   ]
  },
  {
   "cell_type": "markdown",
   "metadata": {},
   "source": [
    "### Iteration in python\n",
    "- for\n",
    "- while"
   ]
  },
  {
   "cell_type": "code",
   "execution_count": 1,
   "metadata": {},
   "outputs": [
    {
     "name": "stdout",
     "output_type": "stream",
     "text": [
      "1 2 3 4 5 6 7 8 9 10 "
     ]
    }
   ],
   "source": [
    "#Function to print n natural numbers\n",
    "def nNaturalNumbers(n):\n",
    "    for i in range(1,n+1):\n",
    "        print(i,end=\" \")\n",
    "    return\n",
    "nNaturalNumbers(10)"
   ]
  },
  {
   "cell_type": "code",
   "execution_count": 5,
   "metadata": {},
   "outputs": [
    {
     "name": "stdout",
     "output_type": "stream",
     "text": [
      "500 504 508 512 516 520 524 "
     ]
    }
   ],
   "source": [
    "#Function to print the alternate values in a range in the same line\n",
    "#[500,550] -> 500 502 504 .......550 ,square brackets represents inclusive set\n",
    "#(500,550) -> 501 503 505 .......549,paranthesis represents exclusive set\n",
    "#range(500,550) ->500 501 502.........549\n",
    "#All set based functions in python have start value inclusive and end value is exclusive \n",
    "def alternatevalues(lb,ub):\n",
    "    for i in range(lb,ub+1,2):\n",
    "        print(i,end=\" \")\n",
    "        \n",
    "    return\n",
    "alternatevalues(500,525)\n",
    "        "
   ]
  },
  {
   "cell_type": "code",
   "execution_count": 9,
   "metadata": {},
   "outputs": [
    {
     "name": "stdout",
     "output_type": "stream",
     "text": [
      "10 9 8 7 6 5 4 3 2 1 "
     ]
    }
   ],
   "source": [
    "#Function to print reverse of given range in the same line\n",
    "def reverserange(lb,ub):\n",
    "    for i in range(ub,lb-1,-1):\n",
    "        print(i,end=\" \")\n",
    "    return\n",
    "reverserange(1,10)"
   ]
  },
  {
   "cell_type": "code",
   "execution_count": 12,
   "metadata": {},
   "outputs": [
    {
     "name": "stdout",
     "output_type": "stream",
     "text": [
      "129 127 125 123 "
     ]
    }
   ],
   "source": [
    "#print odd numbers in reverse order in a range\n",
    "def oddrange(lb,ub):\n",
    "    for i in range(ub,lb-1,-1):\n",
    "        if i%2!=0:\n",
    "            print(i,end=\" \")\n",
    "    return\n",
    "oddrange(123,130)"
   ]
  },
  {
   "cell_type": "code",
   "execution_count": 15,
   "metadata": {},
   "outputs": [
    {
     "data": {
      "text/plain": [
       "15150"
      ]
     },
     "execution_count": 15,
     "metadata": {},
     "output_type": "execute_result"
    }
   ],
   "source": [
    "#Function to calculate the sum of numbers in a range\n",
    "def sumRange(lb,ub):\n",
    "    sum=0\n",
    "    for i in range(lb,ub+1):\n",
    "        sum=sum+i\n",
    "    return sum\n",
    "sumRange(100,200)\n",
    "        "
   ]
  },
  {
   "cell_type": "code",
   "execution_count": 20,
   "metadata": {},
   "outputs": [
    {
     "data": {
      "text/plain": [
       "3.0"
      ]
     },
     "execution_count": 20,
     "metadata": {},
     "output_type": "execute_result"
    }
   ],
   "source": [
    "#Function to calculate the average of a given range\n",
    "def avgRange(lb,ub):\n",
    "    sum=0\n",
    "    count=0\n",
    "    for i in range(lb,ub+1):\n",
    "        sum=sum+i\n",
    "        count=count+1\n",
    "    avg=sum/count\n",
    "    return avg\n",
    "avgRange(1,5)\n",
    "        "
   ]
  },
  {
   "cell_type": "code",
   "execution_count": 22,
   "metadata": {},
   "outputs": [
    {
     "data": {
      "text/plain": [
       "3.0"
      ]
     },
     "execution_count": 22,
     "metadata": {},
     "output_type": "execute_result"
    }
   ],
   "source": [
    "#Function to calculate the average by using sumRange function\n",
    "def avgrange(lb,ub):\n",
    "    sum=sumRange(lb,ub)\n",
    "    count=(ub-lb)+1\n",
    "    avg=sum/count\n",
    "    return avg\n",
    "avgrange(1,5)\n",
    "    "
   ]
  },
  {
   "cell_type": "code",
   "execution_count": 30,
   "metadata": {},
   "outputs": [
    {
     "name": "stdout",
     "output_type": "stream",
     "text": [
      "1920 1924 1928 1932 1936 1940 1944 1948 1952 1956 1960 1964 1968 1972 1976 1980 1984 1988 1992 1996 2000 2004 2008 "
     ]
    }
   ],
   "source": [
    "#Function to generate all leap years in a given time period\n",
    "#2000-2020 ->2000 2004 2008 2012 2016 2020\n",
    "def isleapyear(year):\n",
    "    if year%400==0 or(year%100!=0 and year%4==0):\n",
    "        return True\n",
    "    else:\n",
    "        return False\n",
    "isleapyear(2000)\n",
    "\n",
    "def generateleapyears(sy,ey):\n",
    "    for i in range(sy,ey+1):\n",
    "        if isleapyear(i):\n",
    "            print(i,end=\" \")\n",
    "    return\n",
    "generateleapyears(1919,2010)\n",
    "        "
   ]
  },
  {
   "cell_type": "code",
   "execution_count": 16,
   "metadata": {},
   "outputs": [
    {
     "data": {
      "text/plain": [
       "365"
      ]
     },
     "execution_count": 16,
     "metadata": {},
     "output_type": "execute_result"
    }
   ],
   "source": [
    "#Function to calculate number of days in a given timeperiod\n",
    "def isleapyear(year):\n",
    "    if year%400==0 or(year%100!=0 and year%4==0):\n",
    "        return True\n",
    "    else:\n",
    "        return False\n",
    "    \n",
    "def no_of_days(sy,ey):\n",
    "    days=0\n",
    "    for i in range(sy,ey+1):\n",
    "        if isleapyear(i):\n",
    "            days+=366\n",
    "        else:\n",
    "            days+=365\n",
    "    return days\n",
    "no_of_days(2018,2018)\n",
    "    "
   ]
  },
  {
   "cell_type": "code",
   "execution_count": 25,
   "metadata": {},
   "outputs": [
    {
     "data": {
      "text/plain": [
       "10224"
      ]
     },
     "execution_count": 25,
     "metadata": {},
     "output_type": "execute_result"
    }
   ],
   "source": [
    "#Function to calculate number of hours for a given period in the format(month1,year1,month2,year2)\n",
    "#(11,1975,03,1999) ->\n",
    "#(5,2019,6,2019)  ->\n",
    "#(2,2016,6,2019)\n",
    "# (all days from feb 2016 to dec 2016,all days for years between start and end,all days from jan to june 2019)\n",
    "#no of  hours=24*no of days\n",
    "# 3 steps\n",
    "    #1.start month  year to end of the year-calculate no of days\n",
    "    #2.calculate days for all years between start year and end year exclusive\n",
    "         # 2017,2018 - 365*no of years\n",
    "    #3.calculate days from jan to end month year\n",
    "#Excluding Feb\n",
    "# for first 6 months- 1,3,4,5,6,7\n",
    "                     #all odd months have 31 days\n",
    "                    # all even months have 30 days\n",
    "#last six months  -8,9,10,11,12\n",
    "                    #all even months have 31 days\n",
    "                    #all odd months have 30 days\n",
    "#31 days - (month<=7 and month %2!=0 and month!=2)|| (month >=8 and month%2==0)\n",
    "           #return 31\n",
    "       #else\n",
    "              #return 30\n",
    "\n",
    "            \n",
    "# It is done by me  \n",
    "def isleapyear(year):\n",
    "    if year%400==0 or(year%100!=0 and year%4==0):\n",
    "        return True\n",
    "    else:\n",
    "        return False\n",
    "    \n",
    "def numberofdaysmonth(month):\n",
    "    if (month<=7 and month%2!=0 and month!=2) or (month>=8 and month%2==0):\n",
    "        return 31\n",
    "    elif(month<=7 and month%2==0 and month!=2) or (month>=8 and month%2!=0):\n",
    "        return 30\n",
    "    else:\n",
    "        return 0\n",
    "#numberofdaysmonth(9)\n",
    "\n",
    "def step1(m1,y1):\n",
    "    x=isleapyear(y1)\n",
    "    if x==True and m1<=2:\n",
    "        d1=29\n",
    "    elif x==False and m1<=2:\n",
    "        d1=28\n",
    "    else:\n",
    "        d1=0\n",
    "    for i in range(m1,13):\n",
    "        d1+=numberofdaysmonth(i)\n",
    "    return d1\n",
    "#step1(2,2008)\n",
    "\n",
    "def step2(m2,y2):\n",
    "    if isleapyear(y2):\n",
    "        d2=29\n",
    "    else:\n",
    "        d2=28\n",
    "    for i in range(1,m2+1):\n",
    "        d2+=numberofdaysmonth(i)\n",
    "    return d2\n",
    "#step1(2,2008)\n",
    "    \n",
    "\n",
    "def no_of_hours(m1,y1,m2,y2):\n",
    "    days=no_of_days(y1+1,y2-1)\n",
    "    d1=step1(m1,y1)\n",
    "    d2=step2(m2,y2)\n",
    "    no_of_hours=(days+d1+d2)*24\n",
    "    return no_of_hours\n",
    "no_of_hours(6,2018,7,2018)\n",
    "    "
   ]
  },
  {
   "cell_type": "code",
   "execution_count": 24,
   "metadata": {},
   "outputs": [
    {
     "data": {
      "text/plain": [
       "11688"
      ]
     },
     "execution_count": 24,
     "metadata": {},
     "output_type": "execute_result"
    }
   ],
   "source": [
    "def isleapyear(year):\n",
    "    if year%400==0 or(year%100!=0 and year%4==0):\n",
    "        return True\n",
    "    else:\n",
    "        return False\n",
    "    \n",
    "def numberofdaysmonth(month,year):\n",
    "    if month==2:\n",
    "        if isleapyear(year):\n",
    "            return 29\n",
    "        else:\n",
    "            return 28\n",
    "    elif (month<=7 and month%2!=0) or (month>=8 and month%2==0):\n",
    "        return 31\n",
    "    else:\n",
    "        return 30\n",
    "    \n",
    "def daysInStartYear(startmonth,startyear):\n",
    "    days=0\n",
    "    for month in range(startmonth,13):\n",
    "        days+=numberofdaysmonth(month,startyear)\n",
    "    return days\n",
    "#daysInStartYear(6,2019)\n",
    "\n",
    "\n",
    "def daysInEndYear(endmonth,endyear):\n",
    "    days=0\n",
    "    for month in range(1,endmonth+1):\n",
    "        days+=numberofdaysmonth(month,endyear)\n",
    "    return days\n",
    "#daysInEndYear(2,2020)  \n",
    "\n",
    "def numberofhours(startmonth,startyear,endmonth,endyear):\n",
    "    days=0\n",
    "    days+=daysInStartYear(startmonth,startyear)\n",
    "    days+=daysInEndYear(endmonth,endyear)\n",
    "    if endyear-startyear==2:\n",
    "        days+=no_of_days(startyear+1,endyear+1)\n",
    "    elif endyear-startyear>2:\n",
    "        days+=no_of_days(startyear+1,endyear-1)\n",
    "    else:\n",
    "        for month in range(startmonth,endmonth+1):\n",
    "            days+=numberofdaysmonth(month,startyear)\n",
    "    return days*24\n",
    "numberofhours(6,2018,7,2018)\n",
    "    \n",
    "    "
   ]
  },
  {
   "cell_type": "code",
   "execution_count": 1,
   "metadata": {},
   "outputs": [
    {
     "name": "stdout",
     "output_type": "stream",
     "text": [
      "1 2 3 4 5 6 7 8 9 10 "
     ]
    }
   ],
   "source": [
    "#Function to print n natural numbers using while loop\n",
    "def nNaturalnumbers(n):\n",
    "    counter=1\n",
    "    while counter<=n:\n",
    "        print(counter,end=\" \")\n",
    "        counter=counter+1\n",
    "    return\n",
    "nNaturalnumbers(10)"
   ]
  },
  {
   "cell_type": "code",
   "execution_count": 2,
   "metadata": {},
   "outputs": [
    {
     "name": "stdout",
     "output_type": "stream",
     "text": [
      "12 18 24 30 36 42 48 54 60 66 72 78 84 90 96 "
     ]
    }
   ],
   "source": [
    "#Function to print all numbers divisible by 6 and not a factor of 100 in a given range(lb,ub) inclusive\n",
    "def factor(lb,ub):\n",
    "    for i in range(lb,ub+1):\n",
    "        if i%6==0 and 100%i!=0:\n",
    "            print(i,end=\" \")\n",
    "            i=i+1\n",
    "factor(10,100)"
   ]
  },
  {
   "cell_type": "code",
   "execution_count": 17,
   "metadata": {},
   "outputs": [
    {
     "name": "stdout",
     "output_type": "stream",
     "text": [
      "1800\n",
      "5\n"
     ]
    },
    {
     "data": {
      "text/plain": [
       "360.0"
      ]
     },
     "execution_count": 17,
     "metadata": {},
     "output_type": "execute_result"
    }
   ],
   "source": [
    "#Function to find the average of cubes of all even numbers in a given range(lb,ub) inclusive\n",
    "def avgofcubes(lb,ub):\n",
    "    sum=0\n",
    "    count=0\n",
    "    for i in range(lb,ub+1):\n",
    "        if i%2==0:\n",
    "            sum=sum+(i**3)\n",
    "            count=count+1\n",
    "    avg=sum/count\n",
    "    print(sum)\n",
    "    print(count)\n",
    "    return avg\n",
    "    \n",
    "avgofcubes(1,10)\n",
    "    \n",
    "            \n",
    "            \n",
    "            \n",
    "        "
   ]
  },
  {
   "cell_type": "code",
   "execution_count": 1,
   "metadata": {},
   "outputs": [
    {
     "name": "stdout",
     "output_type": "stream",
     "text": [
      "1 2 3 4 6 12 "
     ]
    }
   ],
   "source": [
    "#Function to generate the list  of factors for a given number\n",
    "#12 ->1,2,3,4,6,12\n",
    "def factors(n):\n",
    "    for i in range(1,n+1):\n",
    "        if n%i==0:\n",
    "            print(i,end=\" \")\n",
    "factors(12)"
   ]
  },
  {
   "cell_type": "code",
   "execution_count": 21,
   "metadata": {},
   "outputs": [
    {
     "data": {
      "text/plain": [
       "3628800"
      ]
     },
     "execution_count": 21,
     "metadata": {},
     "output_type": "execute_result"
    }
   ],
   "source": [
    "#Function to calculate the factorial of a given number\n",
    "def factorial(n):\n",
    "    fact=1\n",
    "    while n>1:\n",
    "        fact=fact*n\n",
    "        n=n-1\n",
    "    return fact\n",
    "factorial(10)\n",
    "        \n",
    "        \n",
    "    \n",
    "    "
   ]
  },
  {
   "cell_type": "code",
   "execution_count": 28,
   "metadata": {},
   "outputs": [
    {
     "data": {
      "text/plain": [
       "False"
      ]
     },
     "execution_count": 28,
     "metadata": {},
     "output_type": "execute_result"
    }
   ],
   "source": [
    "#function to check if a given number is prime\n",
    "def isprime(n):\n",
    "    count=0\n",
    "    for i in range(1,n+1):\n",
    "        if n%i==0:\n",
    "            count=count+1\n",
    "    if count==2:\n",
    "        return True\n",
    "    else:\n",
    "        return False\n",
    "isprime(1)"
   ]
  },
  {
   "cell_type": "code",
   "execution_count": 40,
   "metadata": {},
   "outputs": [
    {
     "name": "stdout",
     "output_type": "stream",
     "text": [
      "10\n",
      "3\n"
     ]
    },
    {
     "data": {
      "text/plain": [
       "3.3333333333333335"
      ]
     },
     "execution_count": 40,
     "metadata": {},
     "output_type": "execute_result"
    }
   ],
   "source": [
    "#function to calculate the avg of first N prime numbers\n",
    "def avgofprime(n):\n",
    "    sum=0\n",
    "    count=0\n",
    "    for i in range(1,n+1):\n",
    "        x=isprime(i)\n",
    "        if x==True:\n",
    "            sum=sum+i\n",
    "            count=count+1\n",
    "    print(sum)\n",
    "    print(count)\n",
    "    avg=sum/count\n",
    "    return avg\n",
    "avgofprime(5)\n",
    "    \n",
    "    "
   ]
  },
  {
   "cell_type": "code",
   "execution_count": null,
   "metadata": {},
   "outputs": [],
   "source": [
    "      \n",
    "    "
   ]
  },
  {
   "cell_type": "code",
   "execution_count": 42,
   "metadata": {},
   "outputs": [
    {
     "name": "stdout",
     "output_type": "stream",
     "text": [
      "6 28 496 "
     ]
    }
   ],
   "source": [
    "#Function to generate all perfect numbers in a given range\n",
    "def factors_sum(i):\n",
    "    sum=0\n",
    "    for j in range(1,i):\n",
    "        if i%j == 0:\n",
    "            sum+=j\n",
    "    return sum        \n",
    "def perfect(lb,ub):\n",
    "    sum=0\n",
    "    for i in range(lb,ub):\n",
    "        x=factors_sum(i)\n",
    "        if i == x:\n",
    "            print(i,end=\" \")\n",
    "    return \n",
    "perfect(1,1000)\n",
    "            \n",
    "        "
   ]
  },
  {
   "cell_type": "code",
   "execution_count": null,
   "metadata": {},
   "outputs": [],
   "source": []
  },
  {
   "cell_type": "markdown",
   "metadata": {},
   "source": [
    "## Advanced Problem set"
   ]
  },
  {
   "cell_type": "code",
   "execution_count": 44,
   "metadata": {},
   "outputs": [
    {
     "name": "stdout",
     "output_type": "stream",
     "text": [
      "153\n"
     ]
    },
    {
     "data": {
      "text/plain": [
       "30.6"
      ]
     },
     "execution_count": 44,
     "metadata": {},
     "output_type": "execute_result"
    }
   ],
   "source": [
    "#Function to calculate average of all factorials in a given range\n",
    "def avg_of_factorial(s,e):\n",
    "    sum=0\n",
    "    count=(e-s)+1\n",
    "    for i in range(s,e+1):\n",
    "        sum+=factorial(i)\n",
    "    print(sum)\n",
    "    avg=sum/count\n",
    "    return avg\n",
    "avg_of_factorial(1,5)\n",
    "        \n",
    "        "
   ]
  },
  {
   "cell_type": "code",
   "execution_count": 2,
   "metadata": {},
   "outputs": [
    {
     "name": "stdout",
     "output_type": "stream",
     "text": [
      "1 3 5 7 9 153 "
     ]
    }
   ],
   "source": [
    "#Function to generate  odd armstrong numbers in the given range\n",
    "def isarmstrong(n):\n",
    "    sum=0\n",
    "    n1=n\n",
    "    l=len(str(n))\n",
    "    while(n>0):\n",
    "        r=n%10\n",
    "        sum=sum+r**l\n",
    "        n=n//10\n",
    "    if sum==n1:\n",
    "        return True\n",
    "    else:\n",
    "        return False\n",
    "#isarmstrong(153)\n",
    "\n",
    "def odd_armstrongnumbers_in_range(n):\n",
    "    for i in range(1,n+1):\n",
    "        if isarmstrong(i):\n",
    "            if i%2!=0:\n",
    "                print(i,end=\" \")\n",
    "            \n",
    "    return\n",
    "odd_armstrongnumbers_in_range(200)\n",
    "\n",
    "    "
   ]
  },
  {
   "cell_type": "code",
   "execution_count": null,
   "metadata": {},
   "outputs": [],
   "source": [
    "#function"
   ]
  },
  {
   "cell_type": "code",
   "execution_count": 4,
   "metadata": {},
   "outputs": [
    {
     "name": "stdout",
     "output_type": "stream",
     "text": [
      "10 x 100 = 1000\n",
      "10 x 101 = 1010\n",
      "10 x 102 = 1020\n",
      "10 x 103 = 1030\n",
      "10 x 104 = 1040\n",
      "10 x 105 = 1050\n",
      "10 x 106 = 1060\n",
      "10 x 107 = 1070\n",
      "10 x 108 = 1080\n",
      "10 x 109 = 1090\n",
      "10 x 110 = 1100\n"
     ]
    }
   ],
   "source": [
    "#Function to generate Multiplication table for a number in a given range\n",
    "#10 in the range(100,102)inclusive\n",
    "#10x100=1000\n",
    "#10x101=1010\n",
    "#10x102=1020\n",
    "\n",
    "def multable(n,lb,ub):\n",
    "    for i in range(lb,ub+1):\n",
    "        print(n,\"x\",i,\"=\",n*i)\n",
    "    return\n",
    "multable(10,100,110)\n",
    "    "
   ]
  },
  {
   "cell_type": "code",
   "execution_count": null,
   "metadata": {},
   "outputs": [],
   "source": []
  }
 ],
 "metadata": {
  "kernelspec": {
   "display_name": "Python 3",
   "language": "python",
   "name": "python3"
  },
  "language_info": {
   "codemirror_mode": {
    "name": "ipython",
    "version": 3
   },
   "file_extension": ".py",
   "mimetype": "text/x-python",
   "name": "python",
   "nbconvert_exporter": "python",
   "pygments_lexer": "ipython3",
   "version": "3.7.3"
  }
 },
 "nbformat": 4,
 "nbformat_minor": 2
}
