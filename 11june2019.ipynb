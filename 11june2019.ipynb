{
 "cells": [
  {
   "cell_type": "markdown",
   "metadata": {},
   "source": [
    "### Markdown Basics\n",
    "* **Bold**\n",
    "* *Italic*\n",
    "* ***Ib***\n",
    "* Normal text\n",
    "  * sublist 1\n",
    "  * sublist 2\n",
    "  \n",
    "  \n",
    "1. Ordered list element 1\n",
    "2. Ordered list element 2\n",
    "\n",
    "\n",
    "- [ ] option 1\n",
    "- [ ] option 2 \n",
    "- [x] option 3\n",
    "\n",
    "I get 10 times more traffic from [Google] [1] than from\n",
    "[Yahoo] [2] or [MSN] [3].\n",
    "\n",
    "  [1]: http://google.com/        \"Google\"\n",
    "  [2]: http://search.yahoo.com/  \"Yahoo Search\"\n",
    "  [3]: http://search.msn.com/    \"MSN Search\"\n",
    "\n",
    "\n",
    "`printf(\"Hello markdown\")`\n",
    "\n",
    "\n",
    "<http://google.com>\n",
    "\n",
    "how to add images\n",
    "[jupyterLogo](jupyterLogo.png)\n",
    "![jupyterLogo](jupyterLogo.png)\n",
    "<img src=\"jupyterLogo.png\" style=\"float:left\">"
   ]
  },
  {
   "cell_type": "markdown",
   "metadata": {},
   "source": []
  },
  {
   "cell_type": "markdown",
   "metadata": {},
   "source": [
    "## Python Basics\n",
    "### python version 3.7\n",
    "* **Scripting**\n",
    "* **object oriented**"
   ]
  },
  {
   "cell_type": "code",
   "execution_count": 8,
   "metadata": {},
   "outputs": [
    {
     "name": "stdout",
     "output_type": "stream",
     "text": [
      "Good afternoon !||Hello python\n"
     ]
    }
   ],
   "source": [
    "# Python comments\n",
    "print(\"Good afternoon\",\"!\",end=\"||\")# Basic output\n",
    "print(\"Hello python\")"
   ]
  },
  {
   "cell_type": "code",
   "execution_count": null,
   "metadata": {},
   "outputs": [],
   "source": []
  },
  {
   "cell_type": "code",
   "execution_count": null,
   "metadata": {},
   "outputs": [],
   "source": []
  },
  {
   "cell_type": "markdown",
   "metadata": {},
   "source": [
    "### Assignment"
   ]
  },
  {
   "cell_type": "code",
   "execution_count": 13,
   "metadata": {},
   "outputs": [
    {
     "name": "stdout",
     "output_type": "stream",
     "text": [
      "123 234 345\n"
     ]
    }
   ],
   "source": [
    "n1=123456         #ksingle variable assignment\n",
    "n2=n3=n4=n1       #multi variable assignment of the same value,This is also unique feature of this notebook\n",
    "a,b,c=123,234,345 # multi variable assignment with different value\n",
    "a\n",
    "b            #only c value will print ,to print all values using print function\n",
    "c\n",
    "print(a,b,c)\n"
   ]
  },
  {
   "cell_type": "code",
   "execution_count": null,
   "metadata": {},
   "outputs": [],
   "source": []
  },
  {
   "cell_type": "markdown",
   "metadata": {},
   "source": [
    "### Data types and Type conversions\n",
    "- int\n",
    "- float\n",
    "- string\n",
    "\n"
   ]
  },
  {
   "cell_type": "code",
   "execution_count": 36,
   "metadata": {},
   "outputs": [
    {
     "data": {
      "text/plain": [
       "12.0"
      ]
     },
     "execution_count": 36,
     "metadata": {},
     "output_type": "execute_result"
    }
   ],
   "source": [
    "type(a)\n",
    "s1=\"python\"\n",
    "type(s1)\n",
    "f1=12.34\n",
    "f1\n",
    "type(f1)\n",
    "str(int(f1)) #you can see 12 in quotes\n",
    "float(str(int(f1))) #again converting into float"
   ]
  },
  {
   "cell_type": "markdown",
   "metadata": {},
   "source": [
    "### Arithmetic Operations\n",
    "* -\n",
    "* +\n",
    "* *\n",
    "* /\n",
    "* %\n"
   ]
  },
  {
   "cell_type": "code",
   "execution_count": 26,
   "metadata": {},
   "outputs": [
    {
     "data": {
      "text/plain": [
       "str"
      ]
     },
     "execution_count": 26,
     "metadata": {},
     "output_type": "execute_result"
    }
   ],
   "source": [
    "n1%11\n",
    "n3=n2**123456\n",
    "type(n3)\n",
    "len(str(n3)) #to find length of the number first convert this to string then len() works\n",
    "n3           #it treats as a integer how big the number is \n",
    "\n",
    "atoms=10**82\n",
    "len(str(atoms))\n",
    "type(str(atoms))"
   ]
  },
  {
   "cell_type": "code",
   "execution_count": null,
   "metadata": {},
   "outputs": [],
   "source": []
  },
  {
   "cell_type": "markdown",
   "metadata": {},
   "source": [
    "### Conditionals\n"
   ]
  },
  {
   "cell_type": "code",
   "execution_count": 38,
   "metadata": {},
   "outputs": [
    {
     "name": "stdout",
     "output_type": "stream",
     "text": [
      "FALSE\n"
     ]
    }
   ],
   "source": [
    "if atoms<10**9: #True and False are keywords in python\n",
    "    print (\"TRUE\")\n",
    "else:\n",
    "    print(\"FALSE\")\n"
   ]
  },
  {
   "cell_type": "code",
   "execution_count": 39,
   "metadata": {},
   "outputs": [
    {
     "name": "stdout",
     "output_type": "stream",
     "text": [
      "odd\n"
     ]
    }
   ],
   "source": [
    "#Check if a number is even\n",
    "n=123\n",
    "if n%2==0:\n",
    "    print(\"Even\")\n",
    "else:\n",
    "    print(\"odd\")"
   ]
  },
  {
   "cell_type": "code",
   "execution_count": 1,
   "metadata": {},
   "outputs": [
    {
     "name": "stdout",
     "output_type": "stream",
     "text": [
      "Enter the first number23\n",
      "enter the second number24\n",
      "enter the third number12\n",
      "24 is the greatest\n"
     ]
    }
   ],
   "source": [
    "# Find the gretest of three numbers\n",
    "n1=int(input(\"Enter the first number\"))\n",
    "n2=int(input(\"enter the second number\"))\n",
    "n3=int(input(\"enter the third number\"))\n",
    "if n1>n2 and n1>n3:\n",
    "    print(n1,\"is the greatest\")\n",
    "elif n2>n3:\n",
    "    print(n2,\"is the greatest\")\n",
    "else:\n",
    "    print(n3,\"is the greatest\")"
   ]
  },
  {
   "cell_type": "code",
   "execution_count": 3,
   "metadata": {},
   "outputs": [
    {
     "name": "stdout",
     "output_type": "stream",
     "text": [
      "Enter the year2019\n",
      "not a leap year\n"
     ]
    }
   ],
   "source": [
    "#Check if an year is a leap year\n",
    "year=eval(input(\"Enter the year\"))\n",
    "if year%400==0 or (year%100!=0 and year%4==0):\n",
    "    print(\"leap year\")\n",
    "else:\n",
    "    print(\"not a leap year\")\n",
    "\n"
   ]
  },
  {
   "cell_type": "code",
   "execution_count": 4,
   "metadata": {},
   "outputs": [
    {
     "name": "stdout",
     "output_type": "stream",
     "text": [
      "Enter the number23\n",
      "Enter the lower bound20\n",
      "enter the upper bound57\n",
      "23 is in the given range\n"
     ]
    }
   ],
   "source": [
    "#Check if a number exists in a given range\n",
    "n1=eval(input(\"Enter the number\"))\n",
    "lb=eval(input(\"Enter the lower bound\"))\n",
    "up=eval(input(\"enter the upper bound\"))\n",
    "if n1>=lb and n1<=up:\n",
    "    print(n1,\"is in the given range\")\n",
    "else:\n",
    "    print(n1,\"is not in the gien range\")"
   ]
  },
  {
   "cell_type": "code",
   "execution_count": 6,
   "metadata": {},
   "outputs": [
    {
     "name": "stdout",
     "output_type": "stream",
     "text": [
      "enter the number1234\n"
     ]
    },
    {
     "data": {
      "text/plain": [
       "4"
      ]
     },
     "execution_count": 6,
     "metadata": {},
     "output_type": "execute_result"
    }
   ],
   "source": [
    "#Calculate the number of digits in a number\n",
    "num=eval(input(\"enter the number\"))\n",
    "len(str(num))"
   ]
  },
  {
   "cell_type": "code",
   "execution_count": 7,
   "metadata": {},
   "outputs": [
    {
     "name": "stdout",
     "output_type": "stream",
     "text": [
      "enter the number250\n",
      "250 is the multiple of 10\n"
     ]
    }
   ],
   "source": [
    "#Check if a number is a multiple of 10\n",
    "n=eval(input(\"enter the number\"))\n",
    "if n%10==0:\n",
    "    print(n,\"is the multiple of 10\")\n",
    "else:\n",
    "    print(n,\"is not the multiple of 10\")"
   ]
  },
  {
   "cell_type": "code",
   "execution_count": 11,
   "metadata": {},
   "outputs": [
    {
     "name": "stdout",
     "output_type": "stream",
     "text": [
      "enter the number100\n",
      "100 is the factor of 1000\n"
     ]
    }
   ],
   "source": [
    "#check if a number is a factor of 1000\n",
    "n=eval(input(\"enter the number\"))\n",
    "if 1000%n==0:\n",
    "    print(n,\"is the factor of 1000\")\n",
    "else:\n",
    "    print(n,\"is not the factor of 1000\")"
   ]
  },
  {
   "cell_type": "code",
   "execution_count": 16,
   "metadata": {},
   "outputs": [
    {
     "name": "stdout",
     "output_type": "stream",
     "text": [
      "both are same\n"
     ]
    }
   ],
   "source": [
    "#check if given string is equal to a number\n",
    "s1=\"12345\"\n",
    "n1=12345\n",
    "\n",
    "if str(n1)==s1:\n",
    "    print(\"both are same\")\n",
    "else:\n",
    "    print(\"both are not same\")"
   ]
  },
  {
   "cell_type": "code",
   "execution_count": 19,
   "metadata": {},
   "outputs": [
    {
     "name": "stdout",
     "output_type": "stream",
     "text": [
      "enter the number25\n"
     ]
    },
    {
     "data": {
      "text/plain": [
       "5.0"
      ]
     },
     "execution_count": 19,
     "metadata": {},
     "output_type": "execute_result"
    }
   ],
   "source": [
    "#calculate the square root of a number without using functions\n",
    "n=eval(input(\"enter the number\"))\n",
    "n ** 0.5"
   ]
  },
  {
   "cell_type": "code",
   "execution_count": 15,
   "metadata": {},
   "outputs": [
    {
     "name": "stdout",
     "output_type": "stream",
     "text": [
      "enter the year2019\n",
      "nano seconds 31536000000000000\n"
     ]
    }
   ],
   "source": [
    "#Calculate the number of nano seconds in a given year(considering the leap year logic)\n",
    "year=eval(input(\"enter the year\"))\n",
    "if year%400==0 or (year%100!=0 and year%4==0):\n",
    "    print(\"nano seconds\",366*24*60*60*(10**9))\n",
    "else:\n",
    "    print(\"nano seconds\",365*24*60*60*(10**9))"
   ]
  },
  {
   "cell_type": "code",
   "execution_count": null,
   "metadata": {},
   "outputs": [],
   "source": []
  },
  {
   "cell_type": "code",
   "execution_count": null,
   "metadata": {},
   "outputs": [],
   "source": []
  }
 ],
 "metadata": {
  "kernelspec": {
   "display_name": "Python 3",
   "language": "python",
   "name": "python3"
  },
  "language_info": {
   "codemirror_mode": {
    "name": "ipython",
    "version": 3
   },
   "file_extension": ".py",
   "mimetype": "text/x-python",
   "name": "python",
   "nbconvert_exporter": "python",
   "pygments_lexer": "ipython3",
   "version": "3.7.3"
  }
 },
 "nbformat": 4,
 "nbformat_minor": 2
}
