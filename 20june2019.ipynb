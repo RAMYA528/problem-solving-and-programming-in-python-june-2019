{
 "cells": [
  {
   "cell_type": "markdown",
   "metadata": {},
   "source": [
    "## Ladderophilia -Hackerearth"
   ]
  },
  {
   "cell_type": "code",
   "execution_count": 4,
   "metadata": {},
   "outputs": [
    {
     "name": "stdout",
     "output_type": "stream",
     "text": [
      "4\n",
      "*   *\n",
      "*   *\n",
      "*****\n",
      "*   *\n",
      "*   *\n",
      "*****\n",
      "*   *\n",
      "*   *\n",
      "*****\n",
      "*   *\n",
      "*   *\n",
      "*****\n",
      "*   *\n",
      "*   *\n"
     ]
    }
   ],
   "source": [
    "#Aditya is fond of ladders. \n",
    "#Everyday he goes through pictures of ladders online but unfortunately today he ran out of ladder pictures online. \n",
    "#Write a program to print “ladder with N steps”, which he can use to get his daily dose of ladder love.\n",
    "\n",
    "#INPUT:Input contains integer N, the number of steps in the ladder\n",
    "\n",
    "#OUTPUT:Print the ladder with the gap between two side rails being 3 spaces(“   “).\n",
    "\n",
    "#Check the sample output for format of printing the ladder.\n",
    "n=int(input())\n",
    "for i in range(n):\n",
    "    print(\"*   *\")\n",
    "    print(\"*   *\")\n",
    "    print(\"*****\")\n",
    "print(\"*   *\")\n",
    "print(\"*   *\")"
   ]
  },
  {
   "cell_type": "markdown",
   "metadata": {},
   "source": [
    "## Ali and Helping innocent people"
   ]
  },
  {
   "cell_type": "code",
   "execution_count": 2,
   "metadata": {},
   "outputs": [
    {
     "name": "stdout",
     "output_type": "stream",
     "text": [
      "12A345-67\n",
      "invalid\n"
     ]
    }
   ],
   "source": [
    "#Arpasland has surrounded by attackers. A truck enters the city.\n",
    "#The driver claims the load is food and medicine from Iranians. Ali is one of the soldiers in Arpasland. \n",
    "#He doubts about the truck, maybe it's from the siege. \n",
    "#He knows that a tag is valid if the sum of every two consecutive digits of it is even and its letter is not a vowel. \n",
    "#Determine if the tag of the truck is valid or not.\n",
    "\n",
    "#We consider the letters \"A\",\"E\",\"I\",\"O\",\"U\",\"Y\" to be vowels for this problem.\n",
    "\n",
    "#Input Format:The first line contains a string of length 9. The format is \"DDXDDD-DD\", where D stands for a digit (non zero) and X is an uppercase english letter.\n",
    "\n",
    "#Output Format:Print \"valid\" (without quotes) if the tag is valid, print \"invalid\" otherwise (without quotes)\n",
    "\n",
    "\n",
    "s=input()\n",
    "li=['A','E','I','O','U','Y']\n",
    "if len(s)==9:\n",
    "    if s[2] not in li:\n",
    "        if s[6]=='-':\n",
    "            if ((int(s[0])+int(s[1]))%2==0 and (int(s[3])+int(s[4]))%2==0 and (int(s[4])+int(s[5]))%2==0 and (int(s[7])+int(s[8]))%2==0):\n",
    "                print(\"valid\")\n",
    "            else:\n",
    "                print(\"invalid\")\n",
    "        else:\n",
    "            print(\"invalid\")\n",
    "        \n",
    "    else:\n",
    "        print(\"invalid\")\n",
    "else:\n",
    "    print(\"invalid\")        \n"
   ]
  },
  {
   "cell_type": "markdown",
   "metadata": {},
   "source": [
    "## Goki and his breakup"
   ]
  },
  {
   "cell_type": "code",
   "execution_count": 1,
   "metadata": {},
   "outputs": [
    {
     "name": "stdout",
     "output_type": "stream",
     "text": [
      "2\n",
      "100\n",
      "123\n",
      "YES\n",
      "98\n",
      "NO\n"
     ]
    }
   ],
   "source": [
    "#Goki recently had a breakup, so he wants to have some more friends in his life. \n",
    "#Goki has N people who he can be friends with, so he decides to choose among them according to their skills set Yi(1<=i<=n).\n",
    "#He wants atleast X skills in his friends.Help Goki find his friends.\n",
    "\n",
    "# INPUT:First line of the input contains an integer N denoting the number of people.\n",
    "\n",
    "#Next line contains a single integer X - denoting the minimum skill required to be Goki's friend. \n",
    "\n",
    "#Next n lines contain one integer Y - denoting the skill of ith person.\n",
    "\n",
    "#OUTPUT:For each person print if he can be friend with Goki. 'YES' (without quotes) if he can be friends with Goki else 'NO' (without quotes).\n",
    "\n",
    "\n",
    "def skillset(X,Y):\n",
    "    if Y>=X:\n",
    "        print(\"YES\")\n",
    "    else:\n",
    "        print(\"NO\")\n",
    "        \n",
    "        \n",
    "N=int(input())\n",
    "X=int(input())\n",
    "for i in range(N):\n",
    "    Y=int(input())\n",
    "    skillset(X,Y)"
   ]
  },
  {
   "cell_type": "markdown",
   "metadata": {},
   "source": [
    "## e-maze-in"
   ]
  },
  {
   "cell_type": "code",
   "execution_count": 10,
   "metadata": {},
   "outputs": [
    {
     "name": "stdout",
     "output_type": "stream",
     "text": [
      "LLDD\n",
      "-2 -2\n"
     ]
    }
   ],
   "source": [
    "#Ankit is in maze. The command center sent him a string which decodes to come out from the maze. \n",
    "#He is initially at (0, 0). String contains L, R, U, D denoting left, right, up and down. \n",
    "#In each command he will traverse 1 unit distance in the respective direction.\n",
    "#For example if he is at (2, 0) and the command is L he will go to (1, 0).\n",
    "\n",
    "s=input()\n",
    "pos=[0,0]\n",
    "for i in s:\n",
    "    if i=='L':\n",
    "        pos[0]=pos[0]-1\n",
    "    elif i=='R':\n",
    "        pos[0]=pos[0]+1\n",
    "    elif i=='D':\n",
    "        pos[1]=pos[1]-1\n",
    "    elif i=='U':\n",
    "        pos[1]=pos[1]+1\n",
    "print(pos[0],pos[1])\n"
   ]
  },
  {
   "cell_type": "markdown",
   "metadata": {},
   "source": [
    "## Life, the Universe, and Everything"
   ]
  },
  {
   "cell_type": "code",
   "execution_count": null,
   "metadata": {},
   "outputs": [],
   "source": [
    "#Your program is to use the brute-force approach in order to find the Answer to Life, the Universe, and Everything. \n",
    "#More precisely... rewrite small numbers from input to output. Stop processing input after reading in the number 42.\n",
    "#All numbers at input are integers of one or two digits.\n",
    "\n",
    "li=[]\n",
    "n=0\n",
    "while(n!=42):\n",
    "    n=int(input())\n",
    "    li.append(n)\n",
    "        \n",
    "li.pop()\n",
    "for i in li:\n",
    "    print(i)\n"
   ]
  },
  {
   "cell_type": "markdown",
   "metadata": {},
   "source": [
    "### Date:20 june 2019\n",
    "### Day objectives\n",
    "- Regular Expressions\n",
    "    - Constructing Regular Expressions for various use cases\n",
    "    - Regular Expressions Module and related in python\n",
    "    - Improving the contacts application with name and phone number validation using regular expression\n",
    "- File Handling\n",
    "    - Text files\n",
    "    - upgrading the contacts Application to store contact information in a text file"
   ]
  },
  {
   "cell_type": "markdown",
   "metadata": {},
   "source": [
    "#### Regular Expression\n",
    "\n",
    "- Pattern Matching\n",
    "- Symbolic Notation of a pattern\n",
    "    - pattern:Format which repeats\n",
    "    - pattern(RE) represents the set of all values match that pattern\n",
    "    \n",
    "- [0-9]   ->Any digit\n",
    "\n",
    "- [a-z]   ->Any lower case alphabet\n",
    "\n",
    "- [2468]  ->All single digit multiples of 2,[8642],[6824]\n",
    " \n",
    "- ^[0-9]{1}$          -->only single digit numbers\n",
    "\n",
    "- ^[0-9]{3}$          --> to acces three digit numbers\n",
    "\n",
    "- ^[0-9]{3}           -->If $ symbol is not there it highlets the first three digits of any number.\n",
    "\n",
    "- [0-9]{3}$          -->If ^ symbol is not ther it matches the last three digits,it does not matches if last three are                                 characters.\n",
    "\n",
    "- [0-9]*0$            -->All multiples of 10,it prints 0 also\n",
    "\n",
    "- [1-9][0-9]*0$       -->All multiples of 10,it doesn't print 0\n",
    "\n",
    "- ^[1-9][0-9]*[0,5]$           --> All multiples of 5 except 5\n",
    "\n",
    "- ^([1-9][0-9]*[05])$|^([5])$   -->All multiples of 5\n",
    "\n",
    "- ^[0-9]{10}$                   -->All 10 digit numbers\n",
    "\n",
    "\n",
    "-  ^[6-9]{1}[0-9]{9}$                                           ---->8185868305\n",
    "\n",
    "\n",
    "   \n",
    "- ^[6-9][0-9]{9}$|^[0][6-9][0-9]{9}$                            ---->08185868305\n",
    " \n",
    "   \n",
    "   \n",
    "- ^[6-9][0-9]{9}$|^[0][6-9][0-9]{9}$|^[+][9][1][6-9][0-9]{9}$   ---->+918185868305\n",
    "   \n",
    "\n",
    "- ^[9,8,7,6][0-9]{9}$                                          -->validating phone number(India)(start with 9876)\n",
    "\n",
    "- [w][o][r][d] or (word) ---->searching for a specific word\n",
    "   \n",
    "\n",
    "- Email validation(username@domain.extension)\n",
    "      - username\n",
    "          - length of username:[6,15]\n",
    "          - No special Characters other than _ .\n",
    "          - should not begin and end with _ .\n",
    "          - character set:all digits and lowercase alphabet and  _ .\n",
    "          - ^[0-9a-z][0-9a-z_.]{4,13}[0-9a-z]$\n",
    "      - domain\n",
    "           - lengthof domain:[3,18]\n",
    "           - No special characters\n",
    "           - character set: all digits and lowercase alphabet\n",
    "           - ^[0-9a-z]{3,18}$\n",
    "      - extension\n",
    "            - length of extension:[2,4]\n",
    "            - No special characters\n",
    "            - character set: lowercase alphabet\n",
    "            - ^[a-z]{2,4}$\n",
    "            \n",
    "            \n",
    "  ^[0-9a-z][0-9a-z_.]{4,13}[0-9a-z][@][0-9a-z]{3,18}[.][a-z]{2,4}$ ---->for email validation\n",
    "  \n",
    "  \n",
    "- ^[a]...[z]$  --->any string length 5 start with a and end with z \n",
    "\n",
    "- ^[a].*[z]$ --->any string start with a and end with z.\n",
    "       \n",
    "       dot(.) represents all characters(special characters,alphabets,numbers)\n",
    "       \n",
    "- \n",
    "\n",
    "\n",
    "\n",
    "\n",
    "\n"
   ]
  },
  {
   "cell_type": "code",
   "execution_count": 69,
   "metadata": {},
   "outputs": [
    {
     "name": "stdout",
     "output_type": "stream",
     "text": [
      "847539057\n"
     ]
    },
    {
     "data": {
      "text/plain": [
       "False"
      ]
     },
     "execution_count": 69,
     "metadata": {},
     "output_type": "execute_result"
    }
   ],
   "source": [
    "# Function to validate a phone number\n",
    "import re\n",
    "def phoneNumberValidator(number):\n",
    "    pattern='^[6-9][0-9]{9}$|^[0][6-9][0-9]{9}$|^[+][9][1][6-9][0-9]{9}$'\n",
    "    if re.match(pattern,number):\n",
    "        return True\n",
    "    else:\n",
    "        return False\n",
    "    \n",
    "number=input()\n",
    "phoneNumberValidator(number)"
   ]
  },
  {
   "cell_type": "code",
   "execution_count": 5,
   "metadata": {},
   "outputs": [
    {
     "name": "stdout",
     "output_type": "stream",
     "text": [
      "asfg@gmail.com\n"
     ]
    },
    {
     "data": {
      "text/plain": [
       "False"
      ]
     },
     "execution_count": 5,
     "metadata": {},
     "output_type": "execute_result"
    }
   ],
   "source": [
    "# Function to validate a email id\n",
    "import re\n",
    "def Emailvalidator(email):\n",
    "    pattern='^[0-9a-z][0-9a-z_.]{4,13}[0-9a-z][@][0-9a-z]{3,18}[.][a-z]{2,4}$'\n",
    "    if re.match(pattern,email):\n",
    "        return True\n",
    "    else:\n",
    "        return False\n",
    "email=input()\n",
    "Emailvalidator(email)"
   ]
  },
  {
   "cell_type": "code",
   "execution_count": 38,
   "metadata": {},
   "outputs": [
    {
     "name": "stdout",
     "output_type": "stream",
     "text": [
      "{'name1': ['9876543210', 'name1@domain.ext'], 'name2': ['7645398210', 'name2@domain.ext'], 'name3': ['8185868305', 'asapuramya@gmail.com']}\n"
     ]
    }
   ],
   "source": [
    "contacts={\"name1\":[\"9876543210\",'name1@domain.ext'],\"name2\":[\"7645398210\",\"name2@domain.ext\"]}\n",
    "def addContact(name,phone,email):\n",
    "    if name in contacts:\n",
    "        print(name,\"already exists\")\n",
    "    else:\n",
    "        if not phoneNumberValidator(phone):\n",
    "            print(\"Invalid  phone number\")\n",
    "        if not Emailvalidator(email):\n",
    "            print(\"Invalid Email address\")\n",
    "            return\n",
    "        newcontact = []\n",
    "        newcontact.append(phone)\n",
    "        newcontact.append(email)\n",
    "        contacts[name]=newcontact\n",
    "    print(contacts)\n",
    "        \n",
    "addContact(\"name3\",\"8185868305\",\"asapuramya@gmail.com\")\n"
   ]
  },
  {
   "cell_type": "code",
   "execution_count": 7,
   "metadata": {},
   "outputs": [
    {
     "name": "stdout",
     "output_type": "stream",
     "text": [
      "name1\n",
      "phone : 9876543210\n",
      "Email : name1@domain.ext\n"
     ]
    }
   ],
   "source": [
    "def searchContacts(name):\n",
    "    if name in contacts:\n",
    "        print(name)\n",
    "        print(\"phone :\",contacts[name][0])\n",
    "        print(\"Email :\",contacts[name][1])\n",
    "    else:\n",
    "        print(\"%s does not exist\" %name)\n",
    "    return\n",
    "searchContacts(\"name1\")"
   ]
  },
  {
   "cell_type": "code",
   "execution_count": 49,
   "metadata": {},
   "outputs": [
    {
     "name": "stdout",
     "output_type": "stream",
     "text": [
      "2 contacts added successfully\n"
     ]
    }
   ],
   "source": [
    "def importcontacts(newcontacts):\n",
    "    contacts.update(newcontacts)\n",
    "    print(len(newcontacts.keys()),\"contacts added successfully\")\n",
    "    return\n",
    "\n",
    "\n",
    "newcontacts={\"name4\":[\"6658368273\",\"abc@gmail.com\"],\"name5\":[\"9875436234\",\"edf345@rgukt.in\"]}\n",
    "importcontacts(newcontacts)"
   ]
  },
  {
   "cell_type": "code",
   "execution_count": 9,
   "metadata": {},
   "outputs": [
    {
     "name": "stdout",
     "output_type": "stream",
     "text": [
      "name1 \n",
      " phone: 9876543210 \n",
      " Email: name1@domain.ext\n",
      "name2 \n",
      " phone: 7645398210 \n",
      " Email: name2@domain.ext\n",
      "name3 \n",
      " phone: 8185868305 \n",
      " Email: asapuramya@gmail.com\n"
     ]
    }
   ],
   "source": [
    "#function to list all contacts\n",
    "def listAllContacts():\n",
    "    for contact,info in contacts.items():\n",
    "        print(contact,\"\\n\",\"phone:\",info[0],\"\\n\",\"Email:\",info[1])\n",
    "    return\n",
    "listAllContacts()    "
   ]
  },
  {
   "cell_type": "code",
   "execution_count": 48,
   "metadata": {},
   "outputs": [
    {
     "name": "stdout",
     "output_type": "stream",
     "text": [
      "contact modified successfully\n"
     ]
    }
   ],
   "source": [
    "#Function to edit contact information\n",
    "def editcontact(name):\n",
    "    if name in contacts:\n",
    "        contacts[name][0]=\"9705940600\"\n",
    "        contacts[name][1]=\"apssdc@dfg.com\"\n",
    "        print(\"contact modified successfully\")\n",
    "    else:\n",
    "        print(\"contact does not exist\")\n",
    "editcontact(\"name2\")\n",
    "    "
   ]
  },
  {
   "cell_type": "code",
   "execution_count": null,
   "metadata": {},
   "outputs": [],
   "source": []
  },
  {
   "cell_type": "markdown",
   "metadata": {},
   "source": [
    "## File Handling in python\n",
    "File - Document containing information residing\n",
    "\n",
    "Types - Text,PDF,CSV etc\n",
    "\n",
    "File I/O - Channelling data to files\n",
    "\n",
    "Default I/O channels -keyboard/screen\n",
    "\n",
    "change I/O channel to files for Reading and writing\n",
    "\n",
    "Read a file - Input from file\n",
    "\n",
    "Write to a file - output to a file\n",
    "\n",
    "Read/Write a file - open(filename,mode)\n",
    "\n"
   ]
  },
  {
   "cell_type": "code",
   "execution_count": 43,
   "metadata": {},
   "outputs": [
    {
     "name": "stdout",
     "output_type": "stream",
     "text": [
      "\n",
      "line3\n",
      "\n",
      "line4\n"
     ]
    }
   ],
   "source": [
    "#Function to read a file\n",
    "def readFile(filename):\n",
    "    f=open(filename,'r')\n",
    "    filedata=f.read()\n",
    "    f.close()\n",
    "    return filedata\n",
    "\n",
    "filename='DataFiles/data.txt'\n",
    "filedata=readFile(filename)\n",
    "#for line in filedata.split('\\n'):\n",
    "    #print(line)\n",
    "    \n",
    "    \n",
    "def printFileDataLines(filename):\n",
    "    f=open(filename,'r')\n",
    "    for line in f:\n",
    "        print(line,end='')\n",
    "    return\n",
    "\n",
    "\n",
    "#print(readFile(filename))\n",
    "\n",
    "#Instead of f.close() we can use with keyword\n",
    "\n",
    "def printFileDataLines(filename):\n",
    "    with open(filename,'r') as f:\n",
    "        for line in f:\n",
    "            print(line,end='')\n",
    "    return\n",
    "\n",
    "printFileDataLines(filename)"
   ]
  },
  {
   "cell_type": "code",
   "execution_count": 57,
   "metadata": {},
   "outputs": [],
   "source": [
    "#Function to write data into a file\n",
    "\n",
    "def writeIntoFile(filename,filedata):\n",
    "    with open(filename,'w') as f:\n",
    "        f.write(filedata)\n",
    "    return\n",
    "\n",
    "filename='DataFiles/data.txt'\n",
    "writeIntoFile(filename,\"new data\")"
   ]
  },
  {
   "cell_type": "code",
   "execution_count": null,
   "metadata": {},
   "outputs": [],
   "source": []
  },
  {
   "cell_type": "code",
   "execution_count": 58,
   "metadata": {},
   "outputs": [],
   "source": [
    "#Function to append data into a file\n",
    "def append(filename,filedata):\n",
    "    with open(filename,'a') as f:\n",
    "        for line in filedata:\n",
    "            f.write('\\n'+line+'\\n')\n",
    "    return\n",
    "filename='DataFiles/data.txt'\n",
    "filedata=[\"line3\",\"line4\"]\n",
    "append(filename,filedata)"
   ]
  },
  {
   "cell_type": "code",
   "execution_count": 59,
   "metadata": {},
   "outputs": [
    {
     "data": {
      "text/plain": [
       "['9876543210', 'name1@domain.ext']"
      ]
     },
     "execution_count": 59,
     "metadata": {},
     "output_type": "execute_result"
    }
   ],
   "source": [
    "contacts['name1']"
   ]
  },
  {
   "cell_type": "code",
   "execution_count": 68,
   "metadata": {},
   "outputs": [],
   "source": [
    "#Function to write contacts list in a file\n",
    "def ContactsFile(filename,contacts):\n",
    "    \n",
    "    for contact,info in contacts.items():\n",
    "        li=[]\n",
    "        li.append(contact)\n",
    "        li.append(info[0])\n",
    "        li.append(info[1])\n",
    "        for i in li:\n",
    "            o=0\n",
    "            with open(filename,'a') as f:\n",
    "                if(o!=3):\n",
    "                    f.write(i+',') \n",
    "                    f.write(\"\\n\")\n",
    "                    f.write(\"\\n\")\n",
    "                    o+=1\n",
    "                else:\n",
    "                    f.write(\"\\n\")\n",
    "    return\n",
    "\n",
    "# filename='DataFiles//contacts.txt'\n",
    "\n",
    "ContactsFile('DataFiles//contacts.txt',contacts)"
   ]
  },
  {
   "cell_type": "code",
   "execution_count": null,
   "metadata": {},
   "outputs": [],
   "source": []
  },
  {
   "cell_type": "code",
   "execution_count": null,
   "metadata": {},
   "outputs": [],
   "source": []
  }
 ],
 "metadata": {
  "kernelspec": {
   "display_name": "Python 3",
   "language": "python",
   "name": "python3"
  },
  "language_info": {
   "codemirror_mode": {
    "name": "ipython",
    "version": 3
   },
   "file_extension": ".py",
   "mimetype": "text/x-python",
   "name": "python",
   "nbconvert_exporter": "python",
   "pygments_lexer": "ipython3",
   "version": "3.7.3"
  }
 },
 "nbformat": 4,
 "nbformat_minor": 2
}
