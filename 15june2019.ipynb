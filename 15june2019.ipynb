{
 "cells": [
  {
   "cell_type": "code",
   "execution_count": 11,
   "metadata": {},
   "outputs": [
    {
     "name": "stdout",
     "output_type": "stream",
     "text": [
      "1 10 1\n",
      "10\n"
     ]
    }
   ],
   "source": [
    "# Count divisors\n",
    "def countdivisors(i,j,k):\n",
    "    count=0\n",
    "    for num in range(i,j+1):\n",
    "        if num%k==0:\n",
    "            count+=1\n",
    "    print(count)\n",
    "    return\n",
    "\n",
    "s=input()\n",
    "s=s.split()\n",
    "i=int(s[0])\n",
    "j=int(s[1])\n",
    "k=int(s[2])\n",
    "    \n",
    "countdivisors(i,j,k)"
   ]
  },
  {
   "cell_type": "code",
   "execution_count": 13,
   "metadata": {},
   "outputs": [
    {
     "name": "stdout",
     "output_type": "stream",
     "text": [
      "5\n",
      "120\n"
     ]
    }
   ],
   "source": [
    "#Factorial of a given number\n",
    "def factorial(n):\n",
    "    mul=1\n",
    "    for i in range(1,n+1):\n",
    "        mul=mul*i\n",
    "    print(mul)\n",
    "    return\n",
    "\n",
    "n=int(input())\n",
    "factorial(n)"
   ]
  },
  {
   "cell_type": "code",
   "execution_count": 8,
   "metadata": {},
   "outputs": [
    {
     "name": "stdout",
     "output_type": "stream",
     "text": [
      "PythonProgramming\n"
     ]
    }
   ],
   "source": [
    "#Toggle string\n",
    "\n",
    "\n",
    "\n",
    "\n",
    "def togglestring(s):\n",
    "    a=\"\"\n",
    "    for i in s:\n",
    "        if i==i.upper():\n",
    "            a+=i.lower()\n",
    "        elif i==i.lower():\n",
    "            a+=i.upper()\n",
    "    print(a,end=\"\")\n",
    "#togglestring(\"RamYA\")\n",
    "\n",
    "\n",
    "def togglestring2(s):\n",
    "    ns=\"\"\n",
    "    for i in s:\n",
    "        if i>='A' and i<='Z':\n",
    "            ns+=chr(ord(i)+32)\n",
    "        elif i>='a' and i<='z':\n",
    "            ns+=chr(ord(i)-32)\n",
    "    print(ns)\n",
    "    return\n",
    "togglestring2(\"pYTHON pROGRAMMING\")\n"
   ]
  },
  {
   "cell_type": "code",
   "execution_count": 3,
   "metadata": {},
   "outputs": [
    {
     "data": {
      "text/plain": [
       "'aBC'"
      ]
     },
     "execution_count": 3,
     "metadata": {},
     "output_type": "execute_result"
    }
   ],
   "source": [
    "#s.isupper() # to check upper or lower\n",
    "#s.islower()\n",
    "#s.upper()  #to convert lower to upper\n",
    "#s.lower()  #to convert upper to lower\n",
    "#s=\"abc\"\n",
    "#list(s)   #to convert string to a list\n",
    "\n",
    "def togglestring3(s):\n",
    "    s=list(s)  \n",
    "    t=[]\n",
    "    for c in s:\n",
    "        if c.islower():\n",
    "            t.append(c.upper())\n",
    "        else:\n",
    "            t.append(c.lower())\n",
    "    return \"\".join(t)   # by using this we can concetanate the elements in list\n",
    "togglestring3(\"Abc\")"
   ]
  },
  {
   "cell_type": "code",
   "execution_count": null,
   "metadata": {},
   "outputs": [],
   "source": []
  },
  {
   "cell_type": "code",
   "execution_count": 15,
   "metadata": {},
   "outputs": [
    {
     "name": "stdout",
     "output_type": "stream",
     "text": [
      "ramya\n",
      "No\n"
     ]
    }
   ],
   "source": [
    "#palindrome string\n",
    "def palindrome(s):\n",
    "    if s==s[::-1]:\n",
    "        print(\"yes\")\n",
    "    else:\n",
    "        print(\"No\")\n",
    "s=input()\n",
    "palindrome(s)"
   ]
  },
  {
   "cell_type": "code",
   "execution_count": 16,
   "metadata": {},
   "outputs": [
    {
     "name": "stdout",
     "output_type": "stream",
     "text": [
      "10\n",
      "2 3 5 7 "
     ]
    }
   ],
   "source": [
    "#prime numbers\n",
    "def primenumbers(n):\n",
    "    for i in range(1,n+1):\n",
    "        count=0\n",
    "        for j in range(1,i+1):\n",
    "            if i%j==0:\n",
    "                count+=1\n",
    "        if count==2:\n",
    "            print(i,end=\" \")\n",
    "    return\n",
    "n=int(input())\n",
    "primenumbers(n)"
   ]
  },
  {
   "cell_type": "code",
   "execution_count": 25,
   "metadata": {},
   "outputs": [
    {
     "name": "stdout",
     "output_type": "stream",
     "text": [
      "aba\n",
      "4\n"
     ]
    }
   ],
   "source": [
    "#char sum\n",
    "def charsum(s):\n",
    "    sum=0\n",
    "    for i in s:\n",
    "        sum+=(ord(i)-96)\n",
    "    return sum\n",
    "\n",
    "s=input()\n",
    "print(charsum(s))"
   ]
  },
  {
   "cell_type": "code",
   "execution_count": 31,
   "metadata": {},
   "outputs": [
    {
     "name": "stdout",
     "output_type": "stream",
     "text": [
      "2\n",
      "amma amba\n",
      "NO\n",
      "ramya ramya\n",
      "YES\n"
     ]
    }
   ],
   "source": [
    "#Given two strings of equal length, you have to tell whether they both strings are identical.\n",
    "#Two strings S1 and S2 are said to be identical, if any of the permutation of string S1 is equal to the string S2\n",
    "#Input :First line, contains an intger 'T' denoting no. of test cases.Each test consists of a single line, containing two space separated strings S1 and S2 of equal length.\n",
    "#Output:For each test case, if any of the permutation of string S1 is equal to the string S2 print YES else print NO\n",
    "\n",
    "# 3  Number of test cases\n",
    "# sumit mitsu   -YES\n",
    "# ambuj jumba   -YES\n",
    "# abhi hibb     -NO\n",
    "\n",
    "n=int(input())\n",
    "def twostrings(s,t):\n",
    "    if len(s)!=len(t):\n",
    "        return \"NO\"\n",
    "    else:\n",
    "        for i in range(len(s)):\n",
    "            if s.count(s[i])!=t.count(s[i]):\n",
    "                return \"NO\" \n",
    "        else:\n",
    "            return \"YES\"\n",
    "        \n",
    "for i in range(n):\n",
    "    st=input().split()\n",
    "    s=st[0]\n",
    "    t=st[1]\n",
    "    print(twostrings(s,t))"
   ]
  },
  {
   "cell_type": "code",
   "execution_count": null,
   "metadata": {},
   "outputs": [],
   "source": []
  },
  {
   "cell_type": "code",
   "execution_count": 5,
   "metadata": {},
   "outputs": [
    {
     "name": "stdout",
     "output_type": "stream",
     "text": [
      "2\n",
      "2 40 3 24\n",
      "0 44\n",
      "3 45 5 46\n",
      "2 1\n"
     ]
    }
   ],
   "source": [
    "# Input:First line will be given by N number of works\n",
    "#Next N line will be given SH,SM,EH and EM  each separated by space(SH=starting hr, SM=starting min, EH=ending hr, EM=ending min)\n",
    "#Output:N lines with duration HH MM(hours and minutes separated by space)\n",
    "\n",
    "def duration(sh,sm,eh,em):\n",
    "    sm=sm+sh*60\n",
    "    em=em+eh*60\n",
    "    diff=em-sm\n",
    "    hh=diff//60\n",
    "    mm=diff%60\n",
    "    print(hh,mm)\n",
    "    return\n",
    "\n",
    "\n",
    "n=int(input())\n",
    "for i in range(n):\n",
    "    s=input()\n",
    "    s=s.split()\n",
    "    sh=int(s[0])\n",
    "    sm=int(s[1])\n",
    "    eh=int(s[2])\n",
    "    em=int(s[3])\n",
    "    duration(sh,sm,eh,em)\n",
    "    "
   ]
  },
  {
   "cell_type": "markdown",
   "metadata": {},
   "source": [
    "#### Duration\n",
    "**Input** :start time,end time(HH MM)<br>\n",
    "    HH-{00,01,02,......23}<br>\n",
    "    MM - {00,01,02,03,........59}<br>\n",
    "**output**Time difference in HH MM<br>\n",
    "    "
   ]
  },
  {
   "cell_type": "code",
   "execution_count": 8,
   "metadata": {},
   "outputs": [
    {
     "name": "stdout",
     "output_type": "stream",
     "text": [
      "2\n",
      "2 42 8 23\n",
      "5 41\n",
      "13 42 14 20\n",
      "0 38\n"
     ]
    }
   ],
   "source": [
    "#calculate the time difference as total number\n",
    "#convert the total minutes into HH MM\n",
    "def minutedifference(s):\n",
    "    s=s.split()\n",
    "    sh=int(s[0])\n",
    "    sm=int(s[1])\n",
    "    eh=int(s[2])\n",
    "    em=int(s[3])\n",
    "    startminutes=sm+(sh*60)\n",
    "    endminutes=em+(eh*60)\n",
    "    return endminutes-startminutes\n",
    "\n",
    "def outputtimeformat(minutes):\n",
    "    #convert minutes to HH MM\n",
    "    hh=minutes//60\n",
    "    mm=minutes%60\n",
    "    print(hh,mm)\n",
    "    return\n",
    "\n",
    "n=int(input())\n",
    "for i in range(n):\n",
    "    s=input()\n",
    "    minutes=minutedifference(s) \n",
    "    outputtimeformat(minutes)\n",
    "    "
   ]
  },
  {
   "cell_type": "code",
   "execution_count": null,
   "metadata": {},
   "outputs": [],
   "source": []
  },
  {
   "cell_type": "code",
   "execution_count": 4,
   "metadata": {},
   "outputs": [
    {
     "name": "stdout",
     "output_type": "stream",
     "text": [
      "5 2\n",
      "1 2 3 4 5\n",
      "1 3\n",
      "2\n",
      "2 5\n",
      "3\n"
     ]
    }
   ],
   "source": [
    "## play with numbers\n",
    "# line 1: array size(n),no of queries(q)\n",
    "#line 2: n array elements\n",
    "# next q lines : query-each  query contains sub array of the original array\n",
    "\n",
    "# input          output \n",
    "# 5 2              2\n",
    "# 1 2 3 4 5        3\n",
    "# 1 2             \n",
    "# 2 4         \n",
    "\n",
    "\n",
    "n=input().split()\n",
    "N=int(n[0])\n",
    "Q=int(n[1])\n",
    "#Read array elements\n",
    "a=input().split()\n",
    "sum=[]   #Initialize cumulative sum array\n",
    "# Cumulative sum\n",
    "for i in range(0,N):\n",
    "    if i==0:\n",
    "        sum.append(int(a[0]))\n",
    "    else:\n",
    "        sum.append(int(sum[i-1]+int(a[i])))\n",
    "        \n",
    "del a\n",
    "\n",
    "#Read each query and calculate the average\n",
    "for k in range(0,Q):\n",
    "    inq=input().split()\n",
    "    i=int(inq[0])\n",
    "    j=int(inq[1])\n",
    "    if i>1:\n",
    "        print((sum[j-1]-sum[i-2])//(j-i+1))\n",
    "    else:\n",
    "        print(sum[j-1]//(j-i+1))\n"
   ]
  },
  {
   "cell_type": "code",
   "execution_count": null,
   "metadata": {},
   "outputs": [],
   "source": []
  }
 ],
 "metadata": {
  "kernelspec": {
   "display_name": "Python 3",
   "language": "python",
   "name": "python3"
  },
  "language_info": {
   "codemirror_mode": {
    "name": "ipython",
    "version": 3
   },
   "file_extension": ".py",
   "mimetype": "text/x-python",
   "name": "python",
   "nbconvert_exporter": "python",
   "pygments_lexer": "ipython3",
   "version": "3.7.3"
  }
 },
 "nbformat": 4,
 "nbformat_minor": 2
}
