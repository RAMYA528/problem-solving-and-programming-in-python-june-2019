{
 "cells": [
  {
   "cell_type": "markdown",
   "metadata": {},
   "source": [
    "#### Date: 22 june 2019\n",
    "#### Day Objectives\n",
    "\n",
    "- File Handling\n",
    "    - Basic file data processing\n",
    "         - Accessing and modifying file data\n",
    "    - Character count\n",
    "    - Line count\n",
    "    - File Size\n",
    "    - Word count\n",
    "    - Unique word count\n",
    "    \n",
    "    \n",
    "  \n",
    "    "
   ]
  },
  {
   "cell_type": "code",
   "execution_count": 9,
   "metadata": {},
   "outputs": [
    {
     "name": "stdout",
     "output_type": "stream",
     "text": [
      "new data\n",
      "line3\n",
      "line4\n",
      "line5\n",
      "linr\n"
     ]
    }
   ],
   "source": [
    "#Read a file - File should exist\n",
    "#Write to a file - Existing(append) or New(write)\n",
    "\n",
    "#Function to read entire file data into a single string- character processing\n",
    "\n",
    "def readfile(filepath):\n",
    "    with open(filepath,'r') as f:\n",
    "        #print(type(f))\n",
    "        filedata=f.read()\n",
    "    return filedata\n",
    "\n",
    "filepath='DataFiles/data.txt'\n",
    "print(readfile(filepath))\n",
    "    \n"
   ]
  },
  {
   "cell_type": "code",
   "execution_count": 2,
   "metadata": {},
   "outputs": [
    {
     "data": {
      "text/plain": [
       "['new data', 'line3', 'line4', 'line5', 'linr', 'new', 'data']"
      ]
     },
     "execution_count": 2,
     "metadata": {},
     "output_type": "execute_result"
    }
   ],
   "source": [
    "#Function to read  a file into a list of lines\n",
    "#Each element in the list is one line in the file -line processing\n",
    "\n",
    "def readFileIntoList(filepath):\n",
    "    with open(filepath,'r') as f:\n",
    "        filedata=f.read()       \n",
    "        lines=filedata.split('\\n')\n",
    "        #lines=[]\n",
    "        #for line in f:\n",
    "            #lines.append(line)\n",
    "    return lines\n",
    "filepath='DataFiles/data.txt'\n",
    "readFileIntoList(filepath)"
   ]
  },
  {
   "cell_type": "code",
   "execution_count": null,
   "metadata": {},
   "outputs": [],
   "source": []
  },
  {
   "cell_type": "code",
   "execution_count": 7,
   "metadata": {},
   "outputs": [
    {
     "data": {
      "text/plain": [
       "31"
      ]
     },
     "execution_count": 7,
     "metadata": {},
     "output_type": "execute_result"
    }
   ],
   "source": [
    "# Function to count characters in a file\n",
    "def charcount(filepath):\n",
    "    with open(filepath,'r') as f:\n",
    "        filedata=f.read()\n",
    "        count=0\n",
    "        for i in filedata:\n",
    "            if i==\" \" or i==\"\\n\":\n",
    "                count+=0\n",
    "            else:\n",
    "                count+=1\n",
    "    return count\n",
    "\n",
    "filepath='DataFiles/data.txt'\n",
    "#print(charcount(filepath))\n",
    "\n",
    "\n",
    "def charcountfile(filepath):\n",
    "    count=len(readfile(filepath))\n",
    "    return count\n",
    "charcountfile(filepath)"
   ]
  },
  {
   "cell_type": "code",
   "execution_count": 3,
   "metadata": {},
   "outputs": [
    {
     "data": {
      "text/plain": [
       "7"
      ]
     },
     "execution_count": 3,
     "metadata": {},
     "output_type": "execute_result"
    }
   ],
   "source": [
    "def Linecount(filepath):\n",
    "    with open(filepath,'r') as f:\n",
    "        count=0\n",
    "        for i in f:\n",
    "            if i!='\\n':\n",
    "                count+=1\n",
    "    return count\n",
    "\n",
    "filepath='DataFiles/data.txt'\n",
    "#print(Linecount(filepath))\n",
    "\n",
    "\n",
    "# Function to count number of lines in a file\n",
    "\n",
    "def countLinesFile(filepath):\n",
    "    count = len(readFileIntoList(filepath))\n",
    "    return count\n",
    "\n",
    "countLinesFile(filepath)"
   ]
  },
  {
   "cell_type": "code",
   "execution_count": 6,
   "metadata": {},
   "outputs": [
    {
     "data": {
      "text/plain": [
       "6"
      ]
     },
     "execution_count": 6,
     "metadata": {},
     "output_type": "execute_result"
    }
   ],
   "source": [
    "import re\n",
    "def wordcountfile(filepath):\n",
    "    pattern='[ \\n]'\n",
    "    filedata=readfile(filepath)\n",
    "    count=len(re.split(pattern,filedata))\n",
    "    return count\n",
    "filepath='DataFiles/data.txt'\n",
    "wordcountfile(filepath)"
   ]
  },
  {
   "cell_type": "code",
   "execution_count": 11,
   "metadata": {},
   "outputs": [
    {
     "name": "stdout",
     "output_type": "stream",
     "text": [
      "[1, 2, 3, 4, 5]\n"
     ]
    }
   ],
   "source": [
    "#Function to print unique data in a list\n",
    "#[1,2,3,3,2,1]->[1,2,3]\n",
    "#creat a empty unique list [] ->[1] ->[1,2] ->[1,2,3]\n",
    "\n",
    "def uniqueData(li):\n",
    "    #create an empty unique list\n",
    "    unique=[]\n",
    "    #for every element in the main list,check if it exists in the unique list\n",
    "    #If it does not exist,add it to unique list\n",
    "    #else if it already exists,move on to the next element in the main list\n",
    "    \n",
    "    for element in li:\n",
    "        if element not in unique:\n",
    "            unique.append(element)\n",
    "    return unique\n",
    "li=[1,2,2,3,3,4,5]\n",
    "print(uniqueData(li))\n",
    "    \n",
    "    \n"
   ]
  },
  {
   "cell_type": "code",
   "execution_count": 22,
   "metadata": {},
   "outputs": [
    {
     "data": {
      "text/plain": [
       "['new', 'data', 'line3', 'line4', 'line5', 'linr']"
      ]
     },
     "execution_count": 22,
     "metadata": {},
     "output_type": "execute_result"
    }
   ],
   "source": [
    "#function to print unique word count in a file\n",
    "\n",
    "def countuniquewords(filepath):\n",
    "    filedata=readfile(filepath).split()\n",
    "    x=[]\n",
    "    for i in filedata:\n",
    "        if i not in x:\n",
    "            x.append(i)\n",
    "            \n",
    "    return x\n",
    "    \n",
    "\n",
    "filepath='DataFiles/data.txt'\n",
    "countuniquewords(filepath)\n",
    "        "
   ]
  },
  {
   "cell_type": "code",
   "execution_count": null,
   "metadata": {},
   "outputs": [],
   "source": []
  },
  {
   "cell_type": "code",
   "execution_count": 12,
   "metadata": {},
   "outputs": [
    {
     "name": "stdout",
     "output_type": "stream",
     "text": [
      "2\n",
      "34635765165746\n",
      "71111111111111111111111111111111246357436570564757567456110\n",
      "1111111111111111111111111111111111111111111111111111111111111"
     ]
    }
   ],
   "source": [
    "#Alice got a number written in seven segment format where each segment was creatted used a matchstick.\n",
    "\n",
    "#Example: If Alice gets a number 123 so basically Alice used 12 matchsticks for this number.\n",
    "\n",
    "#Alice is wondering what is the numerically largest value that she can generate by using at most the matchsticks \n",
    "#that she currently possess.Help Alice out by telling her that number.\n",
    "#Input Format:First line contains T (test cases).Next T lines contain a Number N.\n",
    "\n",
    "#Output Format:Print the largest possible number numerically that can be generated using at max that many number of matchsticks\n",
    "#which was used to generate N.\n",
    "\n",
    "def sevensegmentdisplay(num):\n",
    "    ms=0\n",
    "    while(num>0):\n",
    "        n=num%10\n",
    "        if n==0 or n==6 or n==9:\n",
    "            ms+=6\n",
    "        elif n==1:\n",
    "            ms+=2\n",
    "        elif n==2 or n==3 or n==5:\n",
    "            ms+=5\n",
    "        elif n==4:\n",
    "            ms+=4\n",
    "        elif n==7:\n",
    "            ms+=3\n",
    "        elif n==8:\n",
    "            ms+=7\n",
    "        num=num//10\n",
    "    \n",
    "    if ms%2==0:\n",
    "        ms=ms//2\n",
    "        for i in range(ms):\n",
    "            print(1,end='')\n",
    "            \n",
    "    else:\n",
    "        ms=ms-3\n",
    "        print(7,end='')\n",
    "        ms=ms//2\n",
    "        for i in range(ms):\n",
    "            print(1,end='')\n",
    "            \n",
    "    return\n",
    "\n",
    "        \n",
    "t=int(input())\n",
    "for i in range(t):\n",
    "    num=int(input())\n",
    "    sevensegmentdisplay(num)\n",
    "    \n",
    "        "
   ]
  },
  {
   "cell_type": "code",
   "execution_count": null,
   "metadata": {},
   "outputs": [],
   "source": []
  }
 ],
 "metadata": {
  "kernelspec": {
   "display_name": "Python 3",
   "language": "python",
   "name": "python3"
  },
  "language_info": {
   "codemirror_mode": {
    "name": "ipython",
    "version": 3
   },
   "file_extension": ".py",
   "mimetype": "text/x-python",
   "name": "python",
   "nbconvert_exporter": "python",
   "pygments_lexer": "ipython3",
   "version": "3.7.3"
  }
 },
 "nbformat": 4,
 "nbformat_minor": 2
}
