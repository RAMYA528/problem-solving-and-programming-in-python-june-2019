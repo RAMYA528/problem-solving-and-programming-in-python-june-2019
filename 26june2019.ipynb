{
 "cells": [
  {
   "cell_type": "code",
   "execution_count": null,
   "metadata": {},
   "outputs": [],
   "source": [
    "# Largest number in a list\n",
    "#Second largest number in a list\n",
    "# Kth largest number in a list\n",
    "\n",
    "#Element with highest frequency\n",
    "#Second Highest freqency\n",
    "# Kth Highest freqency\n",
    "\n",
    "\n",
    "#{a:4,g:9,i:6,p:213,c:6}\n",
    "# k=3  output : c\n",
    "#[a,c,g,i,p]\n",
    "#[4,6,6,9,213]\n",
    "#[213,9,6,6,4]\n",
    "#li=[]\n",
    "# for item in d.items():\n",
    "#    if item[1]==6:\n",
    "#       li.append(item[0])\n",
    "#li=[i,c]\n",
    "\n",
    "\n",
    "def klargestfreq(s,k):\n",
    "    #construct the frequency dictionary for all unique characters\n",
    "    unique=[]\n",
    "    freq={}\n",
    "    for i in s:\n",
    "        if i not in unique:\n",
    "            freq[i]=s.count(i)\n",
    "    values=sorted(freq.values(),reversed=True)\n",
    "    uniquevalues=list(set(values))\n",
    "    uniquevalues=sorted(uniquevalues)\n",
    "    kvalue=uniquevalue[k-1]\n",
    "    \n",
    "    "
   ]
  },
  {
   "cell_type": "code",
   "execution_count": 18,
   "metadata": {},
   "outputs": [
    {
     "name": "stdout",
     "output_type": "stream",
     "text": [
      "[]\n"
     ]
    },
    {
     "data": {
      "text/plain": [
       "-1"
      ]
     },
     "execution_count": 18,
     "metadata": {},
     "output_type": "execute_result"
    }
   ],
   "source": [
    "# Function to find the second largest number in a list\n",
    "def secondlargest(li):\n",
    "    #convert the list into a unique list\n",
    "    # O(n) - Time complexity\n",
    "    unique=[]\n",
    "    for n in li:\n",
    "        if n not in unique:\n",
    "            unique.append(n)\n",
    "    #unique=sorted(unique,reverse=True)\n",
    "    # return unique[1]\n",
    "    unique=sorted(unique)\n",
    "    if len(unique)>1:\n",
    "        return unique[-2]\n",
    "    return -1\n",
    "#print(secondlargest([1]))\n",
    "            \n",
    "    \n",
    "# def fifthleast(li)\n",
    "def fifthleast(li):\n",
    "    unique=[]\n",
    "    for n in li:\n",
    "        if n not in unique:\n",
    "            unique.append(n)\n",
    "    unique=sorted(unique)\n",
    "    print(unique)\n",
    "    if len(unique)>5:\n",
    "        return unique[4]\n",
    "    return -1\n",
    "#print(fifthleast([1,3]))\n",
    "\n",
    "\n",
    "# def klargest(li,k)\n",
    "def klargest(li,k):\n",
    "    unique=[]\n",
    "    for n in li:\n",
    "        if n not in unique:\n",
    "            unique.append(n)\n",
    "    unique=sorted(unique)\n",
    "    #print(unique)\n",
    "    if len(unique)>=k:\n",
    "        return unique[-k]\n",
    "    return -1\n",
    "#klargest([1,2,3,8,5,9,4,6],3)\n",
    "    \n",
    "# def ksmallest(li,k)\n",
    "def ksmallest(li,k):\n",
    "    unique=[]\n",
    "    for n in li:\n",
    "        if n not in unique:\n",
    "            unique.append(n)\n",
    "    unique=sorted(unique)\n",
    "    print(unique)\n",
    "    if len(unique)>=k:\n",
    "        return unique[k-1]\n",
    "    return -1\n",
    "ksmallest([],2)"
   ]
  },
  {
   "cell_type": "code",
   "execution_count": 31,
   "metadata": {},
   "outputs": [
    {
     "name": "stdout",
     "output_type": "stream",
     "text": [
      "1\n"
     ]
    }
   ],
   "source": [
    "# Function to identify the element with highest frequency in a list\n",
    "# If many elements have the highest frequency return the smallest\n",
    "# highestfreqency([1,2,3,9,8,7,3,4,2,1]) -> 1\n",
    "def HighestFrequencyElement(li):\n",
    "    unique={}\n",
    "    for i in li:\n",
    "        if i not in unique:\n",
    "            unique[i]=1\n",
    "        else:\n",
    "            unique[i]+=1\n",
    "    # {1:2, 2:2, 3:2, 9:1, 8:1, 7:1, 4:1}\n",
    "    freq=unique.values()   \n",
    "    maxfreq=max(freq)\n",
    "    maxfreqE=[]\n",
    "    for item in unique.items():\n",
    "        #item -> (key,value)\n",
    "        if item[1]==maxfreq:\n",
    "            maxfreqE.append(item[0])\n",
    "    return min(maxfreqE)\n",
    "    #return max(maxfreqE)\n",
    "    \n",
    "    \n",
    "            \n",
    "print(HighestFrequencyElement([1,2,3,9,8,7,3,3,4,2,1,1]))     \n",
    "    \n"
   ]
  },
  {
   "cell_type": "code",
   "execution_count": 36,
   "metadata": {},
   "outputs": [
    {
     "name": "stdout",
     "output_type": "stream",
     "text": [
      "9\n"
     ]
    }
   ],
   "source": [
    "# Function to identify the element with second highest frequency in a list\n",
    "# If many elements have the second highest frequency return the smallest element\n",
    "#[1,2,3,2,1,4,4,9] -> [3,9] ->3\n",
    "\n",
    "def secondhighestfreqElement(li):\n",
    "    unique={}\n",
    "    for i in li:\n",
    "        if i not in unique:\n",
    "            unique[i]=1\n",
    "        else:\n",
    "            unique[i]+=1\n",
    "    # {1:2,2:2,3:1,4:2,9:1}\n",
    "    freq=unique.values() \n",
    "    un=[]\n",
    "    for i in freq:\n",
    "        if i not in un:\n",
    "            un.append(i)\n",
    "    un=sorted(un)\n",
    "    secondmaxfreq=un[-2]\n",
    "    maxfreqE=[]\n",
    "    for item in unique.items():\n",
    "        #item -> (key,value)\n",
    "        if item[1]==secondmaxfreq:\n",
    "            maxfreqE.append(item[0])\n",
    "    return min(maxfreqE)\n",
    "\n",
    "print(secondhighestfreqElement([1,2,3,1,4,4,9,]))"
   ]
  },
  {
   "cell_type": "code",
   "execution_count": 6,
   "metadata": {},
   "outputs": [
    {
     "name": "stdout",
     "output_type": "stream",
     "text": [
      "2\n"
     ]
    }
   ],
   "source": [
    "# Function to identify the element with  Kth highest frequency in a list\n",
    "# If many such elements ,return the smallest element\n",
    "\n",
    "def kth_highestfreqElement(li,k):\n",
    "    unique={}\n",
    "    for i in li:\n",
    "        if i not in unique:\n",
    "            unique[i]=1\n",
    "        else:\n",
    "            unique[i]+=1\n",
    "    # {1:2,2:1,3:1,4:2,9:1}\n",
    "    \n",
    "    freq=unique.values() \n",
    "    un=[]\n",
    "    for i in freq:\n",
    "        if i not in un:\n",
    "            un.append(i)\n",
    "    un=sorted(un)\n",
    "    if len(un)>=k:\n",
    "        kthmaxfreq=un[-k]\n",
    "        maxfreqE=[]\n",
    "        for item in unique.items():\n",
    "            #item -> (key,value)\n",
    "            if item[1]==kthmaxfreq:\n",
    "                maxfreqE.append(item[0])\n",
    "    \n",
    "        return min(maxfreqE)\n",
    "    \n",
    "    return -1\n",
    "\n",
    "print(kth_highestfreqElement([9,8,7,6,5,2,3,4,9,6,7,7,7,6,7,6],4))"
   ]
  },
  {
   "cell_type": "code",
   "execution_count": null,
   "metadata": {},
   "outputs": [],
   "source": []
  },
  {
   "cell_type": "code",
   "execution_count": 3,
   "metadata": {},
   "outputs": [
    {
     "name": "stdout",
     "output_type": "stream",
     "text": [
      "-1\n"
     ]
    }
   ],
   "source": [
    "def kth_lowestfreqElement(li,k):\n",
    "    unique={}\n",
    "    for i in li:\n",
    "        if i not in unique:\n",
    "            unique[i]=1\n",
    "        else:\n",
    "            unique[i]+=1\n",
    "    # {1:2,2:1,3:1,4:2,9:1}\n",
    "    \n",
    "    freq=unique.values() \n",
    "    un=[]\n",
    "    for i in freq:\n",
    "        if i not in un:\n",
    "            un.append(i)\n",
    "    un=sorted(un)\n",
    "    \n",
    "    if len(un)>=k:\n",
    "        kthlowfreq=un[k-1]\n",
    "        \n",
    "        lowfreqE=[]\n",
    "        for item in unique.items():\n",
    "            #item -> (key,value)\n",
    "            if item[1]==kthlowfreq:\n",
    "                lowfreqE.append(item[0])\n",
    "\n",
    "        return min(lowfreqE)\n",
    "    return -1\n",
    "\n",
    "print(kth_lowestfreqElement([9,8,7,6,5,2,3,4,9,6,7,7,7,6,7,6],5))"
   ]
  },
  {
   "cell_type": "code",
   "execution_count": 9,
   "metadata": {},
   "outputs": [
    {
     "name": "stdout",
     "output_type": "stream",
     "text": [
      "s\n",
      "g\n",
      "h\n",
      "e\n",
      "w\n",
      "r\n",
      "n\n",
      "k\n",
      "-1\n",
      "-1\n"
     ]
    }
   ],
   "source": [
    "def kth_highestfreqchar(s,k):\n",
    "    unique={}\n",
    "    for c in s:\n",
    "        if c not in unique:\n",
    "            unique[c]=1\n",
    "        else:\n",
    "            unique[c]+=1\n",
    "    \n",
    "    \n",
    "    freq=unique.values() \n",
    "    uniqfreq=[]\n",
    "    for i in freq:\n",
    "        if i not in uniqfreq:\n",
    "            uniqfreq.append(i)\n",
    "    uniqfreq=sorted(uniqfreq)\n",
    "    if len(uniqfreq)>k:\n",
    "        kthmaxfreq=uniqfreq[-k]\n",
    "        maxfreqE=[]\n",
    "        for item in unique.items():\n",
    "            #item -> (key,value)\n",
    "            if item[1]==kthmaxfreq:\n",
    "                maxfreqE.append(item[0])\n",
    "    \n",
    "        return min(maxfreqE)\n",
    "    return -1\n",
    "filepath='DataFiles/kth_largestfreq.txt'\n",
    "with open(filepath,'r') as f:\n",
    "    t=int(f.readline())\n",
    "    for i in range(t):\n",
    "        s=f.readline()\n",
    "        k=int(f.readline())\n",
    "        print(kth_highestfreqchar(s,k))\n",
    "        \n",
    "    "
   ]
  },
  {
   "cell_type": "code",
   "execution_count": null,
   "metadata": {},
   "outputs": [],
   "source": []
  }
 ],
 "metadata": {
  "kernelspec": {
   "display_name": "Python 3",
   "language": "python",
   "name": "python3"
  },
  "language_info": {
   "codemirror_mode": {
    "name": "ipython",
    "version": 3
   },
   "file_extension": ".py",
   "mimetype": "text/x-python",
   "name": "python",
   "nbconvert_exporter": "python",
   "pygments_lexer": "ipython3",
   "version": "3.7.3"
  }
 },
 "nbformat": 4,
 "nbformat_minor": 2
}
