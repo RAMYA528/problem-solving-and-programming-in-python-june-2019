{
 "cells": [
  {
   "cell_type": "code",
   "execution_count": 6,
   "metadata": {},
   "outputs": [
    {
     "name": "stdout",
     "output_type": "stream",
     "text": [
      "asd234\n",
      "3\n",
      "3\n"
     ]
    }
   ],
   "source": [
    "# print characters count and digits count in a string\n",
    "\n",
    "s=input()\n",
    "def Countofdigits(s):\n",
    "    digit_count=0\n",
    "    letter_count=0\n",
    "    for i in s:\n",
    "        if((i>='A' and i<='Z')or(i>='a'and i<='z')):\n",
    "            letter_count+=1\n",
    "        elif(i>='0' and i<='9'):\n",
    "            digit_count+=1\n",
    "    print(letter_count)\n",
    "    print(digit_count)\n",
    "\n",
    "Countofdigits(s)\n",
    "    "
   ]
  },
  {
   "cell_type": "code",
   "execution_count": 22,
   "metadata": {},
   "outputs": [
    {
     "name": "stdout",
     "output_type": "stream",
     "text": [
      "2\n",
      "15\n",
      "8\n",
      "12\n",
      "7\n"
     ]
    }
   ],
   "source": [
    "#Function to print the number which gives highest number \n",
    " \n",
    "def highrem(n):\n",
    "    r=0\n",
    "    for i in range(1,n):\n",
    "        rem=n%i\n",
    "        if rem>r:\n",
    "            r=rem\n",
    "            j=i\n",
    "    return j\n",
    "\n",
    "t=int(input())\n",
    "for i in range(t):\n",
    "    n=int(input())\n",
    "    print(highrem(n))   "
   ]
  },
  {
   "cell_type": "code",
   "execution_count": 20,
   "metadata": {},
   "outputs": [
    {
     "name": "stdout",
     "output_type": "stream",
     "text": [
      "3\n",
      "5\n",
      "no\n",
      "3\n",
      "no\n",
      "6\n",
      "yes\n"
     ]
    }
   ],
   "source": [
    "#function to check perfect number or not\n",
    "def factors(n):\n",
    "    s=0\n",
    "    for i in range(1,n):\n",
    "        if(n%i==0):\n",
    "            s+=i\n",
    "    if(n==s):\n",
    "        return \"yes\"\n",
    "    else:\n",
    "        return \"no\"\n",
    "        \n",
    "testcases=int(input())\n",
    "for i in range(testcases):\n",
    "    n=int(input())\n",
    "    print(factors(n))"
   ]
  },
  {
   "cell_type": "code",
   "execution_count": null,
   "metadata": {},
   "outputs": [],
   "source": []
  },
  {
   "cell_type": "code",
   "execution_count": 28,
   "metadata": {},
   "outputs": [
    {
     "name": "stdout",
     "output_type": "stream",
     "text": [
      "5\n",
      "2\n",
      "1\n",
      "No\n",
      "6\n",
      "yes\n",
      "7\n",
      "yes\n",
      "1\n",
      "No\n",
      "34\n",
      "yes\n"
     ]
    }
   ],
   "source": [
    "#Function to find special number or not\n",
    "    \n",
    "def specialnumber(n):\n",
    "    primecount=0\n",
    "    for i in range(1,n+1):\n",
    "        if n%i==0:\n",
    "            if isprime(i):\n",
    "                primecount+=1\n",
    "    if primecount>=p:\n",
    "        return \"yes\"\n",
    "    else:\n",
    "        return \"No\"\n",
    "        \n",
    "\n",
    "def isprime(n):\n",
    "    count=0\n",
    "    for i in range(1,n+1):\n",
    "        if(n%i==0):\n",
    "            count+=1\n",
    "    if count==2:\n",
    "        return \"True\"\n",
    "    else:\n",
    "        return \"False\"\n",
    "    \n",
    "            \n",
    "        \n",
    "t=int(input())\n",
    "p=int(input())\n",
    "for i in range(t):\n",
    "    n=int(input())\n",
    "    print(specialnumber(n))    \n",
    "    \n",
    "    "
   ]
  },
  {
   "cell_type": "code",
   "execution_count": null,
   "metadata": {},
   "outputs": [],
   "source": []
  }
 ],
 "metadata": {
  "kernelspec": {
   "display_name": "Python 3",
   "language": "python",
   "name": "python3"
  },
  "language_info": {
   "codemirror_mode": {
    "name": "ipython",
    "version": 3
   },
   "file_extension": ".py",
   "mimetype": "text/x-python",
   "name": "python",
   "nbconvert_exporter": "python",
   "pygments_lexer": "ipython3",
   "version": "3.7.3"
  }
 },
 "nbformat": 4,
 "nbformat_minor": 2
}
