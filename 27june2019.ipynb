{
 "cells": [
  {
   "cell_type": "markdown",
   "metadata": {},
   "source": [
    "## Day objectives\n",
    "- Combinations\n",
    "- Set Data structure\n",
    "    - Set operations\n",
    "    - Use cases\n",
    "- Functional programming\n",
    "     - List comprehensions\n",
    "     - Iterators\n",
    "     - Generators\n",
    "     - Maps\n",
    "     - Lambda\n",
    "     - Built in Functions\n",
    "     - Use cases"
   ]
  },
  {
   "cell_type": "code",
   "execution_count": 4,
   "metadata": {},
   "outputs": [
    {
     "name": "stdout",
     "output_type": "stream",
     "text": [
      "1 2\n",
      "1 3\n",
      "1 4\n",
      "2 3\n",
      "2 4\n",
      "3 4\n"
     ]
    }
   ],
   "source": [
    "# Function to print all combinations of pairs of integers in a unique list\n",
    "# [1,2,3]-> (1,2),(1,3),(2,3) -> 3c2 ->  3!/((3-2)!*2!) -> 3\n",
    "def combinations2(li):\n",
    "    for i in range(len(li)-1):\n",
    "        for j in range(i+1,len(li)):\n",
    "            print(li[i],li[j])\n",
    "    return\n",
    "combinations2([1,2,3,4])\n"
   ]
  },
  {
   "cell_type": "code",
   "execution_count": 13,
   "metadata": {},
   "outputs": [
    {
     "name": "stdout",
     "output_type": "stream",
     "text": [
      "1 2 3\n",
      "1 2 4\n",
      "1 2 5\n",
      "1 3 4\n",
      "1 3 5\n",
      "1 4 5\n",
      "2 3 4\n",
      "2 3 5\n",
      "2 4 5\n",
      "3 4 5\n"
     ]
    }
   ],
   "source": [
    "# Function to print all combinations of 3 in a list\n",
    "def combinations3(li):\n",
    "    for i in range(len(li)-2):\n",
    "        for j in range(i+1,len(li)-1):\n",
    "            for k in range(j+1,len(li)):\n",
    "                print(li[i],li[j],li[k])\n",
    "    return\n",
    "combinations3([1,2,3,4,5])"
   ]
  },
  {
   "cell_type": "code",
   "execution_count": 74,
   "metadata": {},
   "outputs": [
    {
     "data": {
      "text/plain": [
       "[2, 3, 6, 9, 12, 1, 4, 7, 10, 5, 8, 11]"
      ]
     },
     "execution_count": 74,
     "metadata": {},
     "output_type": "execute_result"
    }
   ],
   "source": [
    "#Function to identify differences of all pairs of numbers and add those differences to the same list\n",
    "#It returns the updated list and original list\n",
    "def medium(li,k):\n",
    "    \n",
    "    while(True):\n",
    "        li3=differencepairs(li)\n",
    "        \n",
    "        if li3[0]==li3[1]:\n",
    "            break\n",
    "    if len(li3[0])>=k:\n",
    "        return sorted(li3[0])[-k]\n",
    "    return -1\n",
    "\n",
    "\n",
    "def differencepairs(li):\n",
    "    cli=li.copy()\n",
    "    newelements=[]\n",
    "    for i in range(len(li)-1):\n",
    "        for j in range(i+1,len(li)):\n",
    "            d=abs(li[i]-li[j])\n",
    "            if d not in li and d not in newelements:\n",
    "                newelements.append(d)\n",
    "    li.extend(newelements)\n",
    "    #return li\n",
    "    return [cli,li]\n",
    "#differencepairs([2,3,6,9,12,1, 4, 7, 10,5, 8, 11])\n",
    "#medium([3,6,9,12],4) \n",
    "       \n",
    "\n",
    "\n",
    "    "
   ]
  },
  {
   "cell_type": "code",
   "execution_count": null,
   "metadata": {},
   "outputs": [],
   "source": [
    "#[4,8]\n",
    "#[20,40,60]\n",
    "#[4,8,12,16]\n",
    "#[3,6,9,12]\n",
    "# the list into an Arithmetic progression\n",
    "\n",
    "#[3,8,15]\n",
    "# [3,8,15,5,12,2,1,4,6,7,8,9,10,11,13,14]\n",
    "\n",
    "with open(\"DataFiles/medium-input.txt\",'r') as f:\n",
    "    t=int(f.readline())\n",
    "    for i in range(t):\n",
    "        int(f.readline())\n",
    "        li=f.readline().split()\n",
    "        k=int(f.readline())\n",
    "        print(medium(li,k))"
   ]
  },
  {
   "cell_type": "code",
   "execution_count": null,
   "metadata": {},
   "outputs": [],
   "source": []
  },
  {
   "cell_type": "code",
   "execution_count": null,
   "metadata": {},
   "outputs": [],
   "source": [
    "#list\n",
    "# Data copy through indirect referencing\n",
    "# data copy through direct handling"
   ]
  },
  {
   "cell_type": "code",
   "execution_count": null,
   "metadata": {},
   "outputs": [],
   "source": [
    "def differenceOfPairs(li):\n",
    "    c = 0\n",
    "    for i in range(len(li)-1):\n",
    "        for j in range(i+1,len(li)):\n",
    "            d=abs(li[i]-li[j])\n",
    "            if d not in li:\n",
    "                li.append(d)\n",
    "                differenceOfPairs(li)\n",
    "                c=c+1\n",
    "                \n",
    "    return li  \n",
    "def kthLargestofDeiffrencePairs(li,k):\n",
    "    li2 = differenceOfPairs(li)\n",
    "    print(li2)\n",
    "    li2 = sorted(li2,reverse = True)\n",
    "    highest = li2[k-1]\n",
    "    print(highest)\n",
    "kthLargestofDeiffrencePairs([1,9],4)\n",
    "\n"
   ]
  },
  {
   "cell_type": "code",
   "execution_count": null,
   "metadata": {},
   "outputs": [],
   "source": []
  },
  {
   "cell_type": "markdown",
   "metadata": {},
   "source": [
    "### Set - Data Structure in python\n",
    "\n",
    "Represented by {}\n",
    "\n",
    "Set contain only unique elements\n",
    "\n",
    "set object is not subscriptable ,we cannot access throug index\n",
    "\n"
   ]
  },
  {
   "cell_type": "code",
   "execution_count": 89,
   "metadata": {},
   "outputs": [
    {
     "name": "stdout",
     "output_type": "stream",
     "text": [
      "1 2 3 4 5 6 7 10 "
     ]
    },
    {
     "data": {
      "text/plain": [
       "{1, 2, 3, 4, 5, 6, 7, 8, 9, 10, 11, 12}"
      ]
     },
     "execution_count": 89,
     "metadata": {},
     "output_type": "execute_result"
    }
   ],
   "source": [
    "a={1,10,2,3,4,5,6,6,3,4}\n",
    "a.add(7)  #adding a single element to a set\n",
    "\n",
    "#a[1]\n",
    "for i in a:\n",
    "    print(i,end=' ') #Accessing elements in a set\n",
    "    \n",
    "    \n",
    "b={7,8,9}\n",
    "li=[11,12,13]   #we can also add through list or string\n",
    "a.update(b,li)  #adding multiple elements to a set\n",
    "a.discard(13)\n",
    "#a.remove(15) # It gives an error if the element is not in list\n",
    "\n",
    "a\n",
    "    "
   ]
  },
  {
   "cell_type": "code",
   "execution_count": 103,
   "metadata": {},
   "outputs": [
    {
     "data": {
      "text/plain": [
       "{4, 5, 6, 7, 8, 9, 10}"
      ]
     },
     "execution_count": 103,
     "metadata": {},
     "output_type": "execute_result"
    }
   ],
   "source": [
    "a={10,1,2,3,4,5,6}\n",
    "b={7,8,9,1,2,3}\n",
    "c={111,123}\n",
    "a.union(b)\n",
    "\n",
    "# A U B = B U A\n",
    "\n",
    "b.union(a)\n",
    "\n",
    "a.intersection(b)  #\n",
    "\n",
    "a.isdisjoint(c)   #Returns True when set a and c will have distinct elements\n",
    "\n",
    "a-b   # All elements in a which are not in b\n",
    "b-a   # All elements in b which are not in a\n",
    "sorted(a)\n",
    "\n",
    "a^b\n",
    "\n"
   ]
  },
  {
   "cell_type": "code",
   "execution_count": 104,
   "metadata": {},
   "outputs": [
    {
     "data": {
      "text/plain": [
       "set()"
      ]
     },
     "execution_count": 104,
     "metadata": {},
     "output_type": "execute_result"
    }
   ],
   "source": [
    "d=set( ) #creeates an empty set\n",
    "d"
   ]
  },
  {
   "cell_type": "code",
   "execution_count": 106,
   "metadata": {},
   "outputs": [
    {
     "data": {
      "text/plain": [
       "{1, 2, 3, 4}"
      ]
     },
     "execution_count": 106,
     "metadata": {},
     "output_type": "execute_result"
    }
   ],
   "source": [
    "li=[1,2,3,4,2,1,2,3,4]\n",
    "u=set(li)\n",
    "u"
   ]
  },
  {
   "cell_type": "markdown",
   "metadata": {},
   "source": [
    "## Functional programming\n",
    "    "
   ]
  },
  {
   "cell_type": "markdown",
   "metadata": {},
   "source": [
    "procedural : c\n",
    "    \n",
    "Object oriented : Java , python\n",
    "    \n",
    "Scripting : PHP,Python,Javascript,shell,perl\n",
    "    \n",
    "Functional : python,Haskel,Scala\n",
    "    \n",
    "Logic : prolog,Lisp"
   ]
  },
  {
   "cell_type": "markdown",
   "metadata": {},
   "source": [
    "## List comprehensions\n",
    "\n",
    "In this first element can be function calling or mathematical expression,but it cannot be assignments"
   ]
  },
  {
   "cell_type": "code",
   "execution_count": 107,
   "metadata": {},
   "outputs": [
    {
     "data": {
      "text/plain": [
       "[1, 2, 3, 4, 5, 6, 7, 8, 9, 10]"
      ]
     },
     "execution_count": 107,
     "metadata": {},
     "output_type": "execute_result"
    }
   ],
   "source": [
    "# N natural numbers in a list\n",
    "n=10\n",
    "li=[]\n",
    "for i in range(1,n+1):\n",
    "    li.append(i)\n",
    "li"
   ]
  },
  {
   "cell_type": "code",
   "execution_count": 109,
   "metadata": {},
   "outputs": [
    {
     "data": {
      "text/plain": [
       "[1, 2, 3, 4, 5, 6, 7, 8, 9, 10]"
      ]
     },
     "execution_count": 109,
     "metadata": {},
     "output_type": "execute_result"
    }
   ],
   "source": [
    "li=[i for i in range(1,11)]\n",
    "li"
   ]
  },
  {
   "cell_type": "code",
   "execution_count": 111,
   "metadata": {},
   "outputs": [
    {
     "data": {
      "text/plain": [
       "[1, 8, 27, 64, 125, 216, 343, 512, 729, 1000]"
      ]
     },
     "execution_count": 111,
     "metadata": {},
     "output_type": "execute_result"
    }
   ],
   "source": [
    "# Apply list comprehension to store te cubes of n natural numbers\n",
    "li=[i**3 for i in range(1,11)]\n",
    "li"
   ]
  },
  {
   "cell_type": "code",
   "execution_count": 114,
   "metadata": {},
   "outputs": [
    {
     "data": {
      "text/plain": [
       "[1, 2, 6, 24, 120, 720, 5040, 40320, 362880, 3628800]"
      ]
     },
     "execution_count": 114,
     "metadata": {},
     "output_type": "execute_result"
    }
   ],
   "source": [
    "# Function to calculate the m factorial\n",
    "def factorial(n):\n",
    "    if n==0 or n==1:\n",
    "        return 1\n",
    "    else:\n",
    "        return n*factorial(n-1)\n",
    "#factorial(5)\n",
    "\n",
    "# Apply list comprehension to calculate factorial of n natural numbers\n",
    "n=10\n",
    "factoriallist=[factorial(i) for i in range(1,n+1)]\n",
    "factoriallist"
   ]
  },
  {
   "cell_type": "code",
   "execution_count": 120,
   "metadata": {},
   "outputs": [
    {
     "data": {
      "text/plain": [
       "[1, 3, 6, 10, 15]"
      ]
     },
     "execution_count": 120,
     "metadata": {},
     "output_type": "execute_result"
    }
   ],
   "source": [
    "# store cumulative sum of numbers till n in a list\n",
    "# n=3 , [1,3,6]\n",
    "# n=5 , [1,3,6,10,15]\n",
    "\n",
    "n=5\n",
    "# first method\n",
    "def cumulativesum(n):\n",
    "    sum=(n*(n+1))//2\n",
    "    return sum\n",
    "#li=[cumulativesum(i) for i in range(1,n+1)]\n",
    "\n",
    "# second method\n",
    "li=[(i*(i+1)//2) for i in range(1,n+1)]\n",
    "#li\n",
    "\n",
    "#Third method\n",
    "li=[sum(range(1,i+1)) for i in range(1,n+1)]\n",
    "li"
   ]
  },
  {
   "cell_type": "code",
   "execution_count": null,
   "metadata": {},
   "outputs": [],
   "source": []
  },
  {
   "cell_type": "code",
   "execution_count": 123,
   "metadata": {},
   "outputs": [
    {
     "data": {
      "text/plain": [
       "[1972, 1976, 1980, 1984, 1988, 1992, 1996, 2000, 2004, 2008, 2012, 2016]"
      ]
     },
     "execution_count": 123,
     "metadata": {},
     "output_type": "execute_result"
    }
   ],
   "source": [
    "# Function to store only leapyears in a given time period\n",
    "sty=1970\n",
    "edy=2019\n",
    "leapyears=[i for i in range(sty,edy+1) if i%400==0 or(i%100!=0 and i%4==0) ]\n",
    "leapyears"
   ]
  },
  {
   "cell_type": "code",
   "execution_count": null,
   "metadata": {},
   "outputs": [],
   "source": []
  },
  {
   "cell_type": "code",
   "execution_count": 1,
   "metadata": {},
   "outputs": [
    {
     "data": {
      "text/plain": [
       "[1, 2, 3, 4]"
      ]
     },
     "execution_count": 1,
     "metadata": {},
     "output_type": "execute_result"
    }
   ],
   "source": [
    "li=[1,2,3,2,1,4,4,5,5,5]\n",
    "li.sort()\n",
    "unique=[]\n",
    "u2=[]\n",
    "unique=[li[i] for i in range(0,len(li)-1) if li[i]!=li[i+1]]\n",
    "#u2.append(i) for in li if i not in u2\n",
    "unique\n"
   ]
  },
  {
   "cell_type": "markdown",
   "metadata": {},
   "source": [
    "## Iterators\n",
    "\n",
    "Iterable - Strings,lists,tuples,sets,dictionaries\n",
    "\n",
    "Convert Iterable to Iterator -> iter()\n",
    "\n",
    "for loop : we can not break until some condition is reached\n",
    "\n",
    "Iterator : we can stop at anytime(There is a pause in iterable process)"
   ]
  },
  {
   "cell_type": "code",
   "execution_count": 154,
   "metadata": {},
   "outputs": [
    {
     "name": "stdout",
     "output_type": "stream",
     "text": [
      "1:\n",
      "p\n",
      "\n",
      "\n",
      "2:\n",
      "y\n"
     ]
    }
   ],
   "source": [
    "it=iter(\"python\")  \n",
    "print('1:')\n",
    "print(next(it))\n",
    "print('\\n')\n",
    "print('2:')\n",
    "print(next(it))\n",
    "\n"
   ]
  },
  {
   "cell_type": "markdown",
   "metadata": {},
   "source": [
    "## Generator\n",
    "\n",
    "Generator is a user defined function\n",
    "\n",
    "yield is like a return\n",
    "\n"
   ]
  },
  {
   "cell_type": "code",
   "execution_count": 165,
   "metadata": {},
   "outputs": [
    {
     "data": {
      "text/plain": [
       "512"
      ]
     },
     "execution_count": 165,
     "metadata": {},
     "output_type": "execute_result"
    }
   ],
   "source": [
    "def generator():\n",
    "    n=2\n",
    "    for i in range(1,5):\n",
    "        n**=3\n",
    "        yield n\n",
    "        \n",
    "        \n",
    "a=generator()\n",
    "next(a)\n",
    "next(a)\n",
    "\n"
   ]
  },
  {
   "cell_type": "code",
   "execution_count": 172,
   "metadata": {},
   "outputs": [
    {
     "name": "stdout",
     "output_type": "stream",
     "text": [
      "8\n",
      "512\n",
      "134217728\n",
      "2417851639229258349412352\n",
      "14134776518227074636666380005943348126619871175004951664972849610340958208\n"
     ]
    }
   ],
   "source": [
    "# For infinite loop\n",
    "\n",
    "def generator():\n",
    "    n=2\n",
    "    while True:\n",
    "        n**=3\n",
    "        yield n\n",
    "        \n",
    "        \n",
    "a=generator()\n",
    "next(a)\n",
    "b=next(a)**2\n",
    "b*=next(a)\n",
    "b\n",
    "\n",
    "for i in range(5):\n",
    "    print(next(a))"
   ]
  },
  {
   "cell_type": "code",
   "execution_count": null,
   "metadata": {},
   "outputs": [],
   "source": []
  }
 ],
 "metadata": {
  "kernelspec": {
   "display_name": "Python 3",
   "language": "python",
   "name": "python3"
  },
  "language_info": {
   "codemirror_mode": {
    "name": "ipython",
    "version": 3
   },
   "file_extension": ".py",
   "mimetype": "text/x-python",
   "name": "python",
   "nbconvert_exporter": "python",
   "pygments_lexer": "ipython3",
   "version": "3.7.3"
  }
 },
 "nbformat": 4,
 "nbformat_minor": 2
}
