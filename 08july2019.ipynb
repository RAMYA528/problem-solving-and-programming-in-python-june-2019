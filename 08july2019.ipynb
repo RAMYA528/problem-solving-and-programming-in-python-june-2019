{
 "cells": [
  {
   "cell_type": "code",
   "execution_count": 1,
   "metadata": {},
   "outputs": [
    {
     "data": {
      "text/plain": [
       "'P'"
      ]
     },
     "execution_count": 1,
     "metadata": {},
     "output_type": "execute_result"
    }
   ],
   "source": [
    "name=\"Python Programming\"\n",
    "name[0]"
   ]
  },
  {
   "cell_type": "code",
   "execution_count": 2,
   "metadata": {},
   "outputs": [
    {
     "data": {
      "text/plain": [
       "'g'"
      ]
     },
     "execution_count": 2,
     "metadata": {},
     "output_type": "execute_result"
    }
   ],
   "source": [
    "name[len(name)-1]"
   ]
  },
  {
   "cell_type": "markdown",
   "metadata": {},
   "source": [
    "strings are immutable -we can not change\n"
   ]
  },
  {
   "cell_type": "code",
   "execution_count": 4,
   "metadata": {},
   "outputs": [
    {
     "ename": "TypeError",
     "evalue": "'str' object does not support item assignment",
     "output_type": "error",
     "traceback": [
      "\u001b[1;31m---------------------------------------------------------------------------\u001b[0m",
      "\u001b[1;31mTypeError\u001b[0m                                 Traceback (most recent call last)",
      "\u001b[1;32m<ipython-input-4-00a627df2346>\u001b[0m in \u001b[0;36m<module>\u001b[1;34m\u001b[0m\n\u001b[1;32m----> 1\u001b[1;33m \u001b[0mname\u001b[0m\u001b[1;33m[\u001b[0m\u001b[1;36m0\u001b[0m\u001b[1;33m]\u001b[0m\u001b[1;33m=\u001b[0m\u001b[1;34m\"a\"\u001b[0m\u001b[1;33m\u001b[0m\u001b[1;33m\u001b[0m\u001b[0m\n\u001b[0m",
      "\u001b[1;31mTypeError\u001b[0m: 'str' object does not support item assignment"
     ]
    }
   ],
   "source": [
    "name[0]=\"a\""
   ]
  },
  {
   "cell_type": "markdown",
   "metadata": {},
   "source": [
    "#### string methods\n",
    "\n",
    "#### str.islower()"
   ]
  },
  {
   "cell_type": "code",
   "execution_count": 5,
   "metadata": {},
   "outputs": [
    {
     "data": {
      "text/plain": [
       "True"
      ]
     },
     "execution_count": 5,
     "metadata": {},
     "output_type": "execute_result"
    }
   ],
   "source": [
    "name=\"python\"\n",
    "name.islower()"
   ]
  },
  {
   "cell_type": "markdown",
   "metadata": {},
   "source": [
    "#### str.isupper()"
   ]
  },
  {
   "cell_type": "code",
   "execution_count": 6,
   "metadata": {},
   "outputs": [
    {
     "data": {
      "text/plain": [
       "False"
      ]
     },
     "execution_count": 6,
     "metadata": {},
     "output_type": "execute_result"
    }
   ],
   "source": [
    "name.isupper()"
   ]
  },
  {
   "cell_type": "code",
   "execution_count": 7,
   "metadata": {},
   "outputs": [
    {
     "data": {
      "text/plain": [
       "True"
      ]
     },
     "execution_count": 7,
     "metadata": {},
     "output_type": "execute_result"
    }
   ],
   "source": [
    "name=\"python programming\"\n",
    "name.islower()"
   ]
  },
  {
   "cell_type": "code",
   "execution_count": 8,
   "metadata": {},
   "outputs": [
    {
     "data": {
      "text/plain": [
       "False"
      ]
     },
     "execution_count": 8,
     "metadata": {},
     "output_type": "execute_result"
    }
   ],
   "source": [
    "name=\"Python\"\n",
    "name.islower()"
   ]
  },
  {
   "cell_type": "markdown",
   "metadata": {},
   "source": [
    "####  create a function to check first and last characters of given string are capital or not\n",
    "\n"
   ]
  },
  {
   "cell_type": "code",
   "execution_count": 11,
   "metadata": {},
   "outputs": [
    {
     "data": {
      "text/plain": [
       "True"
      ]
     },
     "execution_count": 11,
     "metadata": {},
     "output_type": "execute_result"
    }
   ],
   "source": [
    "def FL(s):\n",
    "    if s[0].isupper() and s[-1].isupper():\n",
    "        return True\n",
    "    else:\n",
    "        return False\n",
    "    \n",
    "s=\"PythoN\"\n",
    "FL(s)"
   ]
  },
  {
   "cell_type": "markdown",
   "metadata": {},
   "source": [
    "#### str.lower()\n",
    "##### all string methods does not change the original string,just it returns how it will be after changing\n",
    "#####  If we print name ,it gives original name only.\n"
   ]
  },
  {
   "cell_type": "code",
   "execution_count": 18,
   "metadata": {},
   "outputs": [
    {
     "name": "stdout",
     "output_type": "stream",
     "text": [
      "python\n",
      "PYTHON\n"
     ]
    }
   ],
   "source": [
    "name=\"PYTHON\"\n",
    "print(name.lower())  #all string methods does not change the original string,just it returns how it will be after changing\n",
    "print(name)          # If we print name ,it gives original name only.\n"
   ]
  },
  {
   "cell_type": "markdown",
   "metadata": {},
   "source": [
    "#### str.upper()"
   ]
  },
  {
   "cell_type": "code",
   "execution_count": 20,
   "metadata": {},
   "outputs": [
    {
     "name": "stdout",
     "output_type": "stream",
     "text": [
      "PYTHON PROGRAMMING\n",
      "python programming\n"
     ]
    }
   ],
   "source": [
    "name=\"python programming\"\n",
    "print(name.upper())\n",
    "print(name)"
   ]
  },
  {
   "cell_type": "markdown",
   "metadata": {},
   "source": [
    "#### str.isdigit()"
   ]
  },
  {
   "cell_type": "code",
   "execution_count": 24,
   "metadata": {},
   "outputs": [
    {
     "name": "stdout",
     "output_type": "stream",
     "text": [
      "True\n",
      "False\n"
     ]
    }
   ],
   "source": [
    "num=\"12345\"\n",
    "print(num.isdigit())\n",
    "num=\"123er34\"\n",
    "print(num.isdigit())"
   ]
  },
  {
   "cell_type": "markdown",
   "metadata": {},
   "source": [
    "#### str.isalpha()"
   ]
  },
  {
   "cell_type": "code",
   "execution_count": 27,
   "metadata": {},
   "outputs": [
    {
     "name": "stdout",
     "output_type": "stream",
     "text": [
      "True\n"
     ]
    }
   ],
   "source": [
    "name=\"ramyAJyothi\"\n",
    "print(name.isalpha())"
   ]
  },
  {
   "cell_type": "code",
   "execution_count": 28,
   "metadata": {},
   "outputs": [
    {
     "name": "stdout",
     "output_type": "stream",
     "text": [
      "False\n"
     ]
    }
   ],
   "source": [
    "name=\"ramyA Jyothi\"\n",
    "print(name.isalpha())"
   ]
  },
  {
   "cell_type": "code",
   "execution_count": 29,
   "metadata": {},
   "outputs": [
    {
     "name": "stdout",
     "output_type": "stream",
     "text": [
      "False\n"
     ]
    }
   ],
   "source": [
    "name=\"ramyA123\"\n",
    "print(name.isalpha())"
   ]
  },
  {
   "cell_type": "markdown",
   "metadata": {},
   "source": [
    "#### create a function which can identify number or alphabets or others"
   ]
  },
  {
   "cell_type": "code",
   "execution_count": 36,
   "metadata": {},
   "outputs": [
    {
     "name": "stdout",
     "output_type": "stream",
     "text": [
      "name\n",
      "numbers\n",
      "others\n"
     ]
    }
   ],
   "source": [
    "def identifyme(s):\n",
    "    if s.isdigit():\n",
    "        return \"numbers\"\n",
    "    if s.isalpha():\n",
    "        return \"name\"\n",
    "    else:\n",
    "        return \"others\"\n",
    "\n",
    "print(identifyme(\"ramya\"))\n",
    "print(identifyme(\"1234\"))\n",
    "print(identifyme(\"sfsa122@\"))"
   ]
  },
  {
   "cell_type": "markdown",
   "metadata": {},
   "source": [
    "#### str.split()\n",
    "split method return type -list\n",
    "\n",
    "By default it splits at spaces"
   ]
  },
  {
   "cell_type": "code",
   "execution_count": 37,
   "metadata": {},
   "outputs": [
    {
     "name": "stdout",
     "output_type": "stream",
     "text": [
      "['python', 'programming']\n"
     ]
    }
   ],
   "source": [
    "name=\"python programming\"\n",
    "print(name.split())"
   ]
  },
  {
   "cell_type": "code",
   "execution_count": 38,
   "metadata": {},
   "outputs": [
    {
     "name": "stdout",
     "output_type": "stream",
     "text": [
      "['python pro', 'rammin', '']\n"
     ]
    }
   ],
   "source": [
    "print(name.split(\"g\"))"
   ]
  },
  {
   "cell_type": "code",
   "execution_count": 43,
   "metadata": {},
   "outputs": [
    {
     "name": "stdout",
     "output_type": "stream",
     "text": [
      "['    pyth', 'n pr', 'gramming   ']\n"
     ]
    }
   ],
   "source": [
    "print(name.split('o'))"
   ]
  },
  {
   "cell_type": "markdown",
   "metadata": {},
   "source": [
    "### str.lstrip()"
   ]
  },
  {
   "cell_type": "code",
   "execution_count": 39,
   "metadata": {},
   "outputs": [
    {
     "name": "stdout",
     "output_type": "stream",
     "text": [
      "original length 24\n",
      "python programming   20\n"
     ]
    }
   ],
   "source": [
    "name=\"    python programming  \"\n",
    "print(\"original length\",len(name))\n",
    "result=name.lstrip()\n",
    "print(result,len(result))"
   ]
  },
  {
   "cell_type": "markdown",
   "metadata": {},
   "source": [
    "#### str.rstrip()"
   ]
  },
  {
   "cell_type": "code",
   "execution_count": 40,
   "metadata": {},
   "outputs": [
    {
     "name": "stdout",
     "output_type": "stream",
     "text": [
      "original length 25\n",
      "    python programming 22\n"
     ]
    }
   ],
   "source": [
    "name=\"    python programming   \"\n",
    "print(\"original length\",len(name))\n",
    "result=name.rstrip()\n",
    "print(result,len(result))"
   ]
  },
  {
   "cell_type": "markdown",
   "metadata": {},
   "source": [
    "#### str.strip()"
   ]
  },
  {
   "cell_type": "code",
   "execution_count": 42,
   "metadata": {},
   "outputs": [
    {
     "name": "stdout",
     "output_type": "stream",
     "text": [
      "original length 25\n",
      "python programming 18\n"
     ]
    }
   ],
   "source": [
    "name=\"    python programming   \"\n",
    "print(\"original length\",len(name))\n",
    "result=name.strip()\n",
    "print(result,len(result))"
   ]
  },
  {
   "cell_type": "markdown",
   "metadata": {},
   "source": [
    "##### Take the values from the user until user gives 0 and find and print the minimum and maximum and sum of numbers in given values\n",
    "- example data\n",
    "  - \"sai\"\n",
    "  - 10\n",
    "  - \"ram\"\n",
    "  - \"ra@\"\n",
    "  - 20\n",
    "  - 5\n",
    "  - 0\n"
   ]
  },
  {
   "cell_type": "code",
   "execution_count": 12,
   "metadata": {},
   "outputs": [
    {
     "name": "stdout",
     "output_type": "stream",
     "text": [
      "2\n",
      "3\n",
      "-4\n",
      "0\n",
      "[2, 3, -4, 0]\n",
      "minimum -4 maximum 3 sum 1\n"
     ]
    }
   ],
   "source": [
    "numbers=[]\n",
    "while True:\n",
    "    data=input()\n",
    "    \n",
    "    if data=='0':\n",
    "        numbers.append(0)\n",
    "        break\n",
    "    if data.isdigit():\n",
    "        numbers.append(int(data))\n",
    "    if int(data)<0:\n",
    "        numbers.append(int(data))\n",
    "print(numbers)\n",
    "print(\"minimum\",min(numbers),\"maximum\",max(numbers),\"sum\",sum(numbers))\n",
    "\n"
   ]
  },
  {
   "cell_type": "markdown",
   "metadata": {},
   "source": [
    "#### str.startswith(sub_string)"
   ]
  },
  {
   "cell_type": "code",
   "execution_count": 9,
   "metadata": {},
   "outputs": [
    {
     "name": "stdout",
     "output_type": "stream",
     "text": [
      "True\n"
     ]
    }
   ],
   "source": [
    "name=\"Ramya jyothi\"\n",
    "print(name.startswith(\"Ram\"))"
   ]
  },
  {
   "cell_type": "markdown",
   "metadata": {},
   "source": [
    "#### str.endswith(sub_string)"
   ]
  },
  {
   "cell_type": "code",
   "execution_count": 11,
   "metadata": {},
   "outputs": [
    {
     "name": "stdout",
     "output_type": "stream",
     "text": [
      "True\n"
     ]
    }
   ],
   "source": [
    "name=\"Ramya\"\n",
    "print(name.endswith(\"ya\"))"
   ]
  },
  {
   "cell_type": "markdown",
   "metadata": {},
   "source": [
    "#### str.swapcase()\n",
    "converts upper to lower and viceversa"
   ]
  },
  {
   "cell_type": "code",
   "execution_count": 12,
   "metadata": {},
   "outputs": [
    {
     "name": "stdout",
     "output_type": "stream",
     "text": [
      "rAMYA jYOTHI\n"
     ]
    }
   ],
   "source": [
    "name=\"Ramya Jyothi\"\n",
    "print(name.swapcase())"
   ]
  },
  {
   "cell_type": "markdown",
   "metadata": {},
   "source": [
    "#### str.title()\n",
    "It converts every word first letter to upper case,and if any uppercase letters in middle it converts to lowercase"
   ]
  },
  {
   "cell_type": "code",
   "execution_count": 14,
   "metadata": {},
   "outputs": [
    {
     "name": "stdout",
     "output_type": "stream",
     "text": [
      "Python Programming\n"
     ]
    }
   ],
   "source": [
    "name=\"python proGramming\"\n",
    "print(name.title())"
   ]
  },
  {
   "cell_type": "markdown",
   "metadata": {},
   "source": [
    "#### str.istitle()\n",
    " check if the word is in title case or not"
   ]
  },
  {
   "cell_type": "code",
   "execution_count": 16,
   "metadata": {},
   "outputs": [
    {
     "name": "stdout",
     "output_type": "stream",
     "text": [
      "False\n"
     ]
    }
   ],
   "source": [
    "name='python Programming'\n",
    "print(name.istitle())"
   ]
  },
  {
   "cell_type": "markdown",
   "metadata": {},
   "source": [
    "#### str.join(sequence or collection of items)\n",
    "list items should be in string type to join,\n",
    "If we give other than string type it cannot join the items"
   ]
  },
  {
   "cell_type": "code",
   "execution_count": 24,
   "metadata": {},
   "outputs": [
    {
     "name": "stdout",
     "output_type": "stream",
     "text": [
      "ramya\n",
      "r$a$m$y$a\n"
     ]
    }
   ],
   "source": [
    "myList=['r','a','m','y','a']\n",
    "print(''.join(myList))\n",
    "print('$'.join(myList))"
   ]
  },
  {
   "cell_type": "code",
   "execution_count": 28,
   "metadata": {},
   "outputs": [
    {
     "name": "stdout",
     "output_type": "stream",
     "text": [
      "ramya\n"
     ]
    }
   ],
   "source": [
    "name=\"r a m y a\"\n",
    "name=name.split()\n",
    "print(''.join(name))"
   ]
  },
  {
   "cell_type": "code",
   "execution_count": 35,
   "metadata": {},
   "outputs": [
    {
     "name": "stdout",
     "output_type": "stream",
     "text": [
      "sai 100\n",
      "ramya 260\n",
      "yam 69\n"
     ]
    }
   ],
   "source": [
    "students=[('sai',\"10,20,30,40\"),('ramya',\"30,40,50,60,80\"),(\"yam\",\"12,34,23\")]\n",
    "for student in students:\n",
    "    sum=0\n",
    "    for mark in student[1].split(\",\"):\n",
    "        sum+=int(mark)\n",
    "    print(student[0],sum)\n",
    "        \n",
    "        "
   ]
  },
  {
   "cell_type": "code",
   "execution_count": null,
   "metadata": {},
   "outputs": [],
   "source": []
  },
  {
   "cell_type": "code",
   "execution_count": 13,
   "metadata": {},
   "outputs": [
    {
     "name": "stdout",
     "output_type": "stream",
     "text": [
      "['xyz abc mnp ', 'asdf dfaa asdf', ' asd ', 'fdas asdsdaff', '']\n",
      "xyz\n",
      "abc\n",
      "mnp\n",
      "\"asdf dfaa asdf\"\n",
      "asd\n",
      "\"fdas asdsdaff\"\n"
     ]
    }
   ],
   "source": [
    "paragraph='xyz abc mnp \"asdf dfaa asdf\" asd \"fdas asdsdaff\"'\n",
    "sentences=paragraph.split('\"')\n",
    "print(sentences)\n",
    "for sentence in sentences:\n",
    "    if len(sentence)>0:\n",
    "        if sentence.endswith(' '):\n",
    "            for word in sentence.split():\n",
    "                print(word)\n",
    "        else:\n",
    "            print('\"'+sentence+'\"')\n",
    "            "
   ]
  },
  {
   "cell_type": "markdown",
   "metadata": {},
   "source": []
  },
  {
   "cell_type": "markdown",
   "metadata": {},
   "source": [
    "#### print the names that is not ending with i and u"
   ]
  },
  {
   "cell_type": "code",
   "execution_count": 50,
   "metadata": {},
   "outputs": [
    {
     "name": "stdout",
     "output_type": "stream",
     "text": [
      "ayyappa\n",
      "syam\n"
     ]
    }
   ],
   "source": [
    "names=['ayyappa','ramu','syam','lakshmi','rani']\n",
    "for name in names:\n",
    "    if not (name.endswith('i') or name.endswith('u')):\n",
    "        print(name)"
   ]
  },
  {
   "cell_type": "code",
   "execution_count": 53,
   "metadata": {},
   "outputs": [
    {
     "name": "stdout",
     "output_type": "stream",
     "text": [
      "ramu\n",
      "lakshmi\n",
      "rani\n"
     ]
    }
   ],
   "source": [
    "names=['ayyappa','ramu','syam','lakshmi','rani']\n",
    "for name in names:\n",
    "    if (name.endswith('i') or name.endswith('u')):\n",
    "        print(name)"
   ]
  },
  {
   "cell_type": "markdown",
   "metadata": {},
   "source": [
    "### String slicing"
   ]
  },
  {
   "cell_type": "code",
   "execution_count": 61,
   "metadata": {},
   "outputs": [
    {
     "data": {
      "text/plain": [
       "'programming'"
      ]
     },
     "execution_count": 61,
     "metadata": {},
     "output_type": "execute_result"
    }
   ],
   "source": [
    "name=\"python programming\"\n",
    "res=name[7:]\n",
    "res"
   ]
  },
  {
   "cell_type": "code",
   "execution_count": 62,
   "metadata": {},
   "outputs": [
    {
     "name": "stdout",
     "output_type": "stream",
     "text": [
      "gram\n"
     ]
    }
   ],
   "source": [
    "print(name[10:14])"
   ]
  },
  {
   "cell_type": "code",
   "execution_count": 63,
   "metadata": {},
   "outputs": [
    {
     "data": {
      "text/plain": [
       "'ph o'"
      ]
     },
     "execution_count": 63,
     "metadata": {},
     "output_type": "execute_result"
    }
   ],
   "source": [
    "name[0:10:3]"
   ]
  },
  {
   "cell_type": "code",
   "execution_count": 64,
   "metadata": {},
   "outputs": [
    {
     "name": "stdout",
     "output_type": "stream",
     "text": [
      "p\n",
      "y\n",
      "t\n",
      "h\n",
      "o\n",
      "n\n"
     ]
    }
   ],
   "source": [
    "name=\"python\"\n",
    "for char in name:\n",
    "    print(char)"
   ]
  },
  {
   "cell_type": "markdown",
   "metadata": {},
   "source": [
    "### Tuples\n",
    "- Tuples are also immutable.\n",
    "- It has two methods-index ,count"
   ]
  },
  {
   "cell_type": "code",
   "execution_count": 2,
   "metadata": {},
   "outputs": [
    {
     "name": "stdout",
     "output_type": "stream",
     "text": [
      "6\n"
     ]
    }
   ],
   "source": [
    "myTuple=(1,2,3,4,5,4)\n",
    "print(len(myTuple))"
   ]
  },
  {
   "cell_type": "code",
   "execution_count": 111,
   "metadata": {},
   "outputs": [
    {
     "name": "stdout",
     "output_type": "stream",
     "text": [
      "3\n"
     ]
    }
   ],
   "source": [
    "print(myTuple[2])"
   ]
  },
  {
   "cell_type": "markdown",
   "metadata": {},
   "source": [
    "### tuple.count(item)\n",
    "It returns how many times item exists in a tuple,if item is not in tuple it returns 0\n"
   ]
  },
  {
   "cell_type": "code",
   "execution_count": 17,
   "metadata": {},
   "outputs": [
    {
     "data": {
      "text/plain": [
       "2"
      ]
     },
     "execution_count": 17,
     "metadata": {},
     "output_type": "execute_result"
    }
   ],
   "source": [
    "myTuple.count(4)"
   ]
  },
  {
   "cell_type": "markdown",
   "metadata": {},
   "source": [
    "### tuple.index(item)\n",
    "It returns index of the item,if item is not there in tuple it returns error"
   ]
  },
  {
   "cell_type": "code",
   "execution_count": 15,
   "metadata": {},
   "outputs": [
    {
     "data": {
      "text/plain": [
       "3"
      ]
     },
     "execution_count": 15,
     "metadata": {},
     "output_type": "execute_result"
    }
   ],
   "source": [
    "myTuple.index(4)"
   ]
  },
  {
   "cell_type": "code",
   "execution_count": 117,
   "metadata": {},
   "outputs": [
    {
     "data": {
      "text/plain": [
       "5"
      ]
     },
     "execution_count": 117,
     "metadata": {},
     "output_type": "execute_result"
    }
   ],
   "source": [
    "min(myTuple)\n",
    "max(myTuple)\n"
   ]
  },
  {
   "cell_type": "code",
   "execution_count": 3,
   "metadata": {},
   "outputs": [
    {
     "data": {
      "text/plain": [
       "19"
      ]
     },
     "execution_count": 3,
     "metadata": {},
     "output_type": "execute_result"
    }
   ],
   "source": [
    "sum(myTuple)"
   ]
  },
  {
   "cell_type": "code",
   "execution_count": 82,
   "metadata": {},
   "outputs": [
    {
     "data": {
      "text/plain": [
       "4"
      ]
     },
     "execution_count": 82,
     "metadata": {},
     "output_type": "execute_result"
    }
   ],
   "source": [
    "mytuple=(1,2,3,1,2,3)\n",
    "mytuple.index(2,3)"
   ]
  },
  {
   "cell_type": "code",
   "execution_count": 85,
   "metadata": {},
   "outputs": [
    {
     "name": "stdout",
     "output_type": "stream",
     "text": [
      "1 <class 'int'>\n",
      "2 <class 'int'>\n",
      "3 <class 'int'>\n",
      "4 <class 'str'>\n",
      "5 <class 'str'>\n"
     ]
    }
   ],
   "source": [
    "mytuple=(1,2,3,'4','5')\n",
    "for each in mytuple:\n",
    "    print(each,type(each))"
   ]
  },
  {
   "cell_type": "code",
   "execution_count": 90,
   "metadata": {},
   "outputs": [
    {
     "name": "stdout",
     "output_type": "stream",
     "text": [
      "26\n"
     ]
    }
   ],
   "source": [
    "# sum of digits\n",
    "rollno=\"13A85A0504\"\n",
    "sum=0\n",
    "for i in rollno:\n",
    "    if i.isdigit():\n",
    "        sum+=int(i)\n",
    "print(sum)"
   ]
  },
  {
   "cell_type": "code",
   "execution_count": 98,
   "metadata": {},
   "outputs": [
    {
     "name": "stdout",
     "output_type": "stream",
     "text": [
      "jyothiramya\n",
      "aymarihtoyj"
     ]
    }
   ],
   "source": [
    "#reverse the string without ::-1\n",
    "name=input()\n",
    "for i in range(len(name)-1,-1,-1):\n",
    "    print(name[i],end='')"
   ]
  },
  {
   "cell_type": "code",
   "execution_count": 106,
   "metadata": {},
   "outputs": [
    {
     "name": "stdout",
     "output_type": "stream",
     "text": [
      "ramu ravi akash ramya\n",
      "akash\n",
      "ramya\n"
     ]
    }
   ],
   "source": [
    " # print the names which has duplicate characters\n",
    "    # \"ramu ravi akash\" -- akash\n",
    "    # \"ramu ravi\" ---  -1\n",
    "names=input().split()\n",
    "for name in names:\n",
    "    count=0\n",
    "    for char in name:\n",
    "        if name.count(char)>1:\n",
    "            count+=1\n",
    "    if count>=1:\n",
    "        print(name)\n",
    "if count==0:\n",
    "        print(\"-1\")\n",
    "\n",
    "        \n",
    "            \n"
   ]
  },
  {
   "cell_type": "code",
   "execution_count": 107,
   "metadata": {},
   "outputs": [
    {
     "name": "stdout",
     "output_type": "stream",
     "text": [
      "1+2+3+4+5\n",
      "15\n"
     ]
    }
   ],
   "source": [
    "s=input().split('+')\n",
    "sum=0\n",
    "for i in s:\n",
    "    sum+=int(i)\n",
    "print(sum)"
   ]
  },
  {
   "cell_type": "code",
   "execution_count": 9,
   "metadata": {},
   "outputs": [
    {
     "name": "stdout",
     "output_type": "stream",
     "text": [
      "mahesh\n",
      "2 5\n",
      "msehah\n"
     ]
    }
   ],
   "source": [
    "name=input()\n",
    "s,e=map(int,input().split())\n",
    "\n",
    "if s==1:\n",
    "    print(name[e-1::-1]+name[e:])\n",
    "else:\n",
    "    print(name[:s-1]+name[e-1:s-2:-1]+name[e:]) "
   ]
  },
  {
   "cell_type": "code",
   "execution_count": 11,
   "metadata": {},
   "outputs": [
    {
     "name": "stdout",
     "output_type": "stream",
     "text": [
      "5\n",
      "1 2\n",
      "1 3\n",
      "2 6\n",
      "3 7\n",
      "2 8\n",
      "[[1, 2], [1, 3], [2, 6], [3, 7], [2, 8]]\n",
      "1 3\n",
      "1 2\n",
      "2 8\n",
      "2 6\n",
      "3 7\n"
     ]
    }
   ],
   "source": [
    "n=int(input())\n",
    "s=[]\n",
    "for i in range(n):\n",
    "    s.append(list(map(int,input().split())))\n",
    "print(s)\n",
    "x=[]\n",
    "for i in s:\n",
    "    x.append(i[0])\n",
    "x=sorted(x)\n",
    "ux=[]\n",
    "for i in x:\n",
    "    if i not in ux:\n",
    "        ux.append(i)\n",
    "for i in ux:\n",
    "    if x.count(i)==1:\n",
    "        for j in s:\n",
    "            if j[0]==i:\n",
    "                print(i,j[1])\n",
    "    else:\n",
    "        y=[]\n",
    "        for j in s:\n",
    "            if i==j[0]:\n",
    "                y.append(j[1])\n",
    "            y=sorted(y,reverse=True)\n",
    "        for k in y:\n",
    "            for j in s:\n",
    "                if j[1]==k:\n",
    "                    print(j[0],k)"
   ]
  },
  {
   "cell_type": "code",
   "execution_count": 19,
   "metadata": {},
   "outputs": [
    {
     "data": {
      "text/plain": [
       "['abcd', 'accd', 'bcde']"
      ]
     },
     "execution_count": 19,
     "metadata": {},
     "output_type": "execute_result"
    }
   ],
   "source": [
    "li=['accd','abcd','bcde']\n",
    "li=sorted(li)\n",
    "li"
   ]
  },
  {
   "cell_type": "code",
   "execution_count": 8,
   "metadata": {},
   "outputs": [
    {
     "name": "stdout",
     "output_type": "stream",
     "text": [
      "1\n",
      "5\n",
      "12 13 14 8 0\n",
      "{12: 7, 13: 7, 14: 6, 8: 7, 0: 6}\n",
      "14\n"
     ]
    }
   ],
   "source": [
    "def sevensegment(li):\n",
    "    ns=[[0,6],[1,2],[2,5],[3,5],[4,4],[5,5],[6,6],[7,3],[8,7],[9,5]]\n",
    "    dic={}\n",
    "    for num in li:\n",
    "        if num==0:\n",
    "            dic[num]=6\n",
    "        else:\n",
    "            tot=0\n",
    "            r=num\n",
    "            while(num>0):\n",
    "                i=num%10\n",
    "                for j in ns:\n",
    "                    if j[0]==i:\n",
    "                        tot+=j[1]\n",
    "\n",
    "                num=num//10\n",
    "            dic[r]=tot\n",
    "            \n",
    "    print(dic)\n",
    "    allvalues=list(dic.values())\n",
    "    val=min(dic.values())\n",
    "    if allvalues.count(val)==1:\n",
    "        for item in dic.items():\n",
    "            if item[1]==val:\n",
    "                print(item[0])\n",
    "    else:\n",
    "        l=[]\n",
    "        for item in dic.items():\n",
    "            if item[1]==val:\n",
    "                l.append(item[0])\n",
    "        print(l[0])\n",
    "    return\n",
    "        \n",
    "t=int(input())\n",
    "for i in range(t):\n",
    "    n=int(input())\n",
    "    s=input().split()\n",
    "    li=[]\n",
    "    for i in range(n):\n",
    "        li.append(int(s[i]))\n",
    "    sevensegment(li)\n"
   ]
  },
  {
   "cell_type": "code",
   "execution_count": 2,
   "metadata": {},
   "outputs": [
    {
     "name": "stdout",
     "output_type": "stream",
     "text": [
      "(3, 'a') (2, 'b') (3, 'c') "
     ]
    }
   ],
   "source": [
    "s=\"aaabbccc\"\n",
    "ns=''\n",
    "for i in s:\n",
    "    if i not in ns:\n",
    "        ns+=i\n",
    "for i in ns:\n",
    "   print((s.count(i),i),end=' ') \n"
   ]
  },
  {
   "cell_type": "code",
   "execution_count": 3,
   "metadata": {},
   "outputs": [
    {
     "data": {
      "text/plain": [
       "3"
      ]
     },
     "execution_count": 3,
     "metadata": {},
     "output_type": "execute_result"
    }
   ],
   "source": [
    "li=[1,1,2,3,1]\n",
    "li.count(1)"
   ]
  },
  {
   "cell_type": "code",
   "execution_count": 5,
   "metadata": {},
   "outputs": [
    {
     "name": "stdout",
     "output_type": "stream",
     "text": [
      "1\n",
      "welf ramyaRttg werr\n",
      "WRT\n",
      "No match found\n"
     ]
    }
   ],
   "source": [
    "def camelcase(s,k):\n",
    "    count=0\n",
    "    for word in s:\n",
    "        us=''\n",
    "        for char in word:\n",
    "            if char.isupper():\n",
    "                us+=char\n",
    "        if us.startswith(k):\n",
    "            print(word)\n",
    "            count+=1\n",
    "    if count==0:\n",
    "        print(\"No match found\")\n",
    "\n",
    "t=int(input())\n",
    "for i in range(t):\n",
    "    s=input().split()\n",
    "    k=input()\n",
    "    camelcase(s,k)\n",
    "    \n"
   ]
  },
  {
   "cell_type": "code",
   "execution_count": null,
   "metadata": {},
   "outputs": [],
   "source": []
  }
 ],
 "metadata": {
  "kernelspec": {
   "display_name": "Python 3",
   "language": "python",
   "name": "python3"
  },
  "language_info": {
   "codemirror_mode": {
    "name": "ipython",
    "version": 3
   },
   "file_extension": ".py",
   "mimetype": "text/x-python",
   "name": "python",
   "nbconvert_exporter": "python",
   "pygments_lexer": "ipython3",
   "version": "3.7.3"
  }
 },
 "nbformat": 4,
 "nbformat_minor": 2
}
