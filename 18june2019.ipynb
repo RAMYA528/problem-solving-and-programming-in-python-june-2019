{
 "cells": [
  {
   "cell_type": "code",
   "execution_count": 4,
   "metadata": {},
   "outputs": [
    {
     "name": "stdout",
     "output_type": "stream",
     "text": [
      "5 2\n",
      "1 2 3 4 5\n",
      "1 3\n",
      "2\n",
      "2 5\n",
      "3\n"
     ]
    }
   ],
   "source": [
    "## play with numbers\n",
    "# line 1: array size(n),no of queries(q)\n",
    "#line 2: n array elements\n",
    "# next q lines : query-each  query contains sub array of the original array\n",
    "\n",
    "# input          output \n",
    "# 5 2              2\n",
    "# 1 2 3 4 5        3\n",
    "# 1 2             \n",
    "# 2 4         \n",
    "\n",
    "#Read no of elements and no of quaries\n",
    "n=input().split()\n",
    "N=int(n[0])\n",
    "Q=int(n[1])\n",
    "#Read array elements\n",
    "a=input().split()\n",
    "sum=[]   #Initialize cumulative sum array\n",
    "# Cumulative sum\n",
    "for i in range(0,N):\n",
    "    if i==0:\n",
    "        sum.append(int(a[0]))\n",
    "    else:\n",
    "        sum.append(int(sum[i-1]+int(a[i])))\n",
    "        \n",
    "del a\n",
    "\n",
    "#Read each query and calculate the average\n",
    "for k in range(0,Q):\n",
    "    inq=input().split()\n",
    "    i=int(inq[0])\n",
    "    j=int(inq[1])\n",
    "    if i>1:\n",
    "        print((sum[j-1]-sum[i-2])//(j-i+1))\n",
    "    else:\n",
    "        print(sum[j-1]//(j-i+1))\n",
    "\n",
    "# sum[0]= #first element\n",
    "# sum[1]= #first+second\n",
    "# sum[2]= #sum[1]+third\n",
    "# i j--> sum[j]-sum[i-1]//(j-i+1)"
   ]
  },
  {
   "cell_type": "code",
   "execution_count": 10,
   "metadata": {},
   "outputs": [
    {
     "name": "stdout",
     "output_type": "stream",
     "text": [
      "2\n",
      "3\n",
      "6\n",
      "YES\n",
      "3\n",
      "NO\n",
      "1\n",
      "NO\n"
     ]
    }
   ],
   "source": [
    "#function to check special number or not\n",
    "\n",
    "def isspecialnumber(n,p):\n",
    "    if numberofprimefactors(n)>=p:\n",
    "        return True\n",
    "    return False\n",
    "    \n",
    "    \n",
    "def isprime(n):\n",
    "    count=0\n",
    "    for i in range(1,n+1):\n",
    "        if(n%i==0):\n",
    "            count+=1\n",
    "    if count==2:\n",
    "        return \"True\"\n",
    "\n",
    "#function to determine number of primefactors\n",
    "def numberofprimefactors(n):\n",
    "    if isprime(n):\n",
    "        return 1\n",
    "    count=0\n",
    "    for i in range(2,n//2+1):\n",
    "        if isprime(i) and n%i==0:\n",
    "            count+=1\n",
    "    return count\n",
    "\n",
    "\n",
    "#print(isspecialnumber(7,2))      \n",
    "    \n",
    "def solution():\n",
    "    p=int(input())\n",
    "    T=int(input())\n",
    "    for i in range(T):\n",
    "        n=int(input())\n",
    "        if isspecialnumber(n,p):\n",
    "            print(\"YES\")\n",
    "        else:\n",
    "            print(\"NO\")\n",
    "            \n",
    "solution()"
   ]
  },
  {
   "cell_type": "code",
   "execution_count": null,
   "metadata": {},
   "outputs": [],
   "source": []
  },
  {
   "cell_type": "code",
   "execution_count": 13,
   "metadata": {},
   "outputs": [
    {
     "name": "stdout",
     "output_type": "stream",
     "text": [
      "3\n"
     ]
    }
   ],
   "source": [
    "#Highest Remainder\n",
    "#write a program to find a natural number that is smaller than N that gives the highest remainder when divided by that number\n",
    "#If there is more than one such number ,print the smallest one\n",
    "\n",
    "def highestremainder(n):\n",
    "    hr=0\n",
    "    v=n\n",
    "    for i in range(n-1,n//2,-1):\n",
    "        r=n%i\n",
    "        if r>hr:\n",
    "            hr=r\n",
    "            v=i\n",
    "    print(v)\n",
    "    return \n",
    "highestremainder(5)\n",
    "        "
   ]
  },
  {
   "cell_type": "code",
   "execution_count": 24,
   "metadata": {},
   "outputs": [
    {
     "name": "stdout",
     "output_type": "stream",
     "text": [
      "12345\n"
     ]
    }
   ],
   "source": [
    "li=input().split()\n",
    "li\n",
    "li.sort()\n"
   ]
  },
  {
   "cell_type": "markdown",
   "metadata": {},
   "source": [
    "### Tuples\n",
    "t1=()\n",
    "\n",
    "li=[]\n",
    "\n",
    "Difference between lists and Tuples\n",
    "\n",
    "lists are mutable -can be changed/modified\n",
    "- used to Access,modify,add,delete data\n",
    "\n",
    "Tuples are immutable -cannot be changed or updated once initialised\n",
    "- used to access data only\n",
    "- All slicing operations will work\n",
    "\n"
   ]
  },
  {
   "cell_type": "code",
   "execution_count": 26,
   "metadata": {},
   "outputs": [
    {
     "data": {
      "text/plain": [
       "(8, 6, 0)"
      ]
     },
     "execution_count": 26,
     "metadata": {},
     "output_type": "execute_result"
    }
   ],
   "source": [
    "t1=(1,2,8,6,0)\n",
    "t1[3]               ##Accessing the fourth element\n",
    "t1[len(t1)//2:]     #Accessing all elements from middle to last"
   ]
  },
  {
   "cell_type": "code",
   "execution_count": 27,
   "metadata": {},
   "outputs": [
    {
     "data": {
      "text/plain": [
       "tuple"
      ]
     },
     "execution_count": 27,
     "metadata": {},
     "output_type": "execute_result"
    }
   ],
   "source": [
    "type(t1)"
   ]
  },
  {
   "cell_type": "markdown",
   "metadata": {},
   "source": [
    "### Dictionaries\n",
    "\n",
    "It works on the concept of set\n",
    "\n",
    "all the data inside dictionary is unique (major advantage of dictionaries)\n",
    "\n",
    "keys,values\n",
    "\n",
    "key is the unique identifier for a value\n",
    "\n",
    "Value is data that can be accessed with a key\n",
    "\n",
    "Dictionaries are mutable"
   ]
  },
  {
   "cell_type": "code",
   "execution_count": 38,
   "metadata": {},
   "outputs": [
    {
     "data": {
      "text/plain": [
       "True"
      ]
     },
     "execution_count": 38,
     "metadata": {},
     "output_type": "execute_result"
    }
   ],
   "source": [
    "d1={\"k1\":\"value1\",\"k2\":\"value2\"}\n",
    "d1[\"k2\"]        #Accessing the value with key k2\n",
    "d1.keys()        #Returns list of all keys\n",
    "d1.values()      #returns list of all values\n",
    "d1.items()       #returns list of tuples of keys and values\n",
    "d1[\"k3\"]=\"value3\" #adding element to the dictionary\n",
    "d1[\"k3\"]=\"value4\" #Updating an element,we cannot change the keys ,we can change values for the same key\n",
    "d1.pop(\"k3\")      #removing an element \n",
    "\"k1\" in d1      #Searching for a particular key\n"
   ]
  },
  {
   "cell_type": "markdown",
   "metadata": {},
   "source": [
    "### Contacts Application\n",
    "- Add Contact\n",
    "- Search for contact\n",
    "- List all Contacts\n",
    "    - name1 :phone1\n",
    "    - name2 :phone2\n",
    "- Modify contact\n",
    "- Remove contact\n",
    "- Import contacts\n",
    "\n"
   ]
  },
  {
   "cell_type": "code",
   "execution_count": null,
   "metadata": {},
   "outputs": [],
   "source": [
    "contacts={}"
   ]
  },
  {
   "cell_type": "code",
   "execution_count": 66,
   "metadata": {},
   "outputs": [
    {
     "name": "stdout",
     "output_type": "stream",
     "text": [
      "contact ramya added\n"
     ]
    }
   ],
   "source": [
    "\n",
    "def addContact(name,phone):\n",
    "    #verify that the contact doesnot already exist in the dictionry\n",
    "    if name not in contacts:\n",
    "        contacts[name]=phone\n",
    "        print(\"contact %s added\" %name)\n",
    "    else:\n",
    "        print(\"Contact %s already exists\" %name)\n",
    "    return\n",
    "addContact(\"ramya\",8185868305)\n"
   ]
  },
  {
   "cell_type": "code",
   "execution_count": null,
   "metadata": {},
   "outputs": [],
   "source": []
  },
  {
   "cell_type": "code",
   "execution_count": 44,
   "metadata": {},
   "outputs": [
    {
     "name": "stdout",
     "output_type": "stream",
     "text": [
      "Ramya : 8185868305\n"
     ]
    }
   ],
   "source": [
    "def searchContacts(name):\n",
    "    if name in contacts:\n",
    "        print(name,\":\",contacts[name])\n",
    "    else:\n",
    "        print(\"%s does not exist\" %name)\n",
    "    return\n",
    "searchContacts(\"Ramya\")"
   ]
  },
  {
   "cell_type": "code",
   "execution_count": 45,
   "metadata": {},
   "outputs": [],
   "source": [
    "\n"
   ]
  },
  {
   "cell_type": "code",
   "execution_count": 56,
   "metadata": {},
   "outputs": [
    {
     "name": "stdout",
     "output_type": "stream",
     "text": [
      "2 contacts added successfully\n"
     ]
    }
   ],
   "source": [
    "#New contacts is given as a dictionary\n",
    "#Merge new contacts with existing contacts\n",
    "def importcontacts(newcontacts):\n",
    "    contacts.update(newcontacts)\n",
    "    print(len(newcontacts.keys()),\"contacts added successfully\")\n",
    "    return\n",
    "\n",
    "\n",
    "newcontacts={\"name1\":565836827,\"name2\":9875436}\n",
    "importcontacts(newcontacts)\n"
   ]
  },
  {
   "cell_type": "code",
   "execution_count": 67,
   "metadata": {},
   "outputs": [
    {
     "name": "stdout",
     "output_type": "stream",
     "text": [
      "yamini : 7485856266\n",
      "name1 : 9705940600\n",
      "name2 : 9875436\n",
      "ramya : 8185868305\n"
     ]
    }
   ],
   "source": [
    "def listofcontacts(name):\n",
    "    for i in name.keys():\n",
    "        print(i,':',contacts[i])\n",
    "    return\n",
    "listofcontacts(contacts)\n",
    "    \n",
    "    \n",
    "    "
   ]
  },
  {
   "cell_type": "code",
   "execution_count": 60,
   "metadata": {},
   "outputs": [
    {
     "name": "stdout",
     "output_type": "stream",
     "text": [
      "contact modified\n"
     ]
    }
   ],
   "source": [
    "def modifycontacts(name,phone):\n",
    "    if name in contacts:\n",
    "        contacts[name]=phone\n",
    "        print(\"contact modified\")\n",
    "    else:\n",
    "        print(\"are want to create new contact\")\n",
    "    return\n",
    "modifycontacts(\"name1\",9705940600)    \n",
    "    "
   ]
  },
  {
   "cell_type": "code",
   "execution_count": 64,
   "metadata": {},
   "outputs": [
    {
     "name": "stdout",
     "output_type": "stream",
     "text": [
      "name does not exist\n"
     ]
    }
   ],
   "source": [
    "def removecontacts(name):\n",
    "    if name in contacts:\n",
    "        contacts.pop(name)\n",
    "        print(\"%s contact deleted\"%name)\n",
    "    else:\n",
    "        print(\"%s does not exist\"%name)\n",
    "    return\n",
    "removecontacts(\"name\")\n",
    "    "
   ]
  },
  {
   "cell_type": "code",
   "execution_count": 68,
   "metadata": {},
   "outputs": [
    {
     "data": {
      "text/plain": [
       "{'yamini': '7485856266',\n",
       " 'name1': 9705940600,\n",
       " 'name2': 9875436,\n",
       " 'ramya': 8185868305}"
      ]
     },
     "execution_count": 68,
     "metadata": {},
     "output_type": "execute_result"
    }
   ],
   "source": [
    "contacts"
   ]
  },
  {
   "cell_type": "code",
   "execution_count": null,
   "metadata": {},
   "outputs": [],
   "source": []
  },
  {
   "cell_type": "markdown",
   "metadata": {},
   "source": [
    "## pakages and modules in python\n",
    " **package** -> Collection of modules(python file .py) and sub packages\n",
    " \n",
    " **sub package**  \n",
    " \n",
    " **Module** ->A single python file containing various functions\n",
    " \n",
    " package -> sub packages -> modules -> Functions"
   ]
  },
  {
   "cell_type": "code",
   "execution_count": 70,
   "metadata": {},
   "outputs": [
    {
     "data": {
      "text/plain": [
       "3.141592653589793"
      ]
     },
     "execution_count": 70,
     "metadata": {},
     "output_type": "execute_result"
    }
   ],
   "source": [
    "import math\n",
    "math.floor(123.456)\n",
    "math.pi\n"
   ]
  },
  {
   "cell_type": "code",
   "execution_count": 73,
   "metadata": {},
   "outputs": [
    {
     "data": {
      "text/plain": [
       "3.141592653589793"
      ]
     },
     "execution_count": 73,
     "metadata": {},
     "output_type": "execute_result"
    }
   ],
   "source": [
    "#Instead of importing math module we can import a particular function also\n",
    "from math import floor,pi  \n",
    "floor(123.456)\n",
    "pi"
   ]
  },
  {
   "cell_type": "code",
   "execution_count": 74,
   "metadata": {},
   "outputs": [
    {
     "data": {
      "text/plain": [
       "123"
      ]
     },
     "execution_count": 74,
     "metadata": {},
     "output_type": "execute_result"
    }
   ],
   "source": [
    "#we can rename the functins also\n",
    "from math import floor as fl\n",
    "fl(123.456)"
   ]
  },
  {
   "cell_type": "code",
   "execution_count": 80,
   "metadata": {},
   "outputs": [
    {
     "name": "stdout",
     "output_type": "stream",
     "text": [
      "74 94 11 33 45 67 14 73 82 26 "
     ]
    }
   ],
   "source": [
    "#Function to generate N random numbers in a given range\n",
    "import random\n",
    "\n",
    "def generateNRandomNumbers(n,lb,ub):\n",
    "    for i in range(0,n):\n",
    "        print(random.randint(lb,ub),end=\" \")\n",
    "generateNRandomNumbers(10,0,100)\n",
    "    "
   ]
  },
  {
   "cell_type": "code",
   "execution_count": null,
   "metadata": {},
   "outputs": [],
   "source": []
  },
  {
   "cell_type": "code",
   "execution_count": 9,
   "metadata": {},
   "outputs": [
    {
     "data": {
      "text/plain": [
       "True"
      ]
     },
     "execution_count": 9,
     "metadata": {},
     "output_type": "execute_result"
    }
   ],
   "source": [
    "from Packages.numerical import isprime \n",
    "isprime(103)\n",
    "\n",
    "from Packages import numerical\n",
    "numerical.isprime(103)"
   ]
  },
  {
   "cell_type": "code",
   "execution_count": null,
   "metadata": {},
   "outputs": [],
   "source": []
  }
 ],
 "metadata": {
  "kernelspec": {
   "display_name": "Python 3",
   "language": "python",
   "name": "python3"
  },
  "language_info": {
   "codemirror_mode": {
    "name": "ipython",
    "version": 3
   },
   "file_extension": ".py",
   "mimetype": "text/x-python",
   "name": "python",
   "nbconvert_exporter": "python",
   "pygments_lexer": "ipython3",
   "version": "3.7.3"
  }
 },
 "nbformat": 4,
 "nbformat_minor": 2
}
