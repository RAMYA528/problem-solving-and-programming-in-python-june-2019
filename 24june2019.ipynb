{
 "cells": [
  {
   "cell_type": "code",
   "execution_count": null,
   "metadata": {},
   "outputs": [],
   "source": [
    "#contacts application\n",
    "    #add contacts(name,phone,email)\n",
    "    #search contacts(name)\n",
    "    #list contact()\n",
    "    #editcontact(name,newphone,newemail)\n",
    "    #deletecontact(name)\n",
    "    #contactsapp()\n",
    "\n",
    "    \n",
    "#Find and Replace application\n",
    "    # If word is existing \n",
    "            #wordexist(filepath,word)\n",
    "    # count the total number of occurances\n",
    "            #countwordoccurances(filepath,word)\n",
    "    # Replace all occurances of a word with another word\n",
    "            # replaceword(filepath,word)\n",
    "\n",
    "# Marks analysis application\n",
    "    # generate marks file - for N students\n",
    "    #Input : marks text file - each line in a text file contains marks of one student\n",
    "    # Generates a report with the following information\n",
    "        #class average\n",
    "        # % of students passed\n",
    "        # % of students failed\n",
    "        # % of students with distinction\n",
    "        # Highest mark frequency\n",
    "        # lowest mark frequency\n",
    "        "
   ]
  },
  {
   "cell_type": "code",
   "execution_count": 3,
   "metadata": {},
   "outputs": [],
   "source": [
    "# Function to generate marks data for n students\n",
    "from random import randint\n",
    "def generatemarks(n,lb,ub):\n",
    "    with open('DataFiles/marks.txt','w') as f:\n",
    "        for i in range(0,n):\n",
    "            r=randint(lb,ub)\n",
    "            f.write(str(r)+'\\n')\n",
    "    return \n",
    "\n",
    "\n",
    "generatemarks(10000,0,100)"
   ]
  },
  {
   "cell_type": "code",
   "execution_count": 7,
   "metadata": {},
   "outputs": [
    {
     "name": "stdout",
     "output_type": "stream",
     "text": [
      "Class Average: 49.75\n",
      "% of passed students: 63.61\n",
      "% of failed students: 36.39\n",
      "% of distinction: 21.0\n",
      "Highest mark frequency: 97\n",
      "Lowest mark frequency: 109\n"
     ]
    }
   ],
   "source": [
    "def generatereport(filepath):\n",
    "    with open(filepath,'r') as f:\n",
    "        filedata=f.read()       \n",
    "        lines=filedata.split('\\n')\n",
    "        sum=0\n",
    "        passcount=0\n",
    "        distinction=0\n",
    "        Highestmark=max(lines)\n",
    "        Highcount=0\n",
    "        lowestmark=min(lines)\n",
    "        lowcount=0\n",
    "        for i in lines:\n",
    "            sum+=int(i)\n",
    "            if int(i)>35:\n",
    "                passcount+=1\n",
    "            if int(i)>=80:\n",
    "                distinction+=1\n",
    "            if int(i)==int(Highestmark):\n",
    "                Highcount+=1\n",
    "            if int(i)==int(lowestmark):\n",
    "                lowcount+=1\n",
    "            \n",
    "        average=sum/len(lines)\n",
    "        passpercentage=(passcount/len(lines))*100\n",
    "        failedpercentage=100-passpercentage\n",
    "        distinctionpercentage=(distinction/len(lines))*100\n",
    "        print(\"Class Average:\",average)\n",
    "        print(\"% of passed students:\",passpercentage)\n",
    "        print(\"% of failed students:\",failedpercentage)\n",
    "        print(\"% of distinction:\",distinctionpercentage)\n",
    "        print(\"Highest mark frequency:\",Highcount)\n",
    "        print(\"Lowest mark frequency:\",lowcount)\n",
    "\n",
    "        \n",
    "filepath='DataFiles/marks.txt'\n",
    "generatereport(filepath)"
   ]
  },
  {
   "cell_type": "code",
   "execution_count": null,
   "metadata": {},
   "outputs": [],
   "source": []
  },
  {
   "cell_type": "code",
   "execution_count": 24,
   "metadata": {},
   "outputs": [
    {
     "name": "stdout",
     "output_type": "stream",
     "text": [
      "['new', 'data', '', 'line3', 'line4', 'line5', 'linr', 'new', 'data', 'data', 'in', 'line', '1', 'data', 'in', 'line', '2', 'data', 'in', 'line3']\n"
     ]
    },
    {
     "data": {
      "text/plain": [
       "5"
      ]
     },
     "execution_count": 24,
     "metadata": {},
     "output_type": "execute_result"
    }
   ],
   "source": [
    "import re\n",
    "def iswordexist(filepath,word):\n",
    "    with open(filepath, 'r') as f:\n",
    "        filedata = f.read()\n",
    "        pattern = '[ \\n ]'\n",
    "        x=re.split(pattern,filedata)\n",
    "        print(x)\n",
    "        if word in x:\n",
    "            return x.count(word)\n",
    "        else:\n",
    "            return False\n",
    "   \n",
    "\n",
    "filepath='DataFiles/data.txt'\n",
    "iswordexist(filepath,'data')"
   ]
  },
  {
   "cell_type": "code",
   "execution_count": null,
   "metadata": {},
   "outputs": [
    {
     "name": "stdout",
     "output_type": "stream",
     "text": [
      "asfg1324\n"
     ]
    }
   ],
   "source": [
    "def digitcount(s):\n",
    "    li=[]\n",
    "    for i in range(10):\n",
    "        count=0\n",
    "        for j in range(len(s)):\n",
    "            if s[j]==str(i):\n",
    "                count+=1\n",
    "        li.append(count)\n",
    "    for i in li:\n",
    "        print(i,end=' ')\n",
    "    return\n",
    "s=input()\n",
    "digitcount(s)"
   ]
  },
  {
   "cell_type": "code",
   "execution_count": null,
   "metadata": {},
   "outputs": [],
   "source": []
  }
 ],
 "metadata": {
  "kernelspec": {
   "display_name": "Python 3",
   "language": "python",
   "name": "python3"
  },
  "language_info": {
   "codemirror_mode": {
    "name": "ipython",
    "version": 3
   },
   "file_extension": ".py",
   "mimetype": "text/x-python",
   "name": "python",
   "nbconvert_exporter": "python",
   "pygments_lexer": "ipython3",
   "version": "3.7.3"
  }
 },
 "nbformat": 4,
 "nbformat_minor": 2
}
