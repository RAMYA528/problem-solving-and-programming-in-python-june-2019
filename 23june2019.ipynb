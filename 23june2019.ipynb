{
 "cells": [
  {
   "cell_type": "code",
   "execution_count": 5,
   "metadata": {},
   "outputs": [
    {
     "name": "stdout",
     "output_type": "stream",
     "text": [
      "new data\n",
      "line3\n",
      "line4\n",
      "line5\n",
      "linr\n",
      "new\n",
      "data\n"
     ]
    }
   ],
   "source": [
    "def readfile(filepath):\n",
    "    with open(filepath,'r') as f:\n",
    "        #print(type(f))\n",
    "        filedata=f.read()\n",
    "    return filedata\n",
    "filepath='DataFiles/data.txt'\n",
    "print(readfile(filepath))"
   ]
  },
  {
   "cell_type": "code",
   "execution_count": 15,
   "metadata": {},
   "outputs": [
    {
     "data": {
      "text/plain": [
       "['new', 'data', 'line3', 'line4', 'line5', 'linr', 'new', 'data']"
      ]
     },
     "execution_count": 15,
     "metadata": {},
     "output_type": "execute_result"
    }
   ],
   "source": [
    "import re\n",
    "def wordcountfile(filepath):\n",
    "    pattern='[ \\n]'\n",
    "    filedata=readfile(filepath)\n",
    "    count=len(re.split(pattern,filedata))\n",
    "    return count\n",
    "#filepath='DataFiles/data.txt'\n",
    "#wordcountfile(filepath)\n",
    "\n",
    "import re\n",
    "def wordsfromfile(filepath):\n",
    "    pattern='[ \\n./]'\n",
    "    filedata=readfile(filepath)\n",
    "    allwordslist=re.split(pattern,filedata)\n",
    "    return allwordslist\n",
    "\n",
    "filepath='DataFiles/data.txt'\n",
    "wordsfromfile(filepath)"
   ]
  },
  {
   "cell_type": "code",
   "execution_count": 9,
   "metadata": {},
   "outputs": [
    {
     "data": {
      "text/plain": [
       "['new', 'data', 'line3', 'line4', 'line5', 'linr']"
      ]
     },
     "execution_count": 9,
     "metadata": {},
     "output_type": "execute_result"
    }
   ],
   "source": [
    "#function to print unique word count in a file\n",
    "\n",
    "def uniquewordslist(filepath):\n",
    "    filedata=readfile(filepath).split()\n",
    "    x=[]\n",
    "    for i in filedata:\n",
    "        if i not in x:\n",
    "            x.append(i)\n",
    "            \n",
    "    return x\n",
    "    \n",
    "\n",
    "filepath='DataFiles/data.txt'\n",
    "uniquewordslist(filepath)\n",
    "        "
   ]
  },
  {
   "cell_type": "code",
   "execution_count": 8,
   "metadata": {},
   "outputs": [
    {
     "name": "stdout",
     "output_type": "stream",
     "text": [
      "new : 2 \n",
      "\n",
      "data : 2 \n",
      "\n",
      "line3 : 1 \n",
      "\n",
      "line4 : 1 \n",
      "\n",
      "line5 : 1 \n",
      "\n",
      "linr : 1 \n",
      "\n"
     ]
    }
   ],
   "source": [
    "# Function to print frequency count of all elements in a file\n",
    "#frequency distribution\n",
    "# Data in line 1\n",
    "# Data in line 2\n",
    "# Data in line 3\n",
    "# output\n",
    "# data:3\n",
    "#in:3\n",
    "#line:3\n",
    "#1:1\n",
    "#2:1\n",
    "#3:1\n",
    "\n",
    "def frequencywordcount(filepath):\n",
    "    x=uniquewords(filepath)\n",
    "    filedata=readfile(filepath).split()\n",
    "    for i in x:\n",
    "        count=0\n",
    "        for j in filedata:\n",
    "            if i==j:\n",
    "                count+=1\n",
    "        print(i,\":\",count,'\\n')\n",
    "    return\n",
    "        \n",
    "filepath='DataFiles/data.txt'\n",
    "frequencywordcount(filepath)    \n",
    "\n"
   ]
  },
  {
   "cell_type": "code",
   "execution_count": 19,
   "metadata": {},
   "outputs": [
    {
     "data": {
      "text/plain": [
       "{'new': 2,\n",
       " 'data': 5,\n",
       " '': 1,\n",
       " 'line3': 2,\n",
       " 'line4': 1,\n",
       " 'line5': 1,\n",
       " 'linr': 1,\n",
       " 'in': 3,\n",
       " 'line': 2,\n",
       " '1': 1,\n",
       " '2': 1}"
      ]
     },
     "execution_count": 19,
     "metadata": {},
     "output_type": "execute_result"
    }
   ],
   "source": [
    "def freqdistributionofwords1(filepath):     #with out using dictionaries\n",
    "    #Dictionary to be used\n",
    "        #keys -->unique words\n",
    "        #values -->count of unique words\n",
    "    \n",
    "    #Two lists\n",
    "        #All words list\n",
    "        #unique words list\n",
    "        \n",
    "    # set\n",
    "    allwords=wordsfromfile(filepath)\n",
    "    uniquewords=uniquewordslist(filepath)\n",
    "    for word in uniquewords:\n",
    "        count=allwords.count(word)\n",
    "        print(word,\":\",count)\n",
    "    return\n",
    "filepath=\"DataFiles/data.txt\"  \n",
    "\n",
    "\n",
    "def reqdistributionofwords2(filepath):\n",
    "    allwords=wordsfromfile(filepath)\n",
    "    wordfrequency={}\n",
    "    for word in allwords:\n",
    "        if word not in wordfrequency.keys():\n",
    "            wordfrequency[word]=1\n",
    "        else:\n",
    "            wordfrequency[word]+=1\n",
    "    return wordfrequency\n",
    "\n",
    "filepath=\"DataFiles/data.txt\"  \n",
    "       \n",
    "reqdistributionofwords2(filepath)   "
   ]
  },
  {
   "cell_type": "code",
   "execution_count": null,
   "metadata": {},
   "outputs": [],
   "source": []
  }
 ],
 "metadata": {
  "kernelspec": {
   "display_name": "Python 3",
   "language": "python",
   "name": "python3"
  },
  "language_info": {
   "codemirror_mode": {
    "name": "ipython",
    "version": 3
   },
   "file_extension": ".py",
   "mimetype": "text/x-python",
   "name": "python",
   "nbconvert_exporter": "python",
   "pygments_lexer": "ipython3",
   "version": "3.7.3"
  }
 },
 "nbformat": 4,
 "nbformat_minor": 2
}
