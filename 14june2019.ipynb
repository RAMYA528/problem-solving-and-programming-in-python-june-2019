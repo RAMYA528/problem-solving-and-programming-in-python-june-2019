{
 "cells": [
  {
   "cell_type": "markdown",
   "metadata": {},
   "source": [
    "### Problem Solving and programming in python-Day 4\n",
    "#### Date 14 june 2019\n",
    "#### Day objectives\n",
    "- Python Data structures\n",
    "    - Lists\n",
    "    - Tuples\n",
    "    - Dictionaries\n",
    "- Basic problemset on Data structures\n",
    "- Advanced problem set\n",
    "- packages and modules in python\n"
   ]
  },
  {
   "cell_type": "markdown",
   "metadata": {},
   "source": []
  },
  {
   "cell_type": "markdown",
   "metadata": {},
   "source": [
    "### python Data structures\n",
    "### Lists"
   ]
  },
  {
   "cell_type": "code",
   "execution_count": 64,
   "metadata": {},
   "outputs": [],
   "source": [
    "li=[123,978,345]\n",
    "li  #Access the entire list\n",
    "li[1] #Access an element with index in a list\n",
    "li[1:] #Acess second element to last element\n",
    "li=li[::-1] #save the reverse list in li\n",
    "li\n",
    "li=li[::-1]  #again reverse the list\n",
    "li\n",
    "li[::2] #Accessing even index elements\n",
    "li[1::2] #Accessing odd index elements\n",
    "\n",
    "#lists can be accesssed ,manipulated  in two different ways\n",
    "    #Direct Referencing -Accessing through  [index]\n",
    "    #Indirect Referencing -Accessing through functions\n",
    "li.append(678) #adding an element to end of the list\n",
    "li\n",
    "li.insert(1,234)#adding an element at particular index\n",
    "\n",
    "li.sort() #sort elements in ascending order\n",
    "li\n",
    "li.pop()#Remove the last element in a list,pop()returns deleted element\n",
    "li.pop(1)#Remove the element at a particular index\n",
    "\n",
    "li\n",
    "li2=[234,456,789]\n",
    "li.extend(li2)  #merge list 2 into list1\n",
    "sum(li) #sum of all elements in a list\n",
    "max(li) #maximum element in a list\n",
    "len(li) #number of elements in a list\n",
    "min(li)\n",
    "\n",
    "#Average of list elements\n",
    "sum(li)/len(li)\n",
    "\n",
    "sum(li[::2])/len(li[::2])#average of all alternate elements\n",
    "sum(li[1::2])/len(li[1::2]) #average of alternate elements in odd positions\n",
    "\n"
   ]
  },
  {
   "cell_type": "code",
   "execution_count": 50,
   "metadata": {},
   "outputs": [
    {
     "name": "stdout",
     "output_type": "stream",
     "text": [
      "enter the number3\n"
     ]
    },
    {
     "data": {
      "text/plain": [
       "5"
      ]
     },
     "execution_count": 50,
     "metadata": {},
     "output_type": "execute_result"
    }
   ],
   "source": [
    "#FUnction to identify the second largest element in a list\n",
    "        #sort the data and select the second last element\n",
    "        #sort the data in reverse order and select the second element\n",
    "        #Remove the max element and then get the max\n",
    "def secondlargest(li):\n",
    "    li.sort()\n",
    "    li.pop()\n",
    "    ma=max(li)\n",
    "    return ma\n",
    "#secondlargest([12,56,45])\n",
    "    \n",
    "li=[1,5,6,2,3,8]  \n",
    "n=int(input(\"enter the number\"))\n",
    "def genericlargest(li,n):\n",
    "    li.sort()\n",
    "    li=li[::-1]\n",
    "    return li[n-1]\n",
    "#genericlargest(li,n)\n",
    "    \n",
    "\n",
    "    \n",
    "    \n",
    "    "
   ]
  },
  {
   "cell_type": "code",
   "execution_count": 55,
   "metadata": {},
   "outputs": [
    {
     "data": {
      "text/plain": [
       "5"
      ]
     },
     "execution_count": 55,
     "metadata": {},
     "output_type": "execute_result"
    }
   ],
   "source": [
    "#FUnction to identify the second largest element in a unique list using comparison\n",
    "li=[1,5,6,2,3,8]  \n",
    "def secondlargest(li):\n",
    "    li.sort()\n",
    "    return li[-2]\n",
    "#secondlargest(li)\n",
    "\n",
    "def genericlargest(li,n):\n",
    "    li.sort()\n",
    "    return li[-n]\n",
    "#genericlargest(li,3)\n",
    "    \n",
    "    "
   ]
  },
  {
   "cell_type": "code",
   "execution_count": 73,
   "metadata": {},
   "outputs": [
    {
     "data": {
      "text/plain": [
       "2"
      ]
     },
     "execution_count": 73,
     "metadata": {},
     "output_type": "execute_result"
    }
   ],
   "source": [
    "#Function to search for data in a list\n",
    "#search for the key in the list and return the index,return -1 if key is not found\n",
    "li=[12,34,56,76,24]\n",
    "def linearsearch(li,key):\n",
    "    for index in range(0,len(li)):\n",
    "        if li[index]==key:\n",
    "            return index+1\n",
    "    return -1\n",
    "#linearsearch(li,56)\n",
    "\n",
    "\n",
    "def linearsearch2(li,key):\n",
    "    for element in li:\n",
    "        if element==key:\n",
    "            return li.index(element)\n",
    "    return -1\n",
    "#linearsearch2(li,56)\n",
    "\n",
    "def linearsearch3(li,key):\n",
    "    try:\n",
    "        return li.index(key)\n",
    "    except:\n",
    "        return -1\n",
    "#linearsearch3(li,24)\n",
    "\n",
    "def linearsearch4(li,key):\n",
    "    if key in li:\n",
    "        return li.index(key)\n",
    "    return -1\n",
    "linearsearch4(li,56)\n",
    "\n",
    "\n",
    "\n",
    "        "
   ]
  },
  {
   "cell_type": "code",
   "execution_count": 82,
   "metadata": {},
   "outputs": [
    {
     "data": {
      "text/plain": [
       "2"
      ]
     },
     "execution_count": 82,
     "metadata": {},
     "output_type": "execute_result"
    }
   ],
   "source": [
    "# Function to count the occurances of a character in a string\n",
    "# \"python programming\" ,m --> 2\n",
    "#key=input(\"enter the character\")\n",
    "#word=input(\"enter the word\")\n",
    "def countcharoccurances(word,key):\n",
    "    count=0\n",
    "    for ch in word:\n",
    "        if ch==key:\n",
    "            count+=1\n",
    "    return count\n",
    "#countcharoccurances(word,key)\n",
    "    \n",
    "def countcharoccurances2(s,c):\n",
    "    return s.count(c)\n",
    "#countcharoccurances2(word,key)\n",
    "\n",
    "#Function to find the number of occurances of the substring\n",
    "# \"abcabcddcbaaaa\",\"aa\" ---->3\n",
    "\n",
    "def countsubstringoccurances(s,ss):\n",
    "    count=0\n",
    "    sub_len=len(ss)\n",
    "    for i in range(len(s)):\n",
    "        if s[i:i+sub_len]==ss:\n",
    "            count+=1\n",
    "    return count\n",
    "countsubstringoccurances(\"abababccdab\",\"bab\")\n",
    "    \n",
    "    "
   ]
  },
  {
   "cell_type": "code",
   "execution_count": 84,
   "metadata": {},
   "outputs": [
    {
     "data": {
      "text/plain": [
       "[1, 2, 3, 4, 5, 6]"
      ]
     },
     "execution_count": 84,
     "metadata": {},
     "output_type": "execute_result"
    }
   ],
   "source": [
    "#convert the string in to numbers\n",
    "s=\"1 2 3 4 5 6\"\n",
    "li=s.split()\n",
    "numberlist=[]\n",
    "for i in li:\n",
    "    numberlist.append(int(i))\n",
    "numberlist"
   ]
  },
  {
   "cell_type": "code",
   "execution_count": 86,
   "metadata": {},
   "outputs": [
    {
     "name": "stdout",
     "output_type": "stream",
     "text": [
      "3\n"
     ]
    },
    {
     "data": {
      "text/plain": [
       "14"
      ]
     },
     "execution_count": 86,
     "metadata": {},
     "output_type": "execute_result"
    }
   ],
   "source": [
    "# Function to print sum of squares of n natural numbers\n",
    "n=int(input())\n",
    "def sumSquaresNaturalNumbers(n):\n",
    "    sum=0\n",
    "    for i in range(1,n+1):\n",
    "        sum+=i**2\n",
    "    return sum\n",
    "sumSquaresNaturalNumbers(n)        \n",
    "        \n"
   ]
  },
  {
   "cell_type": "code",
   "execution_count": null,
   "metadata": {},
   "outputs": [],
   "source": []
  },
  {
   "cell_type": "code",
   "execution_count": 5,
   "metadata": {},
   "outputs": [
    {
     "name": "stdout",
     "output_type": "stream",
     "text": [
      "1\n"
     ]
    }
   ],
   "source": [
    "# Function to print the number closest to zero in array,if multiple numbers are there print greater value\n",
    "li=[-1,-2,2,3,1]\n",
    "li.sort()\n",
    "pl=[]\n",
    "for i in li:\n",
    "    pl.append(abs(i))\n",
    "pl.sort()\n",
    "if pl[0] in li:\n",
    "    print(pl[0])\n",
    "else:\n",
    "    print(-pl[0])\n",
    "     "
   ]
  },
  {
   "cell_type": "code",
   "execution_count": 7,
   "metadata": {},
   "outputs": [
    {
     "name": "stdout",
     "output_type": "stream",
     "text": [
      "-1\n"
     ]
    }
   ],
   "source": [
    "# Function to print the number closest to zero in array,if multiple numbers are there print greater value\n",
    "li=[-1,-2,2,3,1]\n",
    "li.sort()\n",
    "pl=[]\n",
    "for i in li:\n",
    "    pl.append(abs(i))\n",
    "pl.sort()\n",
    "if -pl[0] in li:\n",
    "    print(-pl[0])\n",
    "else:\n",
    "    print(pl[0])\n",
    "\n",
    "\n",
    "\n",
    "     "
   ]
  },
  {
   "cell_type": "code",
   "execution_count": 9,
   "metadata": {},
   "outputs": [
    {
     "name": "stdout",
     "output_type": "stream",
     "text": [
      "-100\n"
     ]
    }
   ],
   "source": [
    "# Function to print the number farthest from zero in array\n",
    "#li=[-1,-2,1,-10,9] -->-10\n",
    "li=[-1,-2,2,3,1,-100]\n",
    "li.sort()\n",
    "pl=[]\n",
    "for i in li:\n",
    "    pl.append(abs(i))\n",
    "pl.sort()\n",
    "if pl[-1] in li:\n",
    "    print(pl[-1])\n",
    "else:\n",
    "    print(-pl[-1])"
   ]
  },
  {
   "cell_type": "code",
   "execution_count": 14,
   "metadata": {},
   "outputs": [
    {
     "data": {
      "text/plain": [
       "98"
      ]
     },
     "execution_count": 14,
     "metadata": {},
     "output_type": "execute_result"
    }
   ],
   "source": [
    "#you are given three numbers a,b,c\n",
    "#write a program to find the largestnumber which is less than or equal to c and leaves remainder b when divided by a.\n",
    "# 3,2,9 \n",
    "#9%3==0\n",
    "#8%3==2\n",
    "# 8 is the largest nujmber\n",
    "\n",
    "# 1 2 4\n",
    "#4%1==0\n",
    "#3%1==0\n",
    "#2%1==0\n",
    "#1%1==0\n",
    "\n",
    "def cal(a,b,c):\n",
    "    for i in range(c,a-1,-1):   #c,c-1,..........a\n",
    "        if i%a==b:\n",
    "            return i\n",
    "    return -1\n",
    "cal(3,2,100)"
   ]
  },
  {
   "cell_type": "code",
   "execution_count": 15,
   "metadata": {},
   "outputs": [
    {
     "name": "stdout",
     "output_type": "stream",
     "text": [
      "hiii\n"
     ]
    }
   ],
   "source": [
    "print (\"hiii\")"
   ]
  },
  {
   "cell_type": "code",
   "execution_count": null,
   "metadata": {},
   "outputs": [],
   "source": []
  }
 ],
 "metadata": {
  "kernelspec": {
   "display_name": "Python 3",
   "language": "python",
   "name": "python3"
  },
  "language_info": {
   "codemirror_mode": {
    "name": "ipython",
    "version": 3
   },
   "file_extension": ".py",
   "mimetype": "text/x-python",
   "name": "python",
   "nbconvert_exporter": "python",
   "pygments_lexer": "ipython3",
   "version": "3.7.3"
  }
 },
 "nbformat": 4,
 "nbformat_minor": 2
}
