{
 "cells": [
  {
   "cell_type": "markdown",
   "metadata": {},
   "source": [
    "## Find product"
   ]
  },
  {
   "cell_type": "code",
   "execution_count": 2,
   "metadata": {},
   "outputs": [
    {
     "name": "stdout",
     "output_type": "stream",
     "text": [
      "5\n",
      "1 2 3 4 5\n",
      "120\n"
     ]
    }
   ],
   "source": [
    "#You have been given an array A of size N consisting of positive integers. \n",
    "#You need to find and print the product of all the number in this array Modulo 10**9+7\n",
    "\n",
    "#Input Format:The first line contains a single integer N denoting the size of the array.\n",
    "#The next line contains N space separated integers denoting the elements of the array\n",
    "\n",
    "#Output Format:Print a single integer denoting the product of all the elements of the array Modulo 10**9+7\n",
    "\n",
    "def Findproduct(n,s):\n",
    "    product=1\n",
    "    for i in range(n):\n",
    "        product=(product*int(s[i]))%(10**9+7)\n",
    "    print(product)\n",
    "    \n",
    "n=int(input())\n",
    "s=input().split()\n",
    "\n",
    "Findproduct(n,s)"
   ]
  },
  {
   "cell_type": "markdown",
   "metadata": {},
   "source": [
    "## Cost of baloons"
   ]
  },
  {
   "cell_type": "code",
   "execution_count": 5,
   "metadata": {},
   "outputs": [
    {
     "name": "stdout",
     "output_type": "stream",
     "text": [
      "1\n",
      "2 3\n",
      "3\n",
      "1 0\n",
      "0 1\n",
      "1 1\n",
      "10\n"
     ]
    }
   ],
   "source": [
    "def cost_of_baloons(s,n):\n",
    "    sum1=0\n",
    "    sum2=0\n",
    "    greenbaloon_cost=int(s[0])\n",
    "    purplebaloon_cost=int(s[1])\n",
    "    for i in range(n):\n",
    "        s1=input().split()\n",
    "        first_question=int(s1[0])\n",
    "        second_question=int(s1[1])\n",
    "        sum1+=(greenbaloon_cost*first_question)+(purplebaloon_cost*second_question)\n",
    "        sum2+=(purplebaloon_cost*first_question)+(greenbaloon_cost*second_question)\n",
    "    if sum1<sum2:\n",
    "        print(sum1)\n",
    "    else:\n",
    "        print(sum2)\n",
    "        \n",
    "t=int(input())\n",
    "for i in range(t):\n",
    "    s=input().split()\n",
    "    n=int(input())\n",
    "    cost_of_baloons(s,n)"
   ]
  },
  {
   "cell_type": "markdown",
   "metadata": {},
   "source": [
    "## Hello kirti"
   ]
  },
  {
   "cell_type": "code",
   "execution_count": 6,
   "metadata": {},
   "outputs": [
    {
     "name": "stdout",
     "output_type": "stream",
     "text": [
      "Hello Kirti\n"
     ]
    }
   ],
   "source": [
    "#Kirti is new to programming and she doesn't know how to code.\n",
    "#Can you write a code, which would print \"Hello Kirti\" on the screen.\n",
    "\n",
    "print(\"Hello Kirti\")"
   ]
  },
  {
   "cell_type": "code",
   "execution_count": null,
   "metadata": {},
   "outputs": [],
   "source": []
  },
  {
   "cell_type": "markdown",
   "metadata": {},
   "source": [
    "## Book of potion making"
   ]
  },
  {
   "cell_type": "code",
   "execution_count": 7,
   "metadata": {},
   "outputs": [
    {
     "name": "stdout",
     "output_type": "stream",
     "text": [
      "1401601499\n",
      "Legal ISBN\n"
     ]
    }
   ],
   "source": [
    "#Input:Input the ISBN code as a 10-digit integer.\n",
    "\n",
    "#Output:If the ISBN is not a 10-digit integer, output the message “Illegal ISBN” and terminate the program.\n",
    "#If the number is 10-digit, extract the digits of the number and compute the sum as explained in the explanation.\n",
    "#If the sum is divisible by 11, output the message, “Legal ISBN”. \n",
    "#If the sum is not divisible by 11, output the message, “Illegal ISBN”.\n",
    "\n",
    "#For an ISBN 1401601499\n",
    "#Sum=1×1 + 2×4 + 3×0 + 4×1 + 5×6 + 6×0 + 7×1 + 8×4 + 9×9 + 10×9 = 253 which is divisible by 11.\n",
    "\n",
    "N=input()\n",
    "def isbn(N):\n",
    "    sum=0\n",
    "    if len(N)!=10:\n",
    "        print(\"Illegal ISBN\")\n",
    "    else:\n",
    "        \n",
    "        for j in range(1,len(N)+1):\n",
    "            for i in N:\n",
    "                sum+=(int(i)*j)\n",
    "        if sum%11==0:\n",
    "            print(\"Legal ISBN\")\n",
    "        else:\n",
    "            print(\"Illegal ISBN\")\n",
    "            \n",
    "            \n",
    "isbn(N)       "
   ]
  },
  {
   "cell_type": "markdown",
   "metadata": {},
   "source": [
    "## Anagrams"
   ]
  },
  {
   "cell_type": "code",
   "execution_count": 8,
   "metadata": {},
   "outputs": [
    {
     "name": "stdout",
     "output_type": "stream",
     "text": [
      "1\n",
      "abc\n",
      "cde\n",
      "4\n"
     ]
    }
   ],
   "source": [
    "#Given two strings, a and b , that may or may not be of the same length,\n",
    "#determine the minimum number of character deletions required to make a and b anagrams.\n",
    "#Any characters can be deleted from either of the strings.\n",
    "\n",
    "#Input :test cases,t\n",
    "#two strings a and b, for each test case\n",
    "\n",
    "#Anagram of a word is formed by rearranging the letters of the word.\n",
    "\n",
    "#For e.g. -> For the word RAM - MAR,ARM,AMR,RMA etc. are few anagrams.\n",
    "\n",
    "def Anagrams(s,t):\n",
    "    x=[]\n",
    "    x1=[]\n",
    "    x2=[]\n",
    "    temp=97\n",
    "    for i in range(26):\n",
    "       x1.append(s.count(chr(temp)))\n",
    "       x2.append(t.count(chr(temp)))\n",
    "       temp+=1\n",
    "    for j in range(26):\n",
    "        x.append(abs(x2[j]-x1[j]))\n",
    "    return sum(x)\n",
    "    \n",
    "\n",
    "            \n",
    "t=int(input())        \n",
    "for i in range(t):\n",
    "    s=input()\n",
    "    t=input()\n",
    "    print(Anagrams(s,t))"
   ]
  },
  {
   "cell_type": "markdown",
   "metadata": {},
   "source": [
    "## Aman & Mr.Sharma"
   ]
  },
  {
   "cell_type": "code",
   "execution_count": null,
   "metadata": {},
   "outputs": [],
   "source": [
    "#On a distant planet far away from Earth lives a boy named Aman.He loves to run everyday.\n",
    "#But his running distance is directly affected by how much horlicks his mother mixed in his milk today.\n",
    "#If his mother has mixed x grams of horlicks,then Aman will be capable of running 100*x meters at most on that day.\n",
    "\n",
    "#Aman's instructor, Mr.Sharma ,is a very strict yet very caring.Everyday he asks Aman to run around a circle of radius r once.\n",
    "#If Aman is able to complete the circle,he would get a toffee.\n",
    "\n",
    "#INPUT:First line contains d,no. of days Aman goes to his instructor.\n",
    "#Next d lines each contain r,radius of circle and x,amount of horlicks.\n",
    "\n",
    "#OUTPUT:Print total number of toffees Aman would finally have at the end of d days.\n",
    "\n",
    "def horlicks(d):\n",
    "    toffee=0\n",
    "    for i in range(d):\n",
    "        s=input().split()\n",
    "        r=int(s[0])\n",
    "        x=int(s[1])\n",
    "        if (2*(22/7)*r)<=(100*x):\n",
    "            toffee+=1\n",
    "    print(toffee)\n",
    "\n",
    "  \n",
    "d=int(input())\n",
    "horlicks(d)  "
   ]
  },
  {
   "cell_type": "code",
   "execution_count": null,
   "metadata": {},
   "outputs": [],
   "source": []
  }
 ],
 "metadata": {
  "kernelspec": {
   "display_name": "Python 3",
   "language": "python",
   "name": "python3"
  },
  "language_info": {
   "codemirror_mode": {
    "name": "ipython",
    "version": 3
   },
   "file_extension": ".py",
   "mimetype": "text/x-python",
   "name": "python",
   "nbconvert_exporter": "python",
   "pygments_lexer": "ipython3",
   "version": "3.7.3"
  }
 },
 "nbformat": 4,
 "nbformat_minor": 2
}
