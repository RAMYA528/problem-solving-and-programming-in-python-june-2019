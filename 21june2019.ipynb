{
 "cells": [
  {
   "cell_type": "markdown",
   "metadata": {},
   "source": [
    "## Lift queries"
   ]
  },
  {
   "cell_type": "code",
   "execution_count": 26,
   "metadata": {},
   "outputs": [
    {
     "name": "stdout",
     "output_type": "stream",
     "text": [
      "2\n",
      "4\n",
      "B\n",
      "3\n",
      "B\n"
     ]
    }
   ],
   "source": [
    "#There are 7 floors in BH3 and only 2 lifts. Initially Lift A is at the ground floor and Lift B at the top floor. \n",
    "#Whenever someone calls the lift from N th floor, the lift closest to that floor comes to pick him up. \n",
    "#If both the lifts are at equidistant from the N th floor, them the lift from the lower floor comes up.\n",
    "\n",
    "#INPUT:First line contains a integer T denoting the number of test cases.\n",
    "\n",
    "#Next T lines contains a single integer N denoting the floor from which lift is called.\n",
    "\n",
    "#OUTPUT:Output T lines containing one character \"A\" if the first lift goes to N th floor or \"B\" for the second lift.\n",
    "\n",
    "def Lift(T):\n",
    "    A=0\n",
    "    B=7\n",
    "    for i in range(T):\n",
    "        N=int(input())\n",
    "        if abs(N-A)<abs(N-B):\n",
    "            A=N\n",
    "            print(\"A\")\n",
    "        elif abs(N-A)>abs(N-B):\n",
    "            B=N\n",
    "            print(\"B\")\n",
    "        elif abs(N-A)==abs(N-B):\n",
    "            if A<B:\n",
    "                print(\"A\")\n",
    "                A=N\n",
    "            elif B<A:\n",
    "                print(\"B\")\n",
    "                B=N\n",
    "    return\n",
    "    \n",
    "T=int(input())\n",
    "Lift(T)\n",
    "    "
   ]
  },
  {
   "cell_type": "code",
   "execution_count": 25,
   "metadata": {},
   "outputs": [
    {
     "name": "stdout",
     "output_type": "stream",
     "text": [
      "1\n",
      "6\n",
      "AFREEN\n",
      "CGSCCO"
     ]
    }
   ],
   "source": [
    "def magicalword(s,n):\n",
    "    li=[]\n",
    "    for i in range(n):\n",
    "        r=minimum(s[i])\n",
    "        li.append(chr(r))\n",
    "    for i in li:\n",
    "        print(i,end='')\n",
    "    return\n",
    "    \n",
    "    \n",
    "def minimum(s):\n",
    "    li=[67,71,73,79,83,89]\n",
    "    m=abs(89-(ord(s)))\n",
    "    \n",
    "    for j in li:\n",
    "        min=abs(j-(ord(s)))\n",
    "        if min<m:\n",
    "            m=min\n",
    "            n=j\n",
    "    return n\n",
    "        \n",
    "        \n",
    "        \n",
    "t=int(input())\n",
    "for i in range(t):\n",
    "    n=int(input())\n",
    "    s=input()\n",
    "    magicalword(s,n)"
   ]
  },
  {
   "cell_type": "code",
   "execution_count": 7,
   "metadata": {},
   "outputs": [
    {
     "name": "stdout",
     "output_type": "stream",
     "text": [
      "name3 added to contacts\n"
     ]
    }
   ],
   "source": [
    "# Function to add contact to contacts text file\n",
    "from packages.validators import phonenumbervalidator as pnv ,EmailValidator as ev\n",
    "\n",
    "\n",
    "def addContact(name, phone, email):\n",
    "    # store data as name,phone,email in the contacts file    \n",
    "    filename = 'DataFiles/contacts.txt'\n",
    "    if not checkContactExists(name):\n",
    "        if (pnv(str(phone)) and ev(email)):\n",
    "            with open(filename, 'a') as f:\n",
    "                line = name + ',' + str(phone) + ',' + email + '\\n'\n",
    "                f.write(line)\n",
    "            print(name, 'added to contacts')\n",
    "        else:\n",
    "            print('Invalid Phone number or Email')\n",
    "        \n",
    "    else:\n",
    "        print(name, 'already exists')\n",
    "    return\n",
    "\n",
    "import re\n",
    "# Function to check if contact already exists\n",
    "def checkContactExists(name):\n",
    "    filename = 'DataFiles/contacts.txt'\n",
    "    with open(filename, 'r') as f:\n",
    "        filedata = f.read()\n",
    "        pattern = name+','\n",
    "    return re.search(pattern, filedata)\n",
    "\n",
    "addContact('name3', 8765432109, 'name2_34@gmail.com')\n"
   ]
  },
  {
   "cell_type": "code",
   "execution_count": 18,
   "metadata": {},
   "outputs": [
    {
     "name": "stdout",
     "output_type": "stream",
     "text": [
      "[['name1', '9876543210', 'name1_23@gmail.com\\n'], ['name2', '8765432109', 'name2_34@gmail.com\\n'], ['name3', '8765432109', 'name2_34@gmail.com\\n']]\n"
     ]
    },
    {
     "data": {
      "text/plain": [
       "'name19876543210name1_23@gmail.com\\nname2name19876543210name1_23@gmail.com\\n8765432109name19876543210name1_23@gmail.com\\nname2_34@gmail.com\\nname3name19876543210name1_23@gmail.com\\nname2name19876543210name1_23@gmail.com\\n8765432109name19876543210name1_23@gmail.com\\nname2_34@gmail.com\\n8765432109name19876543210name1_23@gmail.com\\nname2name19876543210name1_23@gmail.com\\n8765432109name19876543210name1_23@gmail.com\\nname2_34@gmail.com\\nname2_34@gmail.com\\n'"
      ]
     },
     "execution_count": 18,
     "metadata": {},
     "output_type": "execute_result"
    }
   ],
   "source": [
    "#function to convert file to list\n",
    "filename='DataFiles/contacts.txt'\n",
    "def csvToList(filename):\n",
    "    li=[]\n",
    "    with open(filename,'r') as f:\n",
    "        for line in f:\n",
    "            li.append(line.split(','))\n",
    "    return li\n",
    "print(csvToList(filename))\n",
    "\n",
    "\n",
    "def listToFile(li):\n",
    "    s=''\n",
    "    for i in li:\n",
    "        s+=s.join(i)\n",
    "    return s\n",
    "\n",
    "li=csvToList(filename)\n",
    "listToFile(li)"
   ]
  },
  {
   "cell_type": "code",
   "execution_count": null,
   "metadata": {},
   "outputs": [],
   "source": []
  },
  {
   "cell_type": "code",
   "execution_count": 24,
   "metadata": {},
   "outputs": [
    {
     "name": "stdout",
     "output_type": "stream",
     "text": [
      "[['name1', '9876543210', 'name1_23@gmail.com\\n'], ['name2', '9705940600', 'apssdc@dfg.com'], ['name3', '8765432109', 'name2_34@gmail.com\\n']]\n",
      "contact modified successfully\n"
     ]
    }
   ],
   "source": [
    "def modifycontact(name):\n",
    "    if checkContactExists(name):\n",
    "        filename='DataFiles/contacts.txt'\n",
    "        li=csvToList(filename)\n",
    "        x=li[0]\n",
    "        y=li[1]\n",
    "        z=li[2]\n",
    "        if name==x[0]:\n",
    "            x[1]='9705940600'\n",
    "            x[2]=\"apssdc@dfg.com\"\n",
    "        elif name==y[0]:\n",
    "            y[1]='9705940600'\n",
    "            y[2]=\"apssdc@dfg.com\"\n",
    "        elif name==z[0]:\n",
    "            z[1]='9705940600'\n",
    "            z[2]=\"apssdc@dfg.com\"\n",
    "        li=[]\n",
    "        li.append(x)\n",
    "        li.append(y)\n",
    "        li.append(z)\n",
    "        print(li)\n",
    "        \n",
    "        print(\"contact modified successfully\")\n",
    "        \n",
    "    else:\n",
    "        print(\"contact does not exist\")\n",
    "modifycontact(\"name2\")\n",
    "\n",
    "\n"
   ]
  },
  {
   "cell_type": "code",
   "execution_count": null,
   "metadata": {},
   "outputs": [],
   "source": []
  },
  {
   "cell_type": "code",
   "execution_count": null,
   "metadata": {},
   "outputs": [],
   "source": []
  }
 ],
 "metadata": {
  "kernelspec": {
   "display_name": "Python 3",
   "language": "python",
   "name": "python3"
  },
  "language_info": {
   "codemirror_mode": {
    "name": "ipython",
    "version": 3
   },
   "file_extension": ".py",
   "mimetype": "text/x-python",
   "name": "python",
   "nbconvert_exporter": "python",
   "pygments_lexer": "ipython3",
   "version": "3.7.3"
  }
 },
 "nbformat": 4,
 "nbformat_minor": 2
}
